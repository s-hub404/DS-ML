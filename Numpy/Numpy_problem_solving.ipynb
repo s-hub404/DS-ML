{
  "nbformat": 4,
  "nbformat_minor": 0,
  "metadata": {
    "colab": {
      "name": "Numpy_problem_solving.ipynb",
      "provenance": [],
      "collapsed_sections": []
    },
    "kernelspec": {
      "name": "python3",
      "display_name": "Python 3"
    },
    "language_info": {
      "name": "python"
    }
  },
  "cells": [
    {
      "cell_type": "code",
      "execution_count": 1,
      "metadata": {
        "id": "7guzY3_H7Oks"
      },
      "outputs": [],
      "source": [
        "import numpy as np"
      ]
    },
    {
      "cell_type": "markdown",
      "source": [
        "#NumPy Arrays are faster than Python Lists because of the following reasons:\n",
        "\n",
        "An array is a collection of homogeneous data-types that are stored in contiguous memory locations. On the other hand, a list in Python is a collection of heterogeneous data types stored in non-contiguous memory locations.\n",
        "The NumPy package breaks down a task into multiple fragments and then processes all the fragments parallelly.\n",
        "The NumPy package integrates C, C++, and Fortran codes in Python. These programming languages have very little execution time compared to Python."
      ],
      "metadata": {
        "id": "WknCTvuz75O1"
      }
    },
    {
      "cell_type": "markdown",
      "source": [
        "#Try this:\n",
        "\n",
        "a. What is the last element of the output?\n",
        "\n",
        "print(np.sort(np.array(['Ram','Astha','Raghavendra'])))\n",
        "\n",
        "b. What is the output of the below code snippet?\n",
        "\n",
        "arr1=np.array(['Ram','Astha','Brahat'])\n",
        "\n",
        "arr2=np.array(['Shyam','Kalyan','Naveen'])\n",
        "\n",
        "arr1>arr2\n"
      ],
      "metadata": {
        "id": "DUrbhsbl8ItA"
      }
    },
    {
      "cell_type": "code",
      "source": [
        "# part A\n",
        "\n",
        "print(np.sort(np.array(['Ram','Astha','Raghavendra'])))"
      ],
      "metadata": {
        "colab": {
          "base_uri": "https://localhost:8080/"
        },
        "id": "RPEHmRb48tdF",
        "outputId": "5dce592c-cf3a-49bc-95e9-fc4fd656e68d"
      },
      "execution_count": 2,
      "outputs": [
        {
          "output_type": "stream",
          "name": "stdout",
          "text": [
            "['Astha' 'Raghavendra' 'Ram']\n"
          ]
        }
      ]
    },
    {
      "cell_type": "code",
      "source": [
        "# part B\n",
        "\n",
        "arr1=np.array(['Ram','Astha','Brahat'])\n",
        "arr2=np.array(['Shyam','Kalyan','Naveen'])\n",
        "arr1>arr2"
      ],
      "metadata": {
        "colab": {
          "base_uri": "https://localhost:8080/"
        },
        "id": "kEqxcT8X88RH",
        "outputId": "5809ce7f-b164-42fc-a6eb-4d0724ac7bf1"
      },
      "execution_count": 3,
      "outputs": [
        {
          "output_type": "execute_result",
          "data": {
            "text/plain": [
              "array([False, False, False])"
            ]
          },
          "metadata": {},
          "execution_count": 3
        }
      ]
    },
    {
      "cell_type": "markdown",
      "source": [
        "**Problem**:\n",
        "\n",
        "For below arrays a and b:\n",
        "\n",
        "a = np.zeros(27).reshape(3, 3, 3)  \n",
        "b = np.arange(9).reshape(3, 3)  \n",
        "Which of the following code snippets will give the same output as a+b?\n",
        "\n",
        "Note: np.newaxis is used to create a new axis in the mentioned dimension.\n"
      ],
      "metadata": {
        "id": "qrAdjzQ1-Mgy"
      }
    },
    {
      "cell_type": "code",
      "source": [
        "a = np.zeros(27).reshape(3, 3, 3)\n",
        "b = np.arange(9).reshape(3, 3)\n",
        "print(a)\n",
        "print(b)"
      ],
      "metadata": {
        "colab": {
          "base_uri": "https://localhost:8080/"
        },
        "id": "6VH2Yplv-LbU",
        "outputId": "231132a4-f044-47e2-dd61-9ce3bddf6e24"
      },
      "execution_count": 4,
      "outputs": [
        {
          "output_type": "stream",
          "name": "stdout",
          "text": [
            "[[[0. 0. 0.]\n",
            "  [0. 0. 0.]\n",
            "  [0. 0. 0.]]\n",
            "\n",
            " [[0. 0. 0.]\n",
            "  [0. 0. 0.]\n",
            "  [0. 0. 0.]]\n",
            "\n",
            " [[0. 0. 0.]\n",
            "  [0. 0. 0.]\n",
            "  [0. 0. 0.]]]\n",
            "[[0 1 2]\n",
            " [3 4 5]\n",
            " [6 7 8]]\n"
          ]
        }
      ]
    },
    {
      "cell_type": "code",
      "source": [
        "a + b[np.newaxis, :, :]"
      ],
      "metadata": {
        "colab": {
          "base_uri": "https://localhost:8080/"
        },
        "id": "J1QagK5dAE8W",
        "outputId": "5f9fc528-7034-4b31-ee3a-7bb9d1b1b723"
      },
      "execution_count": 5,
      "outputs": [
        {
          "output_type": "execute_result",
          "data": {
            "text/plain": [
              "array([[[0., 1., 2.],\n",
              "        [3., 4., 5.],\n",
              "        [6., 7., 8.]],\n",
              "\n",
              "       [[0., 1., 2.],\n",
              "        [3., 4., 5.],\n",
              "        [6., 7., 8.]],\n",
              "\n",
              "       [[0., 1., 2.],\n",
              "        [3., 4., 5.],\n",
              "        [6., 7., 8.]]])"
            ]
          },
          "metadata": {},
          "execution_count": 5
        }
      ]
    },
    {
      "cell_type": "markdown",
      "source": [
        "a + b[np.newaxis, :, :] will work here,\n",
        "\n",
        "b.shape= (3,3) and b[np.newaxis,:,:].shape=(1,3,3) at axis=0 a new dimension is expanded.\n",
        "\n",
        "a.shape= (3,3,3), at axis=1 and axis=2 b[np.newaxis,:,:] has same dimension, therefore updated b array is broadcasted to axis=0"
      ],
      "metadata": {
        "id": "q53AHQD7Beja"
      }
    },
    {
      "cell_type": "markdown",
      "source": [
        "**Problem**:\n",
        "\n",
        "Given a Numpy array of integers as input to the function, complete the given function that converts each element in the array into its binary representation.\n",
        "\n",
        "For example: In binary, 5 = 101, 7= 111, 10= 1010.\n",
        "\n",
        "Note: You are not allowed to use the inbuilt bin() function and Both input and output array are of datatype 'int'.\n",
        "\n",
        "Sample Input:  \n",
        "input = array([[2,3,4],  \n",
        "               [5,6,7]])  \n",
        "\n",
        "Sample Output:  \n",
        "output = array([[01,11,100],  \n",
        "               [101,110,111]]) "
      ],
      "metadata": {
        "id": "XkyKAWsxYqTZ"
      }
    },
    {
      "cell_type": "code",
      "source": [
        "arr = np.array([[2,3,4],\n",
        "                [5,6,7]])\n",
        "\n",
        "def binary(arr):\n",
        "\n",
        "\n",
        "  binary_repr_v = np.vectorize(np.binary_repr)\n",
        "  # vectorize func basically helps to iterate the given function(binary_repr) for all the elements in the numpy array.\n",
        "  return binary_repr_v(arr)\n",
        "\n",
        "print(binary(arr))"
      ],
      "metadata": {
        "colab": {
          "base_uri": "https://localhost:8080/"
        },
        "id": "QREvuafuBoDY",
        "outputId": "7e451b3b-6777-4861-baf3-208fd2425c03"
      },
      "execution_count": 6,
      "outputs": [
        {
          "output_type": "stream",
          "name": "stdout",
          "text": [
            "[['10' '11' '100']\n",
            " ['101' '110' '111']]\n"
          ]
        }
      ]
    }
  ]
}