{
  "cells": [
    {
      "cell_type": "markdown",
      "metadata": {
        "id": "4fhvQezU1tzh"
      },
      "source": [
        "# Numpy-II Notes"
      ],
      "id": "4fhvQezU1tzh"
    },
    {
      "cell_type": "markdown",
      "metadata": {
        "id": "axTfX41Q1tzv"
      },
      "source": [
        "## Content\n",
        "\n",
        "\n",
        "- **Universal Functions (ufunc)**\n",
        "    - Aggregate Function/ Reduction functions - `sum()`, `mean()`, `min()`, `max()`\n",
        "    - Logical functions - `any()` , `all()`\n",
        "    - Sorting function - `sort()`, `argsort()`\n",
        "    \n",
        "    \n",
        "- **Use Case: Fitness Data analysis**\n",
        "    - Loading data set and EDA using numpy\n",
        "    - `np.unique()`\n",
        "    - `argmin()`, `argmax()`\n",
        "\n",
        "\n",
        "- **Operations on Numpy Arrays** \n",
        "    - Algebric operations on np arrays with single numbers\n",
        "    - Operations on two or more np arrays\n",
        "    - Matrix Multiplication - `matmul()`, `@`, `dot()`\n",
        "\n",
        "\n",
        "- **Vectorization** \n",
        "    - `np.vectorize()`\n",
        "\n",
        "\n",
        "- **Broadcasting**\n",
        "    - `np.tile()` , `np.newaxis`\n",
        "\n",
        "\n",
        "\n"
      ],
      "id": "axTfX41Q1tzv"
    },
    {
      "cell_type": "markdown",
      "metadata": {
        "id": "10f4f980"
      },
      "source": [
        "## Aggregate / Universal Functions (`ufunc`)"
      ],
      "id": "10f4f980"
    },
    {
      "cell_type": "markdown",
      "metadata": {
        "id": "cf97f42a"
      },
      "source": [
        "#### Numpy universal functions are objects that belongs to `numpy.ufunc` class.\n",
        "\n",
        "- Some ufuncs are **called automatically when the corresponding \"arithmetic operator\" is used on arrays**.\n",
        "\n",
        "\n",
        "#### For example:\n",
        "- When **addition of two array** is performed **element-wise** using `+` operator, then **np.add() is called internally.**"
      ],
      "id": "cf97f42a"
    },
    {
      "cell_type": "code",
      "execution_count": null,
      "metadata": {
        "colab": {
          "base_uri": "https://localhost:8080/"
        },
        "id": "f61a8cbb",
        "outputId": "c435f2e2-34b8-4fc2-c860-c0ea7bd90a6c"
      },
      "outputs": [
        {
          "data": {
            "text/plain": [
              "array([ 6,  8, 10, 12])"
            ]
          },
          "execution_count": 10,
          "metadata": {},
          "output_type": "execute_result"
        }
      ],
      "source": [
        "a = np.array([1,2,3,4])\n",
        "b = np.array([5,6,7,8])\n",
        "a+b  # ufunc `np.add()` called automatically"
      ],
      "id": "f61a8cbb"
    },
    {
      "cell_type": "code",
      "execution_count": null,
      "metadata": {
        "colab": {
          "base_uri": "https://localhost:8080/"
        },
        "id": "162d3c6a",
        "outputId": "cda987af-fc17-407d-f83f-6dd91ed44751"
      },
      "outputs": [
        {
          "data": {
            "text/plain": [
              "array([ 6,  8, 10, 12])"
            ]
          },
          "execution_count": 11,
          "metadata": {},
          "output_type": "execute_result"
        }
      ],
      "source": [
        "np.add(a,b)"
      ],
      "id": "162d3c6a"
    },
    {
      "cell_type": "markdown",
      "metadata": {
        "id": "TLEfnDyRj-U-"
      },
      "source": [
        "### Aggregate Functions/ Reduction functions"
      ],
      "id": "TLEfnDyRj-U-"
    },
    {
      "cell_type": "markdown",
      "metadata": {
        "id": "36d2c4c6"
      },
      "source": [
        "\n",
        "#### `np.sum()`"
      ],
      "id": "36d2c4c6"
    },
    {
      "cell_type": "code",
      "execution_count": null,
      "metadata": {
        "colab": {
          "base_uri": "https://localhost:8080/"
        },
        "id": "cabc7e1f",
        "outputId": "b394efd0-4562-4a58-e796-e07531d90574"
      },
      "outputs": [
        {
          "data": {
            "text/plain": [
              "array([[ 0,  1,  2,  3],\n",
              "       [ 4,  5,  6,  7],\n",
              "       [ 8,  9, 10, 11]])"
            ]
          },
          "execution_count": 12,
          "metadata": {},
          "output_type": "execute_result"
        }
      ],
      "source": [
        "a = np.arange(12).reshape(3, 4)\n",
        "a"
      ],
      "id": "cabc7e1f"
    },
    {
      "cell_type": "code",
      "execution_count": null,
      "metadata": {
        "id": "26ff89b9",
        "outputId": "53dc5bb8-6ab7-4a74-e45a-9b2f967d65e1"
      },
      "outputs": [
        {
          "data": {
            "text/plain": [
              "66"
            ]
          },
          "execution_count": 157,
          "metadata": {},
          "output_type": "execute_result"
        }
      ],
      "source": [
        "np.sum(a)  # sums all the values present in array"
      ],
      "id": "26ff89b9"
    },
    {
      "cell_type": "markdown",
      "metadata": {
        "id": "1955d7d4"
      },
      "source": [
        "#### We can do row-wise and column-wise sum by setting `axis` parameter\n",
        "\n",
        "- **`axis = 0` ---> Changes will happen along the vertical axis**\n",
        "- Summing of values happen **in the vertical direction**\n"
      ],
      "id": "1955d7d4"
    },
    {
      "cell_type": "code",
      "execution_count": null,
      "metadata": {
        "id": "a87cc8db",
        "outputId": "a45bfabc-a6e0-4a38-8b8c-2056b9232040"
      },
      "outputs": [
        {
          "data": {
            "text/plain": [
              "array([12, 15, 18, 21])"
            ]
          },
          "execution_count": 158,
          "metadata": {},
          "output_type": "execute_result"
        }
      ],
      "source": [
        "np.sum(a, axis=0)"
      ],
      "id": "a87cc8db"
    },
    {
      "cell_type": "markdown",
      "metadata": {
        "id": "e518c042"
      },
      "source": [
        "- **`axis = 1` ---> Changes will happen along the horizontal axis**\n",
        "- Summing of values happen **in the horizontal direction**"
      ],
      "id": "e518c042"
    },
    {
      "cell_type": "code",
      "execution_count": null,
      "metadata": {
        "id": "8d7587cb",
        "outputId": "247f8164-26c7-49c2-f9c6-62b5bc908e87"
      },
      "outputs": [
        {
          "data": {
            "text/plain": [
              "array([ 6, 22, 38])"
            ]
          },
          "execution_count": 159,
          "metadata": {},
          "output_type": "execute_result"
        }
      ],
      "source": [
        "np.sum(a, axis=1)"
      ],
      "id": "8d7587cb"
    },
    {
      "cell_type": "markdown",
      "metadata": {
        "id": "d4638723"
      },
      "source": [
        "***"
      ],
      "id": "d4638723"
    },
    {
      "cell_type": "markdown",
      "metadata": {
        "id": "80fcf497"
      },
      "source": [
        "\n",
        "\n",
        "#### `np.mean()`\n"
      ],
      "id": "80fcf497"
    },
    {
      "cell_type": "code",
      "execution_count": null,
      "metadata": {
        "id": "225a1264",
        "outputId": "9d7501a7-77ef-4c1f-d402-6e03d736b361"
      },
      "outputs": [
        {
          "data": {
            "text/plain": [
              "5.5"
            ]
          },
          "execution_count": 160,
          "metadata": {},
          "output_type": "execute_result"
        }
      ],
      "source": [
        "np.mean(a)"
      ],
      "id": "225a1264"
    },
    {
      "cell_type": "code",
      "execution_count": null,
      "metadata": {
        "id": "0acf241c",
        "outputId": "78293d95-68e9-4714-cae4-db2705c29834"
      },
      "outputs": [
        {
          "data": {
            "text/plain": [
              "array([4., 5., 6., 7.])"
            ]
          },
          "execution_count": 163,
          "metadata": {},
          "output_type": "execute_result"
        }
      ],
      "source": [
        "np.mean(a, axis=0)"
      ],
      "id": "0acf241c"
    },
    {
      "cell_type": "code",
      "execution_count": null,
      "metadata": {
        "id": "ff4a128a",
        "outputId": "89c3370f-9ec0-42c2-b9bf-4f9679343e09"
      },
      "outputs": [
        {
          "data": {
            "text/plain": [
              "array([1.5, 5.5, 9.5])"
            ]
          },
          "execution_count": 164,
          "metadata": {},
          "output_type": "execute_result"
        }
      ],
      "source": [
        "np.mean(a, axis=1)"
      ],
      "id": "ff4a128a"
    },
    {
      "cell_type": "markdown",
      "metadata": {
        "id": "8iQNMU2JoLk4"
      },
      "source": [
        "#### `np.min()` "
      ],
      "id": "8iQNMU2JoLk4"
    },
    {
      "cell_type": "code",
      "execution_count": null,
      "metadata": {
        "colab": {
          "base_uri": "https://localhost:8080/"
        },
        "id": "avQYEZ80oz_B",
        "outputId": "f3bccbfa-d638-4688-9eaa-12fa95e944a8"
      },
      "outputs": [
        {
          "data": {
            "text/plain": [
              "array([[ 0,  1,  2,  3],\n",
              "       [ 4,  5,  6,  7],\n",
              "       [ 8,  9, 10, 11]])"
            ]
          },
          "execution_count": 14,
          "metadata": {},
          "output_type": "execute_result"
        }
      ],
      "source": [
        "a"
      ],
      "id": "avQYEZ80oz_B"
    },
    {
      "cell_type": "code",
      "execution_count": null,
      "metadata": {
        "colab": {
          "base_uri": "https://localhost:8080/"
        },
        "id": "4ZiYTSAHox4e",
        "outputId": "1e22edde-3772-4f1b-a7c1-768b89b0429e"
      },
      "outputs": [
        {
          "data": {
            "text/plain": [
              "0"
            ]
          },
          "execution_count": 13,
          "metadata": {},
          "output_type": "execute_result"
        }
      ],
      "source": [
        "np.min(a)"
      ],
      "id": "4ZiYTSAHox4e"
    },
    {
      "cell_type": "code",
      "execution_count": null,
      "metadata": {
        "colab": {
          "base_uri": "https://localhost:8080/"
        },
        "id": "xH_pwMfrpBxm",
        "outputId": "e03399ee-02c0-49d6-e3e9-0f6ece47ee91"
      },
      "outputs": [
        {
          "data": {
            "text/plain": [
              "array([0, 4, 8])"
            ]
          },
          "execution_count": 15,
          "metadata": {},
          "output_type": "execute_result"
        }
      ],
      "source": [
        "np.min(a, axis = 1 )"
      ],
      "id": "xH_pwMfrpBxm"
    },
    {
      "cell_type": "markdown",
      "metadata": {
        "id": "9gkV6NvQpF0M"
      },
      "source": [
        "\n",
        "\n",
        "#### **`np.max()`** \n"
      ],
      "id": "9gkV6NvQpF0M"
    },
    {
      "cell_type": "code",
      "execution_count": null,
      "metadata": {
        "colab": {
          "base_uri": "https://localhost:8080/"
        },
        "id": "ftQ26kYVpeQd",
        "outputId": "b6608487-eeb6-4e3c-a6e8-8c39d63d7c6a",
        "scrolled": true
      },
      "outputs": [
        {
          "data": {
            "text/plain": [
              "array([[ 0,  1,  2,  3],\n",
              "       [ 4,  5,  6,  7],\n",
              "       [ 8,  9, 10, 11]])"
            ]
          },
          "execution_count": 16,
          "metadata": {},
          "output_type": "execute_result"
        }
      ],
      "source": [
        "a"
      ],
      "id": "ftQ26kYVpeQd"
    },
    {
      "cell_type": "code",
      "execution_count": null,
      "metadata": {
        "colab": {
          "base_uri": "https://localhost:8080/"
        },
        "id": "rX-Cnu_qpeuC",
        "outputId": "c468ccf6-cb6b-44c4-e6f6-26b46ef5640e"
      },
      "outputs": [
        {
          "data": {
            "text/plain": [
              "11"
            ]
          },
          "execution_count": 17,
          "metadata": {},
          "output_type": "execute_result"
        }
      ],
      "source": [
        "np.max(a) # maximum value"
      ],
      "id": "rX-Cnu_qpeuC"
    },
    {
      "cell_type": "code",
      "execution_count": null,
      "metadata": {
        "colab": {
          "base_uri": "https://localhost:8080/"
        },
        "id": "OxB4VfOlpm4e",
        "outputId": "3d903005-6db1-41af-8ed5-e1fed58ff438"
      },
      "outputs": [
        {
          "data": {
            "text/plain": [
              "array([ 8,  9, 10, 11])"
            ]
          },
          "execution_count": 18,
          "metadata": {},
          "output_type": "execute_result"
        }
      ],
      "source": [
        "np.max(a, axis = 0) # column wise max"
      ],
      "id": "OxB4VfOlpm4e"
    },
    {
      "cell_type": "markdown",
      "metadata": {
        "id": "bfac643a"
      },
      "source": [
        "### Logical functions"
      ],
      "id": "bfac643a"
    },
    {
      "cell_type": "code",
      "execution_count": null,
      "metadata": {
        "id": "c07e0ef9",
        "outputId": "eee2501b-239c-4de4-d555-e4fe8e0606e1",
        "scrolled": true
      },
      "outputs": [
        {
          "data": {
            "text/plain": [
              "array([1, 2, 3, 4])"
            ]
          },
          "execution_count": 4,
          "metadata": {},
          "output_type": "execute_result"
        }
      ],
      "source": [
        "a = np.array([1,2,3,4])\n",
        "a"
      ],
      "id": "c07e0ef9"
    },
    {
      "cell_type": "markdown",
      "metadata": {
        "id": "afbf086c"
      },
      "source": [
        "#### `np.any()`\n",
        "\n",
        "- `any()` returns `True` if **any of the elements** in the argument array is **non-zero**."
      ],
      "id": "afbf086c"
    },
    {
      "cell_type": "code",
      "execution_count": null,
      "metadata": {
        "colab": {
          "base_uri": "https://localhost:8080/"
        },
        "id": "undHkIYcLBrK",
        "outputId": "4abd83b3-0259-44fb-ae47-f210d50a88b4"
      },
      "outputs": [
        {
          "data": {
            "text/plain": [
              "True"
            ]
          },
          "execution_count": 3,
          "metadata": {},
          "output_type": "execute_result"
        }
      ],
      "source": [
        "np.any([True, True, False])"
      ],
      "id": "undHkIYcLBrK"
    },
    {
      "cell_type": "code",
      "execution_count": null,
      "metadata": {
        "id": "be19e0fd",
        "outputId": "005e7cc4-6750-43e9-da5b-4eb3942f0460"
      },
      "outputs": [
        {
          "data": {
            "text/plain": [
              "True"
            ]
          },
          "execution_count": 12,
          "metadata": {},
          "output_type": "execute_result"
        }
      ],
      "source": [
        "a = np.array([1,2,3,4]) # atleast 1 element is non-zero\n",
        "np.any(a)"
      ],
      "id": "be19e0fd"
    },
    {
      "cell_type": "code",
      "execution_count": null,
      "metadata": {
        "id": "d9075b57",
        "outputId": "d8aa780a-7614-44e6-91a5-d81ac9c97a10"
      },
      "outputs": [
        {
          "data": {
            "text/plain": [
              "True"
            ]
          },
          "execution_count": 13,
          "metadata": {},
          "output_type": "execute_result"
        }
      ],
      "source": [
        "a = np.array([1,0,0,0]) # atleast 1 element is non-zero\n",
        "np.any(a)"
      ],
      "id": "d9075b57"
    },
    {
      "cell_type": "code",
      "execution_count": null,
      "metadata": {
        "id": "e29dbe6d",
        "outputId": "8f663c3a-9527-427a-9133-744fd2fba805"
      },
      "outputs": [
        {
          "data": {
            "text/plain": [
              "False"
            ]
          },
          "execution_count": 19,
          "metadata": {},
          "output_type": "execute_result"
        }
      ],
      "source": [
        "a = np.zeros(4) # all elements are zero\n",
        "np.any(a)"
      ],
      "id": "e29dbe6d"
    },
    {
      "cell_type": "markdown",
      "metadata": {
        "id": "80aa049a"
      },
      "source": [
        "\n",
        "- `any()` returns `True` if **any of the corresponding elements** in the argument arrays follow the **provided condition**.\n"
      ],
      "id": "80aa049a"
    },
    {
      "cell_type": "code",
      "execution_count": null,
      "metadata": {
        "id": "32ab4266",
        "outputId": "623f5196-a8c3-414c-c322-18b58c2c8476"
      },
      "outputs": [
        {
          "data": {
            "text/plain": [
              "True"
            ]
          },
          "execution_count": 14,
          "metadata": {},
          "output_type": "execute_result"
        }
      ],
      "source": [
        "a = np.array([1,2,3,4])\n",
        "b = np.array([4,3,2,1])\n",
        "np.any(a<b) # Atleast 1 element in a < corresponding element in b"
      ],
      "id": "32ab4266"
    },
    {
      "cell_type": "code",
      "execution_count": null,
      "metadata": {
        "id": "1792edec",
        "outputId": "885937f8-f563-4d3b-e8b1-3d055601cf03"
      },
      "outputs": [
        {
          "data": {
            "text/plain": [
              "False"
            ]
          },
          "execution_count": 20,
          "metadata": {},
          "output_type": "execute_result"
        }
      ],
      "source": [
        "a = np.array([4,5,6,7])\n",
        "b = np.array([4,3,2,1])\n",
        "np.any(a<b) # All elements in a >= corresponding elements in b"
      ],
      "id": "1792edec"
    },
    {
      "cell_type": "markdown",
      "metadata": {
        "id": "01347030"
      },
      "source": [
        "#### `np.all()`"
      ],
      "id": "01347030"
    },
    {
      "cell_type": "code",
      "execution_count": null,
      "metadata": {
        "id": "88650270",
        "outputId": "07e4aa63-fc67-4d7b-a167-480905c333e1"
      },
      "outputs": [
        {
          "data": {
            "text/plain": [
              "(array([1, 2, 3, 4]), array([4, 3, 2, 1]))"
            ]
          },
          "execution_count": 26,
          "metadata": {},
          "output_type": "execute_result"
        }
      ],
      "source": [
        "a = np.array([1,2,3,4])\n",
        "b = np.array([4,3,2,1])\n",
        "a, b"
      ],
      "id": "88650270"
    },
    {
      "cell_type": "code",
      "execution_count": null,
      "metadata": {
        "id": "7cc81923",
        "outputId": "ec4f8b46-4e3e-41c2-c7df-8c1357120a6d",
        "scrolled": true
      },
      "outputs": [
        {
          "data": {
            "text/plain": [
              "False"
            ]
          },
          "execution_count": 27,
          "metadata": {},
          "output_type": "execute_result"
        }
      ],
      "source": [
        "np.all(a<b) # Not all elements in a < corresponding elements in b"
      ],
      "id": "7cc81923"
    },
    {
      "cell_type": "code",
      "execution_count": null,
      "metadata": {
        "id": "a592be8f",
        "outputId": "faab649d-29aa-43c9-8993-0a9bd40fda64"
      },
      "outputs": [
        {
          "data": {
            "text/plain": [
              "True"
            ]
          },
          "execution_count": 28,
          "metadata": {},
          "output_type": "execute_result"
        }
      ],
      "source": [
        "a = np.array([1,0,0,0])\n",
        "b = np.array([4,3,2,1])\n",
        "np.all(a<b) # All elements in a < corresponding elements in b"
      ],
      "id": "a592be8f"
    },
    {
      "cell_type": "markdown",
      "metadata": {
        "id": "gXZBJXniLzyn"
      },
      "source": [
        "#### Multiple conditions for `.all()` function"
      ],
      "id": "gXZBJXniLzyn"
    },
    {
      "cell_type": "code",
      "execution_count": null,
      "metadata": {
        "colab": {
          "base_uri": "https://localhost:8080/"
        },
        "id": "cCr6R-jTLyAV",
        "outputId": "ccbdafb3-6039-4b6f-8dc1-d6cca90f014c"
      },
      "outputs": [
        {
          "data": {
            "text/plain": [
              "True"
            ]
          },
          "execution_count": 5,
          "metadata": {},
          "output_type": "execute_result"
        }
      ],
      "source": [
        "a = np.array([1, 2, 3, 2])\n",
        "b = np.array([2, 2, 3, 2])\n",
        "c = np.array([6, 4, 4, 5])\n",
        "((a <= b) & (b <= c)).all()"
      ],
      "id": "cCr6R-jTLyAV"
    },
    {
      "cell_type": "markdown",
      "metadata": {
        "id": "-MF-4wwN1t2M"
      },
      "source": [
        "### Sorting Arrays\n",
        "\n",
        "- Default axis for sorting is the last axis of the array.\n",
        "\n"
      ],
      "id": "-MF-4wwN1t2M"
    },
    {
      "cell_type": "markdown",
      "metadata": {
        "id": "YSF_gtljld6Y"
      },
      "source": [
        "#### `np.sort()`\n",
        "\n",
        "- Returns a **sorted copy of an array**."
      ],
      "id": "YSF_gtljld6Y"
    },
    {
      "cell_type": "code",
      "execution_count": null,
      "metadata": {
        "colab": {
          "base_uri": "https://localhost:8080/"
        },
        "id": "GuKoxj3l1t2N",
        "outputId": "26c5312b-b059-4630-be06-f6d44b20bedc"
      },
      "outputs": [
        {
          "data": {
            "text/plain": [
              "array([ 2, 30, 41,  7, 17, 52])"
            ]
          },
          "execution_count": 2,
          "metadata": {},
          "output_type": "execute_result"
        }
      ],
      "source": [
        "a = np.array([2,30,41,7,17,52])\n",
        "a"
      ],
      "id": "GuKoxj3l1t2N"
    },
    {
      "cell_type": "code",
      "execution_count": null,
      "metadata": {
        "colab": {
          "base_uri": "https://localhost:8080/"
        },
        "id": "PGNbnZJo1t2N",
        "outputId": "9bb7a0a0-d5fc-4ad3-a9ff-0b3aeb1b79a2"
      },
      "outputs": [
        {
          "data": {
            "text/plain": [
              "array([ 2,  7, 17, 30, 41, 52])"
            ]
          },
          "execution_count": 3,
          "metadata": {},
          "output_type": "execute_result"
        }
      ],
      "source": [
        "np.sort(a)"
      ],
      "id": "PGNbnZJo1t2N"
    },
    {
      "cell_type": "code",
      "execution_count": null,
      "metadata": {
        "colab": {
          "base_uri": "https://localhost:8080/"
        },
        "id": "XH1882q31t2N",
        "outputId": "c29ba5ff-5b44-4215-d69a-b2e0d8764a60"
      },
      "outputs": [
        {
          "data": {
            "text/plain": [
              "array([ 2, 30, 41,  7, 17, 52])"
            ]
          },
          "execution_count": 4,
          "metadata": {},
          "output_type": "execute_result"
        }
      ],
      "source": [
        "a"
      ],
      "id": "XH1882q31t2N"
    },
    {
      "cell_type": "code",
      "execution_count": null,
      "metadata": {
        "id": "ocUx6glQHFyx"
      },
      "outputs": [],
      "source": [
        "arr = np.arange(12,0,-1).reshape(4,3)"
      ],
      "id": "ocUx6glQHFyx"
    },
    {
      "cell_type": "code",
      "execution_count": null,
      "metadata": {
        "id": "_odf_FlHHFyy",
        "outputId": "18892a17-1c3e-4998-ff18-f9ccf840650a"
      },
      "outputs": [
        {
          "data": {
            "text/plain": [
              "array([[12, 11, 10],\n",
              "       [ 9,  8,  7],\n",
              "       [ 6,  5,  4],\n",
              "       [ 3,  2,  1]])"
            ]
          },
          "execution_count": 7,
          "metadata": {},
          "output_type": "execute_result"
        }
      ],
      "source": [
        "arr"
      ],
      "id": "_odf_FlHHFyy"
    },
    {
      "cell_type": "code",
      "execution_count": null,
      "metadata": {
        "id": "dTE21b-bHFyz",
        "outputId": "27d43732-2b77-4684-d861-ae602a6b2a19"
      },
      "outputs": [
        {
          "data": {
            "text/plain": [
              "array([[10, 11, 12],\n",
              "       [ 7,  8,  9],\n",
              "       [ 4,  5,  6],\n",
              "       [ 1,  2,  3]])"
            ]
          },
          "execution_count": 6,
          "metadata": {},
          "output_type": "execute_result"
        }
      ],
      "source": [
        "np.sort(arr)"
      ],
      "id": "dTE21b-bHFyz"
    },
    {
      "cell_type": "markdown",
      "metadata": {
        "id": "kEXv8eys1t2P"
      },
      "source": [
        "#### `np.argsort()`\n",
        "\n",
        "- Returns the **indices** that would sort an array."
      ],
      "id": "kEXv8eys1t2P"
    },
    {
      "cell_type": "code",
      "execution_count": null,
      "metadata": {
        "colab": {
          "base_uri": "https://localhost:8080/"
        },
        "id": "C0ug7PZr1t2Q",
        "outputId": "2c2f25cd-088e-4220-f4e0-32a0adb51f3f"
      },
      "outputs": [
        {
          "data": {
            "text/plain": [
              "array([ 2, 30, 41,  7, 17, 52])"
            ]
          },
          "execution_count": 176,
          "metadata": {},
          "output_type": "execute_result"
        }
      ],
      "source": [
        "a = np.array([2,30,41,7,17,52])\n",
        "a"
      ],
      "id": "C0ug7PZr1t2Q"
    },
    {
      "cell_type": "code",
      "execution_count": null,
      "metadata": {
        "colab": {
          "base_uri": "https://localhost:8080/"
        },
        "id": "fGTmT54X1t2Q",
        "outputId": "d7d4d0fd-bd1d-4763-a94d-6a4aae6a351b"
      },
      "outputs": [
        {
          "data": {
            "text/plain": [
              "array([0, 3, 4, 1, 2, 5])"
            ]
          },
          "execution_count": 177,
          "metadata": {},
          "output_type": "execute_result"
        }
      ],
      "source": [
        "np.argsort(a)"
      ],
      "id": "fGTmT54X1t2Q"
    },
    {
      "cell_type": "markdown",
      "metadata": {
        "id": "-r0-f3d_wClo"
      },
      "source": [
        "## Use Case: Fitness data analysis\n",
        "\n"
      ],
      "id": "-r0-f3d_wClo"
    },
    {
      "cell_type": "code",
      "execution_count": null,
      "metadata": {
        "id": "VHg-oHs7HFy4"
      },
      "outputs": [],
      "source": [
        "!gdown 1kXqcJo4YzmwF1G2BPoA17CI49TZVHANF"
      ],
      "id": "VHg-oHs7HFy4"
    },
    {
      "cell_type": "code",
      "execution_count": null,
      "metadata": {
        "id": "aAZUzoxO0ntS"
      },
      "outputs": [],
      "source": [
        "data = np.loadtxt('fitness.txt', dtype='str')"
      ],
      "id": "aAZUzoxO0ntS"
    },
    {
      "cell_type": "code",
      "execution_count": null,
      "metadata": {
        "colab": {
          "base_uri": "https://localhost:8080/"
        },
        "id": "hF1ShzXvY6JS",
        "outputId": "290c68df-457f-40a2-c12a-e5a37d0c55a4"
      },
      "outputs": [
        {
          "data": {
            "text/plain": [
              "array([['06-10-2017', '5464', '200', '181', '5', '0', '66'],\n",
              "       ['07-10-2017', '6041', '100', '197', '8', '0', '66'],\n",
              "       ['08-10-2017', '25', '100', '0', '5', '0', '66'],\n",
              "       ['09-10-2017', '5461', '100', '174', '4', '0', '66'],\n",
              "       ['10-10-2017', '6915', '200', '223', '5', '500', '66']],\n",
              "      dtype='<U10')"
            ]
          },
          "execution_count": 4,
          "metadata": {},
          "output_type": "execute_result"
        }
      ],
      "source": [
        "data[:5]"
      ],
      "id": "hF1ShzXvY6JS"
    },
    {
      "cell_type": "markdown",
      "metadata": {
        "id": "RqpNn_Tm0yh0"
      },
      "source": [
        "What's the shape of the data? "
      ],
      "id": "RqpNn_Tm0yh0"
    },
    {
      "cell_type": "code",
      "execution_count": null,
      "metadata": {
        "colab": {
          "base_uri": "https://localhost:8080/"
        },
        "id": "vL442Nce00yL",
        "outputId": "37508fbd-a931-4950-dba0-d0721284f8c4"
      },
      "outputs": [
        {
          "data": {
            "text/plain": [
              "(96, 7)"
            ]
          },
          "execution_count": 5,
          "metadata": {},
          "output_type": "execute_result"
        }
      ],
      "source": [
        "data.shape"
      ],
      "id": "vL442Nce00yL"
    },
    {
      "cell_type": "markdown",
      "metadata": {
        "id": "hJDLDeAX02by"
      },
      "source": [
        "There are 96 records and each datapoint has 7 features.\n",
        "These features are:\n",
        "- Date\n",
        "- Step count\n",
        "- Mood\n",
        "- Calories Burned\n",
        "- Hours of sleep\n",
        "- activity status\n",
        "- weight "
      ],
      "id": "hJDLDeAX02by"
    },
    {
      "cell_type": "code",
      "execution_count": null,
      "metadata": {
        "colab": {
          "base_uri": "https://localhost:8080/"
        },
        "id": "73b8152d",
        "outputId": "b8a2b260-2fdb-4423-ad2f-ebea6af634c7"
      },
      "outputs": [
        {
          "data": {
            "text/plain": [
              "array(['06-10-2017', '5464', '200', '181', '5', '0', '66'], dtype='<U10')"
            ]
          },
          "execution_count": 6,
          "metadata": {},
          "output_type": "execute_result"
        }
      ],
      "source": [
        "data[0]"
      ],
      "id": "73b8152d"
    },
    {
      "cell_type": "markdown",
      "metadata": {
        "id": "944d9f42"
      },
      "source": [
        "#### Whats the way to change columns to rows and rows to columns?\n",
        "\n",
        "Transpose"
      ],
      "id": "944d9f42"
    },
    {
      "cell_type": "code",
      "execution_count": null,
      "metadata": {
        "colab": {
          "base_uri": "https://localhost:8080/"
        },
        "id": "a2691778",
        "outputId": "c954781f-2909-43c5-a8ec-6f9060cf21a4"
      },
      "outputs": [
        {
          "data": {
            "text/plain": [
              "array(['06-10-2017', '07-10-2017', '08-10-2017', '09-10-2017',\n",
              "       '10-10-2017', '11-10-2017', '12-10-2017', '13-10-2017',\n",
              "       '14-10-2017', '15-10-2017', '16-10-2017', '17-10-2017',\n",
              "       '18-10-2017', '19-10-2017', '20-10-2017', '21-10-2017',\n",
              "       '22-10-2017', '23-10-2017', '24-10-2017', '25-10-2017',\n",
              "       '26-10-2017', '27-10-2017', '28-10-2017', '29-10-2017',\n",
              "       '30-10-2017', '31-10-2017', '01-11-2017', '02-11-2017',\n",
              "       '03-11-2017', '04-11-2017', '05-11-2017', '06-11-2017',\n",
              "       '07-11-2017', '08-11-2017', '09-11-2017', '10-11-2017',\n",
              "       '11-11-2017', '12-11-2017', '13-11-2017', '14-11-2017',\n",
              "       '15-11-2017', '16-11-2017', '17-11-2017', '18-11-2017',\n",
              "       '19-11-2017', '20-11-2017', '21-11-2017', '22-11-2017',\n",
              "       '23-11-2017', '24-11-2017', '25-11-2017', '26-11-2017',\n",
              "       '27-11-2017', '28-11-2017', '29-11-2017', '30-11-2017',\n",
              "       '01-12-2017', '02-12-2017', '03-12-2017', '04-12-2017',\n",
              "       '05-12-2017', '06-12-2017', '07-12-2017', '08-12-2017',\n",
              "       '09-12-2017', '10-12-2017', '11-12-2017', '12-12-2017',\n",
              "       '13-12-2017', '14-12-2017', '15-12-2017', '16-12-2017',\n",
              "       '17-12-2017', '18-12-2017', '19-12-2017', '20-12-2017',\n",
              "       '21-12-2017', '22-12-2017', '23-12-2017', '24-12-2017',\n",
              "       '25-12-2017', '26-12-2017', '27-12-2017', '28-12-2017',\n",
              "       '29-12-2017', '30-12-2017', '31-12-2017', '01-01-2018',\n",
              "       '02-01-2018', '03-01-2018', '04-01-2018', '05-01-2018',\n",
              "       '06-01-2018', '07-01-2018', '08-01-2018', '09-01-2018'],\n",
              "      dtype='<U10')"
            ]
          },
          "execution_count": 7,
          "metadata": {},
          "output_type": "execute_result"
        }
      ],
      "source": [
        "data.T[0]"
      ],
      "id": "a2691778"
    },
    {
      "cell_type": "code",
      "execution_count": null,
      "metadata": {
        "id": "Wk5qAYCJZGhG"
      },
      "outputs": [],
      "source": [
        "date, step_count, mood, calories_burned, hours_of_sleep, activity_status, weight = data.T"
      ],
      "id": "Wk5qAYCJZGhG"
    },
    {
      "cell_type": "code",
      "execution_count": null,
      "metadata": {
        "colab": {
          "base_uri": "https://localhost:8080/"
        },
        "id": "0w6WABJ0ZLnk",
        "outputId": "db1019ce-b124-4bed-e025-5d2d79296c1c"
      },
      "outputs": [
        {
          "data": {
            "text/plain": [
              "array(['5464', '6041', '25', '5461', '6915', '4545', '4340', '1230', '61',\n",
              "       '1258', '3148', '4687', '4732', '3519', '1580', '2822', '181',\n",
              "       '3158', '4383', '3881', '4037', '202', '292', '330', '2209',\n",
              "       '4550', '4435', '4779', '1831', '2255', '539', '5464', '6041',\n",
              "       '4068', '4683', '4033', '6314', '614', '3149', '4005', '4880',\n",
              "       '4136', '705', '570', '269', '4275', '5999', '4421', '6930',\n",
              "       '5195', '546', '493', '995', '1163', '6676', '3608', '774', '1421',\n",
              "       '4064', '2725', '5934', '1867', '3721', '2374', '2909', '1648',\n",
              "       '799', '7102', '3941', '7422', '437', '1231', '1696', '4921',\n",
              "       '221', '6500', '3575', '4061', '651', '753', '518', '5537', '4108',\n",
              "       '5376', '3066', '177', '36', '299', '1447', '2599', '702', '133',\n",
              "       '153', '500', '2127', '2203'], dtype='<U10')"
            ]
          },
          "execution_count": 9,
          "metadata": {},
          "output_type": "execute_result"
        }
      ],
      "source": [
        "step_count"
      ],
      "id": "0w6WABJ0ZLnk"
    },
    {
      "cell_type": "code",
      "execution_count": null,
      "metadata": {
        "colab": {
          "base_uri": "https://localhost:8080/"
        },
        "id": "vRdFpj1SZXH2",
        "outputId": "0395b22b-fbaa-4feb-86f4-5647443c2344"
      },
      "outputs": [
        {
          "data": {
            "text/plain": [
              "dtype('<U10')"
            ]
          },
          "execution_count": 10,
          "metadata": {},
          "output_type": "execute_result"
        }
      ],
      "source": [
        "step_count.dtype"
      ],
      "id": "vRdFpj1SZXH2"
    },
    {
      "cell_type": "markdown",
      "metadata": {
        "id": "Rx8mBaFhZRRR"
      },
      "source": [
        "#### Because Numpy type-casted all the data to strings. It's a string type where **U** means Unicode String. and 10 means 10 bytes. \n",
        "\n"
      ],
      "id": "Rx8mBaFhZRRR"
    },
    {
      "cell_type": "markdown",
      "metadata": {
        "id": "3VHi8OGJaOJj"
      },
      "source": [
        "**Step Count**"
      ],
      "id": "3VHi8OGJaOJj"
    },
    {
      "cell_type": "code",
      "execution_count": null,
      "metadata": {
        "colab": {
          "base_uri": "https://localhost:8080/"
        },
        "id": "H46f-TVZZ8mB",
        "outputId": "ab26d528-2644-498d-8ba7-78dc09e1954f"
      },
      "outputs": [
        {
          "data": {
            "text/plain": [
              "dtype('int64')"
            ]
          },
          "execution_count": 11,
          "metadata": {},
          "output_type": "execute_result"
        }
      ],
      "source": [
        "step_count = np.array(step_count, dtype = 'int')\n",
        "step_count.dtype"
      ],
      "id": "H46f-TVZZ8mB"
    },
    {
      "cell_type": "code",
      "execution_count": null,
      "metadata": {
        "colab": {
          "base_uri": "https://localhost:8080/"
        },
        "id": "SKlM7Cf5aAPo",
        "outputId": "c6767c37-15df-42c9-e296-17a093e12c10"
      },
      "outputs": [
        {
          "data": {
            "text/plain": [
              "array([5464, 6041,   25, 5461, 6915, 4545, 4340, 1230,   61, 1258, 3148,\n",
              "       4687, 4732, 3519, 1580, 2822,  181, 3158, 4383, 3881, 4037,  202,\n",
              "        292,  330, 2209, 4550, 4435, 4779, 1831, 2255,  539, 5464, 6041,\n",
              "       4068, 4683, 4033, 6314,  614, 3149, 4005, 4880, 4136,  705,  570,\n",
              "        269, 4275, 5999, 4421, 6930, 5195,  546,  493,  995, 1163, 6676,\n",
              "       3608,  774, 1421, 4064, 2725, 5934, 1867, 3721, 2374, 2909, 1648,\n",
              "        799, 7102, 3941, 7422,  437, 1231, 1696, 4921,  221, 6500, 3575,\n",
              "       4061,  651,  753,  518, 5537, 4108, 5376, 3066,  177,   36,  299,\n",
              "       1447, 2599,  702,  133,  153,  500, 2127, 2203])"
            ]
          },
          "execution_count": 12,
          "metadata": {},
          "output_type": "execute_result"
        }
      ],
      "source": [
        "step_count"
      ],
      "id": "SKlM7Cf5aAPo"
    },
    {
      "cell_type": "markdown",
      "metadata": {
        "id": "EiicKEnqaQef"
      },
      "source": [
        "**Calories Burned**"
      ],
      "id": "EiicKEnqaQef"
    },
    {
      "cell_type": "code",
      "execution_count": null,
      "metadata": {
        "colab": {
          "base_uri": "https://localhost:8080/"
        },
        "id": "58wybBA8aSfJ",
        "outputId": "22d9a5ae-72d5-4745-fa2f-268c834e60ab"
      },
      "outputs": [
        {
          "data": {
            "text/plain": [
              "dtype('int64')"
            ]
          },
          "execution_count": 13,
          "metadata": {},
          "output_type": "execute_result"
        }
      ],
      "source": [
        "calories_burned = np.array(calories_burned, dtype = 'int')\n",
        "calories_burned.dtype"
      ],
      "id": "58wybBA8aSfJ"
    },
    {
      "cell_type": "markdown",
      "metadata": {
        "id": "Xy2ooExhaXg6"
      },
      "source": [
        "**Hours of Sleep**"
      ],
      "id": "Xy2ooExhaXg6"
    },
    {
      "cell_type": "code",
      "execution_count": null,
      "metadata": {
        "colab": {
          "base_uri": "https://localhost:8080/"
        },
        "id": "D-w8VvuEaTjn",
        "outputId": "ec4b7c72-9c3c-4ad8-f953-6452731ff0e6"
      },
      "outputs": [
        {
          "data": {
            "text/plain": [
              "dtype('int64')"
            ]
          },
          "execution_count": 14,
          "metadata": {},
          "output_type": "execute_result"
        }
      ],
      "source": [
        "hours_of_sleep = np.array(hours_of_sleep, dtype = 'int')\n",
        "hours_of_sleep.dtype"
      ],
      "id": "D-w8VvuEaTjn"
    },
    {
      "cell_type": "markdown",
      "metadata": {
        "id": "Gpz7dQ95afUU"
      },
      "source": [
        "**Weight**"
      ],
      "id": "Gpz7dQ95afUU"
    },
    {
      "cell_type": "code",
      "execution_count": null,
      "metadata": {
        "colab": {
          "base_uri": "https://localhost:8080/"
        },
        "id": "1RBc5hIZalUY",
        "outputId": "aa08b5e6-76a1-447c-f238-666aa71af7f8"
      },
      "outputs": [
        {
          "data": {
            "text/plain": [
              "dtype('int64')"
            ]
          },
          "execution_count": 15,
          "metadata": {},
          "output_type": "execute_result"
        }
      ],
      "source": [
        "weight = np.array(weight, dtype = 'int')\n",
        "weight.dtype"
      ],
      "id": "1RBc5hIZalUY"
    },
    {
      "cell_type": "markdown",
      "metadata": {
        "id": "tf9hP1fUanDd"
      },
      "source": [
        "**Mood**\n",
        "\n",
        "`Mood` is a categorical data type"
      ],
      "id": "tf9hP1fUanDd"
    },
    {
      "cell_type": "code",
      "execution_count": null,
      "metadata": {
        "colab": {
          "base_uri": "https://localhost:8080/"
        },
        "id": "26d6fe5e",
        "outputId": "78f9462c-48d1-45f6-de4a-077eef08c80e"
      },
      "outputs": [
        {
          "data": {
            "text/plain": [
              "array(['200', '100', '100', '100', '200', '100', '100', '100', '100',\n",
              "       '100', '100', '100', '300', '100', '100', '100', '100', '200',\n",
              "       '200', '200', '200', '200', '200', '300', '200', '300', '300',\n",
              "       '300', '300', '300', '300', '300', '200', '300', '300', '300',\n",
              "       '300', '300', '300', '300', '300', '300', '300', '200', '300',\n",
              "       '300', '300', '300', '300', '300', '300', '300', '300', '200',\n",
              "       '100', '300', '300', '300', '300', '300', '300', '300', '100',\n",
              "       '200', '200', '100', '100', '200', '200', '300', '200', '200',\n",
              "       '100', '200', '100', '200', '200', '100', '100', '100', '100',\n",
              "       '300', '200', '300', '200', '100', '100', '100', '200', '200',\n",
              "       '100', '100', '300', '200', '200', '300'], dtype='<U10')"
            ]
          },
          "execution_count": 16,
          "metadata": {},
          "output_type": "execute_result"
        }
      ],
      "source": [
        "mood"
      ],
      "id": "26d6fe5e"
    },
    {
      "cell_type": "code",
      "execution_count": null,
      "metadata": {
        "colab": {
          "base_uri": "https://localhost:8080/"
        },
        "id": "5Oh9BXe8bDIA",
        "outputId": "42f13240-6aa3-480f-f0b9-3aab013613c9",
        "scrolled": true
      },
      "outputs": [
        {
          "data": {
            "text/plain": [
              "array(['100', '200', '300'], dtype='<U10')"
            ]
          },
          "execution_count": 17,
          "metadata": {},
          "output_type": "execute_result"
        }
      ],
      "source": [
        "np.unique(mood)"
      ],
      "id": "5Oh9BXe8bDIA"
    },
    {
      "cell_type": "code",
      "execution_count": null,
      "metadata": {
        "id": "LAP-xkoRHFzb"
      },
      "outputs": [],
      "source": [
        "mood[mood == '300'] = 'Happy'"
      ],
      "id": "LAP-xkoRHFzb"
    },
    {
      "cell_type": "code",
      "execution_count": null,
      "metadata": {
        "id": "ALhHlO3QHFzc"
      },
      "outputs": [],
      "source": [
        "mood[mood == '200'] = 'Neutral'"
      ],
      "id": "ALhHlO3QHFzc"
    },
    {
      "cell_type": "code",
      "execution_count": null,
      "metadata": {
        "id": "pB6PTs6yHFze"
      },
      "outputs": [],
      "source": [
        "mood[mood == '100'] = 'Sad'"
      ],
      "id": "pB6PTs6yHFze"
    },
    {
      "cell_type": "code",
      "execution_count": null,
      "metadata": {
        "colab": {
          "base_uri": "https://localhost:8080/"
        },
        "id": "-qL637Labwhu",
        "outputId": "ac1db29a-4c39-47d9-e385-b482ec378500"
      },
      "outputs": [
        {
          "data": {
            "text/plain": [
              "array(['Neutral', 'Sad', 'Sad', 'Sad', 'Neutral', 'Sad', 'Sad', 'Sad',\n",
              "       'Sad', 'Sad', 'Sad', 'Sad', 'Happy', 'Sad', 'Sad', 'Sad', 'Sad',\n",
              "       'Neutral', 'Neutral', 'Neutral', 'Neutral', 'Neutral', 'Neutral',\n",
              "       'Happy', 'Neutral', 'Happy', 'Happy', 'Happy', 'Happy', 'Happy',\n",
              "       'Happy', 'Happy', 'Neutral', 'Happy', 'Happy', 'Happy', 'Happy',\n",
              "       'Happy', 'Happy', 'Happy', 'Happy', 'Happy', 'Happy', 'Neutral',\n",
              "       'Happy', 'Happy', 'Happy', 'Happy', 'Happy', 'Happy', 'Happy',\n",
              "       'Happy', 'Happy', 'Neutral', 'Sad', 'Happy', 'Happy', 'Happy',\n",
              "       'Happy', 'Happy', 'Happy', 'Happy', 'Sad', 'Neutral', 'Neutral',\n",
              "       'Sad', 'Sad', 'Neutral', 'Neutral', 'Happy', 'Neutral', 'Neutral',\n",
              "       'Sad', 'Neutral', 'Sad', 'Neutral', 'Neutral', 'Sad', 'Sad', 'Sad',\n",
              "       'Sad', 'Happy', 'Neutral', 'Happy', 'Neutral', 'Sad', 'Sad', 'Sad',\n",
              "       'Neutral', 'Neutral', 'Sad', 'Sad', 'Happy', 'Neutral', 'Neutral',\n",
              "       'Happy'], dtype='<U7')"
            ]
          },
          "execution_count": 33,
          "metadata": {},
          "output_type": "execute_result"
        }
      ],
      "source": [
        "mood"
      ],
      "id": "-qL637Labwhu"
    },
    {
      "cell_type": "markdown",
      "metadata": {
        "id": "eM70740Pb6g7"
      },
      "source": [
        "**Activity Status**\n",
        "\n",
        "Here 0 means Feeling of inactiveness\n",
        "\n",
        "500 means Feeling of activeness"
      ],
      "id": "eM70740Pb6g7"
    },
    {
      "cell_type": "code",
      "execution_count": null,
      "metadata": {
        "colab": {
          "base_uri": "https://localhost:8080/"
        },
        "id": "64Nl1AVOb9-q",
        "outputId": "a4d4202b-48b1-4e33-9bc8-e981d13c27e0"
      },
      "outputs": [
        {
          "data": {
            "text/plain": [
              "array(['0', '0', '0', '0', '500', '0', '0', '0', '0', '0', '0', '0',\n",
              "       '500', '0', '0', '0', '0', '0', '0', '0', '0', '0', '0', '0', '0',\n",
              "       '500', '0', '0', '0', '0', '500', '0', '0', '0', '0', '0', '500',\n",
              "       '500', '500', '500', '500', '500', '500', '500', '500', '0', '0',\n",
              "       '0', '0', '0', '0', '500', '500', '500', '500', '500', '500',\n",
              "       '500', '500', '500', '500', '500', '500', '0', '500', '500', '0',\n",
              "       '500', '500', '500', '500', '500', '0', '500', '500', '500', '500',\n",
              "       '0', '0', '0', '0', '500', '500', '500', '500', '0', '0', '0', '0',\n",
              "       '0', '0', '0', '0', '500', '0', '500'], dtype='<U10')"
            ]
          },
          "execution_count": 112,
          "metadata": {},
          "output_type": "execute_result"
        }
      ],
      "source": [
        "activity_status"
      ],
      "id": "64Nl1AVOb9-q"
    },
    {
      "cell_type": "code",
      "execution_count": null,
      "metadata": {
        "id": "osA5c_LWHFzg"
      },
      "outputs": [],
      "source": [
        "activity_status[activity_status == '500'] = 'Active'\n",
        "activity_status[activity_status == '0'] = 'Inactive'"
      ],
      "id": "osA5c_LWHFzg"
    },
    {
      "cell_type": "code",
      "execution_count": null,
      "metadata": {
        "colab": {
          "base_uri": "https://localhost:8080/"
        },
        "id": "k75Ijn51chSX",
        "outputId": "304822b1-9759-4e9c-8a2c-da0a3992b267"
      },
      "outputs": [
        {
          "data": {
            "text/plain": [
              "array(['Inactive', 'Inactive', 'Inactive', 'Inactive', 'Active',\n",
              "       'Inactive', 'Inactive', 'Inactive', 'Inactive', 'Inactive',\n",
              "       'Inactive', 'Inactive', 'Active', 'Inactive', 'Inactive',\n",
              "       'Inactive', 'Inactive', 'Inactive', 'Inactive', 'Inactive',\n",
              "       'Inactive', 'Inactive', 'Inactive', 'Inactive', 'Inactive',\n",
              "       'Active', 'Inactive', 'Inactive', 'Inactive', 'Inactive', 'Active',\n",
              "       'Inactive', 'Inactive', 'Inactive', 'Inactive', 'Inactive',\n",
              "       'Active', 'Active', 'Active', 'Active', 'Active', 'Active',\n",
              "       'Active', 'Active', 'Active', 'Inactive', 'Inactive', 'Inactive',\n",
              "       'Inactive', 'Inactive', 'Inactive', 'Active', 'Active', 'Active',\n",
              "       'Active', 'Active', 'Active', 'Active', 'Active', 'Active',\n",
              "       'Active', 'Active', 'Active', 'Inactive', 'Active', 'Active',\n",
              "       'Inactive', 'Active', 'Active', 'Active', 'Active', 'Active',\n",
              "       'Inactive', 'Active', 'Active', 'Active', 'Active', 'Inactive',\n",
              "       'Inactive', 'Inactive', 'Inactive', 'Active', 'Active', 'Active',\n",
              "       'Active', 'Inactive', 'Inactive', 'Inactive', 'Inactive',\n",
              "       'Inactive', 'Inactive', 'Inactive', 'Inactive', 'Active',\n",
              "       'Inactive', 'Active'], dtype='<U8')"
            ]
          },
          "execution_count": 115,
          "metadata": {},
          "output_type": "execute_result"
        }
      ],
      "source": [
        "activity_status"
      ],
      "id": "k75Ijn51chSX"
    },
    {
      "cell_type": "markdown",
      "metadata": {
        "id": "Wa-zCHGRck0P"
      },
      "source": [
        "### EDA: Insights from the data."
      ],
      "id": "Wa-zCHGRck0P"
    },
    {
      "cell_type": "markdown",
      "metadata": {
        "id": "yfMJxctDcnyc"
      },
      "source": [
        "#### What's the average step count? "
      ],
      "id": "yfMJxctDcnyc"
    },
    {
      "cell_type": "code",
      "execution_count": null,
      "metadata": {
        "colab": {
          "base_uri": "https://localhost:8080/"
        },
        "id": "cQDghZafcskd",
        "outputId": "4c8e67c4-7102-4665-b898-084b90cc66bc"
      },
      "outputs": [
        {
          "data": {
            "text/plain": [
              "2935.9375"
            ]
          },
          "execution_count": 116,
          "metadata": {},
          "output_type": "execute_result"
        }
      ],
      "source": [
        "step_count.mean()"
      ],
      "id": "cQDghZafcskd"
    },
    {
      "cell_type": "markdown",
      "metadata": {
        "id": "aKFXHuW9dFQi"
      },
      "source": [
        "#### On which day the step count was highest?"
      ],
      "id": "aKFXHuW9dFQi"
    },
    {
      "cell_type": "code",
      "execution_count": null,
      "metadata": {
        "colab": {
          "base_uri": "https://localhost:8080/"
        },
        "id": "vdkVWLbXdJ_M",
        "outputId": "18e26ec8-d37d-43fb-c361-34af87b45b30"
      },
      "outputs": [
        {
          "data": {
            "text/plain": [
              "69"
            ]
          },
          "execution_count": 117,
          "metadata": {},
          "output_type": "execute_result"
        }
      ],
      "source": [
        "step_count.argmax()\n"
      ],
      "id": "vdkVWLbXdJ_M"
    },
    {
      "cell_type": "code",
      "execution_count": null,
      "metadata": {
        "colab": {
          "base_uri": "https://localhost:8080/",
          "height": 35
        },
        "id": "KofFmC7jdb0f",
        "outputId": "e4d12e14-9d36-4b32-bfed-a5d0e73ea49f"
      },
      "outputs": [
        {
          "data": {
            "text/plain": [
              "'14-12-2017'"
            ]
          },
          "execution_count": 118,
          "metadata": {},
          "output_type": "execute_result"
        }
      ],
      "source": [
        "date[step_count.argmax()]"
      ],
      "id": "KofFmC7jdb0f"
    },
    {
      "cell_type": "markdown",
      "metadata": {
        "id": "TQxByM7udeIQ"
      },
      "source": [
        "Let's check the calorie burnt on the day"
      ],
      "id": "TQxByM7udeIQ"
    },
    {
      "cell_type": "code",
      "execution_count": null,
      "metadata": {
        "colab": {
          "base_uri": "https://localhost:8080/"
        },
        "id": "A1Q9Zi6sdis7",
        "outputId": "18f95f2a-bcad-493a-c5a9-55c10db7e02f"
      },
      "outputs": [
        {
          "data": {
            "text/plain": [
              "243"
            ]
          },
          "execution_count": 119,
          "metadata": {},
          "output_type": "execute_result"
        }
      ],
      "source": [
        "calories_burned[step_count.argmax()]"
      ],
      "id": "A1Q9Zi6sdis7"
    },
    {
      "cell_type": "markdown",
      "metadata": {
        "id": "AX1brq0Tdm14"
      },
      "source": [
        "Let's try to get the number of steps on that day as well"
      ],
      "id": "AX1brq0Tdm14"
    },
    {
      "cell_type": "code",
      "execution_count": null,
      "metadata": {
        "colab": {
          "base_uri": "https://localhost:8080/"
        },
        "id": "pI9v45zCdrXV",
        "outputId": "37bf4cf7-4798-4b5b-8a3a-c3372a676f8b"
      },
      "outputs": [
        {
          "data": {
            "text/plain": [
              "7422"
            ]
          },
          "execution_count": 120,
          "metadata": {},
          "output_type": "execute_result"
        }
      ],
      "source": [
        "step_count.max()"
      ],
      "id": "pI9v45zCdrXV"
    },
    {
      "cell_type": "markdown",
      "metadata": {
        "id": "1135STDWeYzx"
      },
      "source": [
        "#### What's the most frequent mood ? \n",
        "\n",
        "One approach is for each of the category we get count of record and see which one is the highest"
      ],
      "id": "1135STDWeYzx"
    },
    {
      "cell_type": "code",
      "execution_count": null,
      "metadata": {
        "colab": {
          "base_uri": "https://localhost:8080/"
        },
        "id": "_hEmVSqqeyAI",
        "outputId": "6692f013-5cd4-4861-cc52-1631e29652f8"
      },
      "outputs": [
        {
          "data": {
            "text/plain": [
              "(29,)"
            ]
          },
          "execution_count": 123,
          "metadata": {},
          "output_type": "execute_result"
        }
      ],
      "source": [
        "mood[mood == 'Sad'].shape"
      ],
      "id": "_hEmVSqqeyAI"
    },
    {
      "cell_type": "code",
      "execution_count": null,
      "metadata": {
        "colab": {
          "base_uri": "https://localhost:8080/"
        },
        "id": "IsuYus2Ce-Y3",
        "outputId": "d54d40ff-914b-4197-8daf-6ee0d090be8f"
      },
      "outputs": [
        {
          "data": {
            "text/plain": [
              "(27,)"
            ]
          },
          "execution_count": 124,
          "metadata": {},
          "output_type": "execute_result"
        }
      ],
      "source": [
        "mood[mood == 'Neutral'].shape"
      ],
      "id": "IsuYus2Ce-Y3"
    },
    {
      "cell_type": "code",
      "execution_count": null,
      "metadata": {
        "colab": {
          "base_uri": "https://localhost:8080/"
        },
        "id": "zNE4fygofA_j",
        "outputId": "21e157b1-796c-4ced-a394-5a55a6966a7d"
      },
      "outputs": [
        {
          "data": {
            "text/plain": [
              "(40,)"
            ]
          },
          "execution_count": 125,
          "metadata": {},
          "output_type": "execute_result"
        }
      ],
      "source": [
        "mood[mood == 'Happy'].shape"
      ],
      "id": "zNE4fygofA_j"
    },
    {
      "cell_type": "markdown",
      "metadata": {
        "id": "oh_gNjvLfDep"
      },
      "source": [
        "Another approach: "
      ],
      "id": "oh_gNjvLfDep"
    },
    {
      "cell_type": "code",
      "execution_count": null,
      "metadata": {
        "colab": {
          "base_uri": "https://localhost:8080/"
        },
        "id": "1SnKQ28FfY1c",
        "outputId": "71c067c4-991f-44f4-a9b5-dfac841f551d"
      },
      "outputs": [
        {
          "data": {
            "text/plain": [
              "array(['Happy', 'Neutral', 'Sad'], dtype='<U7')"
            ]
          },
          "execution_count": 126,
          "metadata": {},
          "output_type": "execute_result"
        }
      ],
      "source": [
        "np.unique(mood)"
      ],
      "id": "1SnKQ28FfY1c"
    },
    {
      "cell_type": "markdown",
      "metadata": {
        "id": "FWpl2QA4fa_D"
      },
      "source": [
        "We can get the count by passing in the parameter `return_counts = True`"
      ],
      "id": "FWpl2QA4fa_D"
    },
    {
      "cell_type": "code",
      "execution_count": null,
      "metadata": {
        "colab": {
          "base_uri": "https://localhost:8080/"
        },
        "id": "aV-jZOzQfkHh",
        "outputId": "74b88a19-c7a5-41c2-c113-40b94b988ac3"
      },
      "outputs": [
        {
          "data": {
            "text/plain": [
              "(array(['Happy', 'Neutral', 'Sad'], dtype='<U7'), array([40, 27, 29]))"
            ]
          },
          "execution_count": 127,
          "metadata": {},
          "output_type": "execute_result"
        }
      ],
      "source": [
        "np.unique(mood, return_counts = True)"
      ],
      "id": "aV-jZOzQfkHh"
    },
    {
      "cell_type": "markdown",
      "metadata": {
        "id": "R4gPew-FfnH3"
      },
      "source": [
        "The most frequent mood is Happy :)"
      ],
      "id": "R4gPew-FfnH3"
    },
    {
      "cell_type": "markdown",
      "metadata": {
        "id": "6ILytZ8fkCvp"
      },
      "source": [
        "#### Comparing step counts on bad mood days and good mood days"
      ],
      "id": "6ILytZ8fkCvp"
    },
    {
      "cell_type": "markdown",
      "metadata": {
        "id": "ivbRXnQzkeu0"
      },
      "source": [
        "**Average step count on Sad mood days**"
      ],
      "id": "ivbRXnQzkeu0"
    },
    {
      "cell_type": "code",
      "execution_count": null,
      "metadata": {
        "colab": {
          "base_uri": "https://localhost:8080/"
        },
        "id": "Mi_JuVdNkcx-",
        "outputId": "d5ce8a3d-8d08-49bc-fba9-45dda848434b"
      },
      "outputs": [
        {
          "data": {
            "text/plain": [
              "2103.0689655172414"
            ]
          },
          "execution_count": 130,
          "metadata": {},
          "output_type": "execute_result"
        }
      ],
      "source": [
        "np.mean(step_count[mood == 'Sad'])"
      ],
      "id": "Mi_JuVdNkcx-"
    },
    {
      "cell_type": "code",
      "execution_count": null,
      "metadata": {
        "colab": {
          "base_uri": "https://localhost:8080/"
        },
        "id": "KwYN9vPykxWL",
        "outputId": "e24ddb92-120b-4266-e337-18ec0b9df631"
      },
      "outputs": [
        {
          "data": {
            "text/plain": [
              "array([  25,   36,   61,  133,  177,  181,  221,  299,  518,  651,  702,\n",
              "        753,  799, 1230, 1258, 1580, 1648, 1696, 2822, 3148, 3519, 3721,\n",
              "       4061, 4340, 4545, 4687, 5461, 6041, 6676])"
            ]
          },
          "execution_count": 131,
          "metadata": {},
          "output_type": "execute_result"
        }
      ],
      "source": [
        "np.sort(step_count[mood == 'Sad'])"
      ],
      "id": "KwYN9vPykxWL"
    },
    {
      "cell_type": "code",
      "execution_count": null,
      "metadata": {
        "id": "c48b33fa",
        "outputId": "4acaaccf-2fec-4c00-dc02-46314d2c9d8d"
      },
      "outputs": [
        {
          "data": {
            "text/plain": [
              "2021.2355035376254"
            ]
          },
          "execution_count": 132,
          "metadata": {},
          "output_type": "execute_result"
        }
      ],
      "source": [
        "np.std(step_count[mood == 'Sad'])"
      ],
      "id": "c48b33fa"
    },
    {
      "cell_type": "markdown",
      "metadata": {
        "id": "ZFUxe5K2kjon"
      },
      "source": [
        "**Average step count on happy days**"
      ],
      "id": "ZFUxe5K2kjon"
    },
    {
      "cell_type": "code",
      "execution_count": null,
      "metadata": {
        "colab": {
          "base_uri": "https://localhost:8080/"
        },
        "id": "tqc73GG_khss",
        "outputId": "dfae4c3a-6983-48ee-cd34-d094b3ee82fc"
      },
      "outputs": [
        {
          "data": {
            "text/plain": [
              "3392.725"
            ]
          },
          "execution_count": 133,
          "metadata": {},
          "output_type": "execute_result"
        }
      ],
      "source": [
        "np.mean(step_count[mood == 'Happy'])"
      ],
      "id": "tqc73GG_khss"
    },
    {
      "cell_type": "code",
      "execution_count": null,
      "metadata": {
        "colab": {
          "base_uri": "https://localhost:8080/"
        },
        "id": "beflT_6bk5OU",
        "outputId": "e2181a11-9166-4faf-d04a-f7b7cee56609"
      },
      "outputs": [
        {
          "data": {
            "text/plain": [
              "array([ 153,  269,  330,  493,  539,  546,  614,  705,  774,  995, 1421,\n",
              "       1831, 1867, 2203, 2255, 2725, 3149, 3608, 4005, 4033, 4064, 4068,\n",
              "       4136, 4275, 4421, 4435, 4550, 4683, 4732, 4779, 4880, 5195, 5376,\n",
              "       5464, 5537, 5934, 5999, 6314, 6930, 7422])"
            ]
          },
          "execution_count": 134,
          "metadata": {},
          "output_type": "execute_result"
        }
      ],
      "source": [
        "np.sort(step_count[mood == 'Happy'])"
      ],
      "id": "beflT_6bk5OU"
    },
    {
      "cell_type": "markdown",
      "metadata": {
        "id": "CyCEi3qIk-jc"
      },
      "source": [
        "Average step count on sad days - 2103.\n",
        "\n",
        "Average step count on happy days - 3392\n",
        "\n",
        "**There may be relation between mood and step count**"
      ],
      "id": "CyCEi3qIk-jc"
    },
    {
      "cell_type": "markdown",
      "metadata": {
        "id": "LQNvtZ1rlU9y"
      },
      "source": [
        "#### Let's try to check inverse. Mood when step count was greater/lesser"
      ],
      "id": "LQNvtZ1rlU9y"
    },
    {
      "cell_type": "markdown",
      "metadata": {
        "id": "y2wehAWclgfL"
      },
      "source": [
        "**Mood when step count > 4000**"
      ],
      "id": "y2wehAWclgfL"
    },
    {
      "cell_type": "code",
      "execution_count": null,
      "metadata": {
        "colab": {
          "base_uri": "https://localhost:8080/"
        },
        "id": "TyQDns17lek8",
        "outputId": "2a7c0b93-e4e3-409f-9afb-a30979e03b2f"
      },
      "outputs": [
        {
          "data": {
            "text/plain": [
              "(array(['Happy', 'Neutral', 'Sad'], dtype='<U7'), array([22,  9,  7]))"
            ]
          },
          "execution_count": 83,
          "metadata": {},
          "output_type": "execute_result"
        }
      ],
      "source": [
        "np.unique(mood[step_count > 4000], return_counts = True)"
      ],
      "id": "TyQDns17lek8"
    },
    {
      "cell_type": "markdown",
      "metadata": {
        "id": "FEmry7IUlkZn"
      },
      "source": [
        "Out of 38 days when step count was more than 4000, user was feeling happy on 22 days."
      ],
      "id": "FEmry7IUlkZn"
    },
    {
      "cell_type": "markdown",
      "metadata": {
        "id": "TcScIqvQlsf5"
      },
      "source": [
        "**Mood when step count <= 2000**"
      ],
      "id": "TcScIqvQlsf5"
    },
    {
      "cell_type": "code",
      "execution_count": null,
      "metadata": {
        "colab": {
          "base_uri": "https://localhost:8080/"
        },
        "id": "htueN494lyqa",
        "outputId": "c57f9b3c-3062-4a98-ee5b-e6afb51ed812"
      },
      "outputs": [
        {
          "data": {
            "text/plain": [
              "(array(['Happy', 'Neutral', 'Sad'], dtype='<U7'), array([13,  8, 18]))"
            ]
          },
          "execution_count": 84,
          "metadata": {},
          "output_type": "execute_result"
        }
      ],
      "source": [
        "np.unique(mood[step_count < 2000], return_counts = True)"
      ],
      "id": "htueN494lyqa"
    },
    {
      "cell_type": "markdown",
      "metadata": {
        "id": "suk18w4VmEJx"
      },
      "source": [
        "Out of 39 days, when step count was less than 2000, user was feeling sad on 18 days."
      ],
      "id": "suk18w4VmEJx"
    },
    {
      "cell_type": "markdown",
      "metadata": {
        "id": "rQmdcuhBmNaS"
      },
      "source": [
        "#### **There may be a correlation between Mood and step count**"
      ],
      "id": "rQmdcuhBmNaS"
    },
    {
      "cell_type": "markdown",
      "metadata": {
        "id": "vngLC4LwHLi_"
      },
      "source": [
        "\n",
        "## Operations on Numpy Arrays"
      ],
      "id": "vngLC4LwHLi_"
    },
    {
      "cell_type": "markdown",
      "metadata": {
        "id": "TPOUxZ6aHLjB"
      },
      "source": [
        "### Algebric operations on np arrays with single numbers\n"
      ],
      "id": "TPOUxZ6aHLjB"
    },
    {
      "cell_type": "code",
      "execution_count": null,
      "metadata": {
        "id": "39puGbgTHLjI",
        "outputId": "54def421-9572-41ae-9e7a-f5be45e2a0c2"
      },
      "outputs": [
        {
          "data": {
            "text/plain": [
              "array([[ 2,  3,  4,  5],\n",
              "       [ 6,  7,  8,  9],\n",
              "       [10, 11, 12, 13]])"
            ]
          },
          "execution_count": 2,
          "metadata": {},
          "output_type": "execute_result"
        }
      ],
      "source": [
        "m1 = np.arange(12).reshape(3, 4)\n",
        "m1 + 2"
      ],
      "id": "39puGbgTHLjI"
    },
    {
      "cell_type": "code",
      "execution_count": null,
      "metadata": {
        "id": "N0kexayZHLjL",
        "outputId": "5da76336-a063-4a90-c65f-1f70d772a8e8"
      },
      "outputs": [
        {
          "data": {
            "text/plain": [
              "array([[ 0,  2,  4,  6],\n",
              "       [ 8, 10, 12, 14],\n",
              "       [16, 18, 20, 22]])"
            ]
          },
          "execution_count": 3,
          "metadata": {},
          "output_type": "execute_result"
        }
      ],
      "source": [
        "m1 = np.arange(12).reshape(3, 4)\n",
        "m1 * 2"
      ],
      "id": "N0kexayZHLjL"
    },
    {
      "cell_type": "markdown",
      "metadata": {
        "id": "2j245PNgHLjO"
      },
      "source": [
        "\n",
        "### Algebric operations on two np arrays"
      ],
      "id": "2j245PNgHLjO"
    },
    {
      "cell_type": "code",
      "execution_count": null,
      "metadata": {
        "id": "7GJCaWoBHLjP",
        "outputId": "28d9cad2-5283-4fe3-dd7d-0af9dccfe576"
      },
      "outputs": [
        {
          "data": {
            "text/plain": [
              "array([3, 4, 5])"
            ]
          },
          "execution_count": 4,
          "metadata": {},
          "output_type": "execute_result"
        }
      ],
      "source": [
        "# Corresponding elements of arrays get added\n",
        "a = np.array([1, 2, 3])\n",
        "b = np.array([2, 2, 2])\n",
        "a + b"
      ],
      "id": "7GJCaWoBHLjP"
    },
    {
      "cell_type": "code",
      "execution_count": null,
      "metadata": {
        "id": "rzuUtp8iHLjR",
        "outputId": "123a4abc-1391-485c-9b10-91166a540699"
      },
      "outputs": [
        {
          "data": {
            "text/plain": [
              "array([2, 4, 6])"
            ]
          },
          "execution_count": 5,
          "metadata": {},
          "output_type": "execute_result"
        }
      ],
      "source": [
        "# Corresponding elements of arrays get multiplied\n",
        "a * b"
      ],
      "id": "rzuUtp8iHLjR"
    },
    {
      "cell_type": "markdown",
      "metadata": {
        "id": "L5g1jBMvHLjT"
      },
      "source": [
        "\n",
        "#### Now what if we use multiplication operator on matrices created using numpy?"
      ],
      "id": "L5g1jBMvHLjT"
    },
    {
      "cell_type": "code",
      "execution_count": null,
      "metadata": {
        "id": "0OpjHcdKHLjb",
        "outputId": "d9a647c6-808f-445d-9e37-200b89e2b5f6"
      },
      "outputs": [
        {
          "data": {
            "text/plain": [
              "array([[ 0,  1,  2,  3],\n",
              "       [ 4,  5,  6,  7],\n",
              "       [ 8,  9, 10, 11]])"
            ]
          },
          "execution_count": 6,
          "metadata": {},
          "output_type": "execute_result"
        }
      ],
      "source": [
        "A = np.arange(12).reshape(3, 4)\n",
        "A"
      ],
      "id": "0OpjHcdKHLjb"
    },
    {
      "cell_type": "code",
      "execution_count": null,
      "metadata": {
        "id": "akjktI3gHLjc",
        "outputId": "1060b59f-5227-4ea2-8c06-e075bf895025"
      },
      "outputs": [
        {
          "data": {
            "text/plain": [
              "array([[ 0,  1,  2,  3],\n",
              "       [ 4,  5,  6,  7],\n",
              "       [ 8,  9, 10, 11]])"
            ]
          },
          "execution_count": 7,
          "metadata": {},
          "output_type": "execute_result"
        }
      ],
      "source": [
        "B = np.arange(12).reshape(3, 4)\n",
        "B"
      ],
      "id": "akjktI3gHLjc"
    },
    {
      "cell_type": "code",
      "execution_count": null,
      "metadata": {
        "id": "Ftgq8hKeHLjf",
        "outputId": "269c9f79-e034-4d76-80c7-46a89a9f2ae1"
      },
      "outputs": [
        {
          "data": {
            "text/plain": [
              "array([[  0,   1,   4,   9],\n",
              "       [ 16,  25,  36,  49],\n",
              "       [ 64,  81, 100, 121]])"
            ]
          },
          "execution_count": 8,
          "metadata": {},
          "output_type": "execute_result"
        }
      ],
      "source": [
        "A * B"
      ],
      "id": "Ftgq8hKeHLjf"
    },
    {
      "cell_type": "markdown",
      "metadata": {
        "id": "YzyJYQxCHLjg"
      },
      "source": [
        "- it ** did element-wise multiplication**\n",
        "\n",
        "\n",
        "#### What is the requirement of dimensions of 2 matrices for Matrix Multiplication?\n",
        "\n",
        "- **Columns of A = Rows of B**\n",
        "\n",
        "\n",
        "- **If A is $3\\times4$, B can be $4\\times3$**... or $4\\times x$\n",
        "\n"
      ],
      "id": "YzyJYQxCHLjg"
    },
    {
      "cell_type": "code",
      "execution_count": null,
      "metadata": {
        "id": "wQR1az05HLjh",
        "outputId": "7f84b305-9750-4476-f969-6c24141b2eb0"
      },
      "outputs": [
        {
          "data": {
            "text/plain": [
              "array([[ 0,  1,  2],\n",
              "       [ 3,  4,  5],\n",
              "       [ 6,  7,  8],\n",
              "       [ 9, 10, 11]])"
            ]
          },
          "execution_count": 9,
          "metadata": {},
          "output_type": "execute_result"
        }
      ],
      "source": [
        "B = B.reshape(4, 3)\n",
        "B"
      ],
      "id": "wQR1az05HLjh"
    },
    {
      "cell_type": "code",
      "execution_count": null,
      "metadata": {
        "id": "vbEn4_oiHLji",
        "outputId": "3710d81e-a5a1-45b5-f391-3aeabc6964ff"
      },
      "outputs": [
        {
          "ename": "ValueError",
          "evalue": "operands could not be broadcast together with shapes (3,4) (4,3) ",
          "output_type": "error",
          "traceback": [
            "\u001b[1;31m---------------------------------------------------------------------------\u001b[0m",
            "\u001b[1;31mValueError\u001b[0m                                Traceback (most recent call last)",
            "\u001b[1;32m<ipython-input-10-a4cedde81ed0>\u001b[0m in \u001b[0;36m<module>\u001b[1;34m()\u001b[0m\n\u001b[1;32m----> 1\u001b[1;33m \u001b[0mA\u001b[0m \u001b[1;33m*\u001b[0m \u001b[0mB\u001b[0m\u001b[1;33m\u001b[0m\u001b[0m\n\u001b[0m",
            "\u001b[1;31mValueError\u001b[0m: operands could not be broadcast together with shapes (3,4) (4,3) "
          ]
        }
      ],
      "source": [
        "A * B"
      ],
      "id": "vbEn4_oiHLji"
    },
    {
      "cell_type": "markdown",
      "metadata": {
        "id": "kW1GFCSuHLjk"
      },
      "source": [
        "**`*` operator only does Element-Wise Multiplication of 2 Matrices**\n",
        "\n",
        "#### For actual Matrix Multiplication, We have a different method/operator\n",
        "\n",
        "`np.matmul()`"
      ],
      "id": "kW1GFCSuHLjk"
    },
    {
      "cell_type": "code",
      "execution_count": null,
      "metadata": {
        "id": "nu6lp5JlHLjo",
        "outputId": "32c1ee6d-082e-4199-e7d5-2d4028d5f804"
      },
      "outputs": [
        {
          "data": {
            "text/plain": [
              "array([[ 42,  48,  54],\n",
              "       [114, 136, 158],\n",
              "       [186, 224, 262]])"
            ]
          },
          "execution_count": 11,
          "metadata": {},
          "output_type": "execute_result"
        }
      ],
      "source": [
        "np.matmul(A, B)"
      ],
      "id": "nu6lp5JlHLjo"
    },
    {
      "cell_type": "markdown",
      "metadata": {
        "id": "aQ8hZ1rPHLjp"
      },
      "source": [
        "\n",
        "#### There's also a direct operator as well for Matrix Multiplication\n",
        "`@`"
      ],
      "id": "aQ8hZ1rPHLjp"
    },
    {
      "cell_type": "code",
      "execution_count": null,
      "metadata": {
        "id": "PQrb_omLHLjq",
        "outputId": "5fccd9ea-06dd-4c2e-eca1-91856adb22a8"
      },
      "outputs": [
        {
          "data": {
            "text/plain": [
              "array([[ 42,  48,  54],\n",
              "       [114, 136, 158],\n",
              "       [186, 224, 262]])"
            ]
          },
          "execution_count": 12,
          "metadata": {},
          "output_type": "execute_result"
        }
      ],
      "source": [
        "A @ B"
      ],
      "id": "PQrb_omLHLjq"
    },
    {
      "cell_type": "markdown",
      "metadata": {
        "id": "P01dIX0ZHLjr"
      },
      "source": [
        "#### There is another method in np for doing Matrix Multiplication\n",
        "\n",
        "- `np.dot()`"
      ],
      "id": "P01dIX0ZHLjr"
    },
    {
      "cell_type": "code",
      "execution_count": null,
      "metadata": {
        "id": "VIqMnRl9HLjs",
        "outputId": "c1ee1f50-6758-4922-88de-05c2ee62b7f4"
      },
      "outputs": [
        {
          "data": {
            "text/plain": [
              "array([[ 42,  48,  54],\n",
              "       [114, 136, 158],\n",
              "       [186, 224, 262]])"
            ]
          },
          "execution_count": 13,
          "metadata": {},
          "output_type": "execute_result"
        }
      ],
      "source": [
        "np.dot(A, B)"
      ],
      "id": "VIqMnRl9HLjs"
    },
    {
      "cell_type": "markdown",
      "metadata": {
        "id": "-Mmpt2t_HLjt"
      },
      "source": [
        "**Other cases of `np.dot()`**\n",
        "- It performs inner product of vectors when both inputs are 1D array\n",
        "- It performs multiplication when both input are scalers.\n"
      ],
      "id": "-Mmpt2t_HLjt"
    },
    {
      "cell_type": "code",
      "execution_count": null,
      "metadata": {
        "id": "R3T4GEjZHLju"
      },
      "outputs": [],
      "source": [
        "a= np.array([1,2,3])\n",
        "b = np.array([1,1,1])\n"
      ],
      "id": "R3T4GEjZHLju"
    },
    {
      "cell_type": "code",
      "execution_count": null,
      "metadata": {
        "id": "VrSDYs2lHLjv",
        "outputId": "6733d9f2-9e03-4d9b-e5ea-4873298cc90c"
      },
      "outputs": [
        {
          "data": {
            "text/plain": [
              "6"
            ]
          },
          "execution_count": 15,
          "metadata": {},
          "output_type": "execute_result"
        }
      ],
      "source": [
        "np.dot(a,b) # 1*1 + 2*1 + 3*1 = 6"
      ],
      "id": "VrSDYs2lHLjv"
    },
    {
      "cell_type": "code",
      "execution_count": null,
      "metadata": {
        "id": "QgNXthkYHLjv",
        "outputId": "f4634d0e-d2d1-4cc7-b643-53275df4a4a6"
      },
      "outputs": [
        {
          "data": {
            "text/plain": [
              "20"
            ]
          },
          "execution_count": 16,
          "metadata": {},
          "output_type": "execute_result"
        }
      ],
      "source": [
        "np.dot(4,5)"
      ],
      "id": "QgNXthkYHLjv"
    },
    {
      "cell_type": "markdown",
      "metadata": {
        "id": "lmCQ3viHHLjw"
      },
      "source": [
        "#### Multiplication of a mix of matrices and vectors\n"
      ],
      "id": "lmCQ3viHHLjw"
    },
    {
      "cell_type": "code",
      "execution_count": null,
      "metadata": {
        "id": "OyQVZrxUHLjx",
        "outputId": "89d16ac0-a55d-4d37-9d5f-70779178c563"
      },
      "outputs": [
        {
          "data": {
            "text/plain": [
              "array([[ 0,  1,  2,  3],\n",
              "       [ 4,  5,  6,  7],\n",
              "       [ 8,  9, 10, 11]])"
            ]
          },
          "execution_count": 17,
          "metadata": {},
          "output_type": "execute_result"
        }
      ],
      "source": [
        "A = np.arange(12).reshape(3, 4)  # A is a 3x4 Matrix \n",
        "A"
      ],
      "id": "OyQVZrxUHLjx"
    },
    {
      "cell_type": "code",
      "execution_count": null,
      "metadata": {
        "id": "9nQ-IGkLHLjx",
        "outputId": "8e1a6b75-3571-41c0-ce65-5116ad47f120"
      },
      "outputs": [
        {
          "name": "stdout",
          "output_type": "stream",
          "text": [
            "[1 2 3]\n",
            "(3,)\n"
          ]
        }
      ],
      "source": [
        "a = np.array([1, 2, 3])  # a is a 1x3 Vector \n",
        "print(a)\n",
        "print(a.shape)"
      ],
      "id": "9nQ-IGkLHLjx"
    },
    {
      "cell_type": "markdown",
      "metadata": {
        "id": "4hjlBrXRHLjz"
      },
      "source": [
        "#### Will `A * a` work?"
      ],
      "id": "4hjlBrXRHLjz"
    },
    {
      "cell_type": "code",
      "execution_count": null,
      "metadata": {
        "id": "M9BlyEJrHLj0",
        "outputId": "c9246849-f557-42b6-beda-4e6bab376172"
      },
      "outputs": [
        {
          "ename": "ValueError",
          "evalue": "operands could not be broadcast together with shapes (3,4) (3,) ",
          "output_type": "error",
          "traceback": [
            "\u001b[1;31m---------------------------------------------------------------------------\u001b[0m",
            "\u001b[1;31mValueError\u001b[0m                                Traceback (most recent call last)",
            "\u001b[1;32m<ipython-input-19-920aa4e58700>\u001b[0m in \u001b[0;36m<module>\u001b[1;34m()\u001b[0m\n\u001b[1;32m----> 1\u001b[1;33m \u001b[0mA\u001b[0m \u001b[1;33m*\u001b[0m \u001b[0ma\u001b[0m\u001b[1;33m\u001b[0m\u001b[0m\n\u001b[0m",
            "\u001b[1;31mValueError\u001b[0m: operands could not be broadcast together with shapes (3,4) (3,) "
          ]
        }
      ],
      "source": [
        "A * a"
      ],
      "id": "M9BlyEJrHLj0"
    },
    {
      "cell_type": "markdown",
      "metadata": {
        "id": "s9e6aTssHLj0"
      },
      "source": [
        "#### Will `a * A` work?"
      ],
      "id": "s9e6aTssHLj0"
    },
    {
      "cell_type": "code",
      "execution_count": null,
      "metadata": {
        "id": "aRPMzsBLHLj1",
        "outputId": "ef601a20-496a-4554-8b00-34fe10beacf5"
      },
      "outputs": [
        {
          "ename": "ValueError",
          "evalue": "operands could not be broadcast together with shapes (3,) (3,4) ",
          "output_type": "error",
          "traceback": [
            "\u001b[1;31m---------------------------------------------------------------------------\u001b[0m",
            "\u001b[1;31mValueError\u001b[0m                                Traceback (most recent call last)",
            "\u001b[1;32m<ipython-input-20-d157f8e14faf>\u001b[0m in \u001b[0;36m<module>\u001b[1;34m()\u001b[0m\n\u001b[1;32m----> 1\u001b[1;33m \u001b[0ma\u001b[0m \u001b[1;33m*\u001b[0m \u001b[0mA\u001b[0m\u001b[1;33m\u001b[0m\u001b[0m\n\u001b[0m",
            "\u001b[1;31mValueError\u001b[0m: operands could not be broadcast together with shapes (3,) (3,4) "
          ]
        }
      ],
      "source": [
        "a * A"
      ],
      "id": "aRPMzsBLHLj1"
    },
    {
      "cell_type": "markdown",
      "metadata": {
        "id": "NbxXJ9CrHLj4"
      },
      "source": [
        "#### Why does it not work for either cases?\n",
        "\n",
        "- Because **`*` operator just performs element-wise multiplication**\n",
        "\n",
        "\n",
        "- For this, **both `A` and `a` should have same shape**\n",
        "\n",
        "\n",
        "#### However, `A * A` and `a * a` work"
      ],
      "id": "NbxXJ9CrHLj4"
    },
    {
      "cell_type": "code",
      "execution_count": null,
      "metadata": {
        "id": "UY85KKBMHLj7",
        "outputId": "91239034-b9d7-4f11-e319-b74cfe60c617"
      },
      "outputs": [
        {
          "data": {
            "text/plain": [
              "array([[  0,   1,   4,   9],\n",
              "       [ 16,  25,  36,  49],\n",
              "       [ 64,  81, 100, 121]])"
            ]
          },
          "execution_count": 21,
          "metadata": {},
          "output_type": "execute_result"
        }
      ],
      "source": [
        "A * A # Multiplied with itself"
      ],
      "id": "UY85KKBMHLj7"
    },
    {
      "cell_type": "code",
      "execution_count": null,
      "metadata": {
        "id": "v07ZIipiHLj8",
        "outputId": "d60d102d-02aa-445f-8b6e-b4a307eb096c"
      },
      "outputs": [
        {
          "data": {
            "text/plain": [
              "array([1, 4, 9])"
            ]
          },
          "execution_count": 22,
          "metadata": {},
          "output_type": "execute_result"
        }
      ],
      "source": [
        "a * a"
      ],
      "id": "v07ZIipiHLj8"
    },
    {
      "cell_type": "markdown",
      "metadata": {
        "id": "4e_QJP17HLj9"
      },
      "source": [
        "#### Now Let's experiment with `np.matmul()`"
      ],
      "id": "4e_QJP17HLj9"
    },
    {
      "cell_type": "code",
      "execution_count": null,
      "metadata": {
        "id": "GxLYKeueHLj9",
        "outputId": "358fe5b5-be4a-4069-b6d0-f5d38ef80ffa"
      },
      "outputs": [
        {
          "ename": "ValueError",
          "evalue": "matmul: Input operand 1 has a mismatch in its core dimension 0, with gufunc signature (n?,k),(k,m?)->(n?,m?) (size 3 is different from 4)",
          "output_type": "error",
          "traceback": [
            "\u001b[1;31m---------------------------------------------------------------------------\u001b[0m",
            "\u001b[1;31mValueError\u001b[0m                                Traceback (most recent call last)",
            "\u001b[1;32m<ipython-input-23-76efef6bd8e9>\u001b[0m in \u001b[0;36m<module>\u001b[1;34m()\u001b[0m\n\u001b[1;32m----> 1\u001b[1;33m \u001b[0mnp\u001b[0m\u001b[1;33m.\u001b[0m\u001b[0mmatmul\u001b[0m\u001b[1;33m(\u001b[0m\u001b[0mA\u001b[0m\u001b[1;33m,\u001b[0m \u001b[0ma\u001b[0m\u001b[1;33m)\u001b[0m\u001b[1;33m\u001b[0m\u001b[0m\n\u001b[0m",
            "\u001b[1;31mValueError\u001b[0m: matmul: Input operand 1 has a mismatch in its core dimension 0, with gufunc signature (n?,k),(k,m?)->(n?,m?) (size 3 is different from 4)"
          ]
        }
      ],
      "source": [
        "np.matmul(A, a)"
      ],
      "id": "GxLYKeueHLj9"
    },
    {
      "cell_type": "markdown",
      "metadata": {
        "id": "U-ADShWYHLj9"
      },
      "source": [
        "- **Columns of `A` (4) $\\neq$ Rows of `a` (1)** \n",
        "\n",
        "\n",
        "#### Will this work?"
      ],
      "id": "U-ADShWYHLj9"
    },
    {
      "cell_type": "code",
      "execution_count": null,
      "metadata": {
        "id": "fSyCLwZGHLj-",
        "outputId": "47c2da02-083b-484f-dedc-64f5bbbb6c97"
      },
      "outputs": [
        {
          "data": {
            "text/plain": [
              "array([32, 38, 44, 50])"
            ]
          },
          "execution_count": 24,
          "metadata": {},
          "output_type": "execute_result"
        }
      ],
      "source": [
        "np.matmul(a, A)"
      ],
      "id": "fSyCLwZGHLj-"
    },
    {
      "cell_type": "markdown",
      "metadata": {
        "id": "rpvOJS8vHLj-"
      },
      "source": [
        "\n",
        "- **Columns of `a` (3) = Rows of `A` (3)**\n"
      ],
      "id": "rpvOJS8vHLj-"
    },
    {
      "cell_type": "markdown",
      "metadata": {
        "id": "QAaPS9BeHLj_"
      },
      "source": [
        "## Vectorization\n"
      ],
      "id": "QAaPS9BeHLj_"
    },
    {
      "cell_type": "markdown",
      "metadata": {
        "id": "BlGo0QZRHLj_"
      },
      "source": [
        "### `np.vectorize()`\n",
        "\n",
        "- The vectorized function **evaluates element by element of the input arrays** like the python `map` function\n",
        "\n",
        "\n"
      ],
      "id": "BlGo0QZRHLj_"
    },
    {
      "cell_type": "code",
      "execution_count": null,
      "metadata": {
        "id": "0iEaeDe0HLkE",
        "outputId": "6750289e-48b5-4399-d2c9-314ffd62eeb5"
      },
      "outputs": [
        {
          "data": {
            "image/png": "[encoded data removed]",
            "text/plain": [
              "<Figure size 432x288 with 1 Axes>"
            ]
          },
          "metadata": {},
          "output_type": "display_data"
        }
      ],
      "source": [
        "import math\n",
        "import matplotlib.pyplot as plt\n",
        "\n",
        "x = np.arange(1, 101)\n",
        "\n",
        "y = np.vectorize(math.log)(x)\n",
        "\n",
        "plt.plot(x, y)\n",
        "plt.show()"
      ],
      "id": "0iEaeDe0HLkE"
    },
    {
      "cell_type": "code",
      "execution_count": null,
      "metadata": {
        "id": "VoFlWASiHLkE",
        "outputId": "28871cd5-bc48-45e9-ab9b-4afb93df3b5f"
      },
      "outputs": [
        {
          "data": {
            "text/plain": [
              "array([0.        , 0.69314718, 1.09861229, 1.38629436, 1.60943791,\n",
              "       1.79175947, 1.94591015, 2.07944154, 2.19722458, 2.30258509,\n",
              "       2.39789527, 2.48490665, 2.56494936, 2.63905733, 2.7080502 ,\n",
              "       2.77258872, 2.83321334, 2.89037176, 2.94443898, 2.99573227,\n",
              "       3.04452244, 3.09104245, 3.13549422, 3.17805383, 3.21887582,\n",
              "       3.25809654, 3.29583687, 3.33220451, 3.36729583, 3.40119738,\n",
              "       3.4339872 , 3.4657359 , 3.49650756, 3.52636052, 3.55534806,\n",
              "       3.58351894, 3.61091791, 3.63758616, 3.66356165, 3.68887945,\n",
              "       3.71357207, 3.73766962, 3.76120012, 3.78418963, 3.80666249,\n",
              "       3.8286414 , 3.8501476 , 3.87120101, 3.8918203 , 3.91202301,\n",
              "       3.93182563, 3.95124372, 3.97029191, 3.98898405, 4.00733319,\n",
              "       4.02535169, 4.04305127, 4.06044301, 4.07753744, 4.09434456,\n",
              "       4.11087386, 4.12713439, 4.14313473, 4.15888308, 4.17438727,\n",
              "       4.18965474, 4.20469262, 4.21950771, 4.2341065 , 4.24849524,\n",
              "       4.26267988, 4.27666612, 4.29045944, 4.30406509, 4.31748811,\n",
              "       4.33073334, 4.34380542, 4.35670883, 4.36944785, 4.38202663,\n",
              "       4.39444915, 4.40671925, 4.41884061, 4.4308168 , 4.44265126,\n",
              "       4.4543473 , 4.46590812, 4.47733681, 4.48863637, 4.49980967,\n",
              "       4.51085951, 4.52178858, 4.53259949, 4.54329478, 4.55387689,\n",
              "       4.56434819, 4.57471098, 4.58496748, 4.59511985, 4.60517019])"
            ]
          },
          "execution_count": 26,
          "metadata": {},
          "output_type": "execute_result"
        }
      ],
      "source": [
        "y"
      ],
      "id": "VoFlWASiHLkE"
    },
    {
      "cell_type": "markdown",
      "metadata": {
        "id": "Vh65wU6SXMtl"
      },
      "source": [
        "## Broadcasting\n"
      ],
      "id": "Vh65wU6SXMtl"
    },
    {
      "cell_type": "markdown",
      "metadata": {
        "id": "KN5TboAuXgmB"
      },
      "source": [
        "![image.png](data:image/png;base64,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)"
      ],
      "id": "KN5TboAuXgmB"
    },
    {
      "cell_type": "markdown",
      "metadata": {
        "id": "e7iyxi5XXPUF"
      },
      "source": [
        "#### Case1: \n",
        "given two 2D array \n",
        "\n",
        "```\n",
        "[[0,   0,  0],      [[0, 1, 2],\n",
        " [10, 10, 10], and   [0, 1, 2],\n",
        " [20, 20, 20],       [0, 1, 2],\n",
        " [30, 30, 30]]       [0, 1, 2]]\n",
        "\n",
        "```\n",
        "Shape of **first array** is **4x3**\n",
        "\n",
        "Shape of **second array** is **4x3**.\n"
      ],
      "id": "e7iyxi5XXPUF"
    },
    {
      "cell_type": "code",
      "execution_count": null,
      "metadata": {
        "colab": {
          "base_uri": "https://localhost:8080/"
        },
        "id": "mABu7lQuYthr",
        "outputId": "02c76d93-57a8-4176-e329-4bbab7dccc7f"
      },
      "outputs": [
        {
          "data": {
            "text/plain": [
              "array([[ 0, 10, 20, 30],\n",
              "       [ 0, 10, 20, 30],\n",
              "       [ 0, 10, 20, 30]])"
            ]
          },
          "execution_count": 5,
          "metadata": {},
          "output_type": "execute_result"
        }
      ],
      "source": [
        "a = np.tile(np.arange(0,40,10), (3,1))\n",
        "a"
      ],
      "id": "mABu7lQuYthr"
    },
    {
      "cell_type": "markdown",
      "metadata": {
        "id": "j5-a1VVuZKR5"
      },
      "source": [
        "**`np.tile` function is used to repeat the given array multiple times**"
      ],
      "id": "j5-a1VVuZKR5"
    },
    {
      "cell_type": "code",
      "execution_count": null,
      "metadata": {
        "colab": {
          "base_uri": "https://localhost:8080/"
        },
        "id": "icADFH4vZTRw",
        "outputId": "f02310a5-e44c-4132-b84b-8013fd4927ac"
      },
      "outputs": [
        {
          "data": {
            "text/plain": [
              "array([[ 0, 10, 20, 30,  0, 10, 20, 30],\n",
              "       [ 0, 10, 20, 30,  0, 10, 20, 30],\n",
              "       [ 0, 10, 20, 30,  0, 10, 20, 30]])"
            ]
          },
          "execution_count": 6,
          "metadata": {},
          "output_type": "execute_result"
        }
      ],
      "source": [
        "np.tile(np.arange(0,40,10), (3,2))"
      ],
      "id": "icADFH4vZTRw"
    },
    {
      "cell_type": "code",
      "execution_count": null,
      "metadata": {
        "colab": {
          "base_uri": "https://localhost:8080/"
        },
        "id": "MkQEvvmiZdx0",
        "outputId": "aa04de38-a4cb-40ba-d09c-1a19670774c4"
      },
      "outputs": [
        {
          "data": {
            "text/plain": [
              "array([[ 0, 10, 20, 30],\n",
              "       [ 0, 10, 20, 30],\n",
              "       [ 0, 10, 20, 30]])"
            ]
          },
          "execution_count": 7,
          "metadata": {},
          "output_type": "execute_result"
        }
      ],
      "source": [
        "a"
      ],
      "id": "MkQEvvmiZdx0"
    },
    {
      "cell_type": "code",
      "execution_count": null,
      "metadata": {
        "id": "41VqvmjKZe3E"
      },
      "outputs": [],
      "source": [
        "a = a.T"
      ],
      "id": "41VqvmjKZe3E"
    },
    {
      "cell_type": "code",
      "execution_count": null,
      "metadata": {
        "colab": {
          "base_uri": "https://localhost:8080/"
        },
        "id": "hZLIrPAEZju9",
        "outputId": "2dc5292f-1ddf-4a31-d03c-9ea8367fec58"
      },
      "outputs": [
        {
          "data": {
            "text/plain": [
              "array([[ 0,  0,  0],\n",
              "       [10, 10, 10],\n",
              "       [20, 20, 20],\n",
              "       [30, 30, 30]])"
            ]
          },
          "execution_count": 13,
          "metadata": {},
          "output_type": "execute_result"
        }
      ],
      "source": [
        "a"
      ],
      "id": "hZLIrPAEZju9"
    },
    {
      "cell_type": "code",
      "execution_count": null,
      "metadata": {
        "id": "qMDnMNXvZnzn"
      },
      "outputs": [],
      "source": [
        "b = np.tile(np.arange(0,3), (4,1))"
      ],
      "id": "qMDnMNXvZnzn"
    },
    {
      "cell_type": "code",
      "execution_count": null,
      "metadata": {
        "colab": {
          "base_uri": "https://localhost:8080/"
        },
        "id": "bXM--TzOZttM",
        "outputId": "9774b1e5-08cb-4b24-db4e-156dd63b58c2"
      },
      "outputs": [
        {
          "data": {
            "text/plain": [
              "array([[0, 1, 2],\n",
              "       [0, 1, 2],\n",
              "       [0, 1, 2],\n",
              "       [0, 1, 2]])"
            ]
          },
          "execution_count": 15,
          "metadata": {},
          "output_type": "execute_result"
        }
      ],
      "source": [
        "b"
      ],
      "id": "bXM--TzOZttM"
    },
    {
      "cell_type": "code",
      "execution_count": null,
      "metadata": {
        "colab": {
          "base_uri": "https://localhost:8080/"
        },
        "id": "WZIwD9RuZxtu",
        "outputId": "bda4f83c-82c3-4ca7-d3db-377eb99aa2d3"
      },
      "outputs": [
        {
          "data": {
            "text/plain": [
              "array([[ 0,  1,  2],\n",
              "       [10, 11, 12],\n",
              "       [20, 21, 22],\n",
              "       [30, 31, 32]])"
            ]
          },
          "execution_count": 16,
          "metadata": {},
          "output_type": "execute_result"
        }
      ],
      "source": [
        "a + b"
      ],
      "id": "WZIwD9RuZxtu"
    },
    {
      "cell_type": "markdown",
      "metadata": {
        "id": "gOWmNrrzZzWw"
      },
      "source": [
        "\n",
        "#### Case2 : \n",
        "\n",
        "Imagine an array like this:\n",
        "\n",
        "```\n",
        "\n",
        "[[0,   0,  0],     \n",
        " [10, 10, 10],  \n",
        " [20, 20, 20],       \n",
        " [30, 30, 30]]\n",
        "\n",
        "```\n",
        "We want to add the following array to it:\n",
        "\n",
        "```\n",
        " [[0, 1, 2]]\n",
        "\n",
        "```\n",
        "\n",
        "\n",
        "**What broadcasting does is replicate the second array row wise 4 times to fit the size of first array.**\n"
      ],
      "id": "gOWmNrrzZzWw"
    },
    {
      "cell_type": "markdown",
      "metadata": {
        "id": "GrtlqkrQbOk5"
      },
      "source": [
        "![image.png](data:image/png;base64,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)"
      ],
      "id": "GrtlqkrQbOk5"
    },
    {
      "cell_type": "code",
      "execution_count": null,
      "metadata": {
        "colab": {
          "base_uri": "https://localhost:8080/"
        },
        "id": "jie4MEoebXSZ",
        "outputId": "6867061c-dff5-4ead-93f7-81873f0e1d06"
      },
      "outputs": [
        {
          "data": {
            "text/plain": [
              "array([[ 0,  0,  0],\n",
              "       [10, 10, 10],\n",
              "       [20, 20, 20],\n",
              "       [30, 30, 30]])"
            ]
          },
          "execution_count": 17,
          "metadata": {},
          "output_type": "execute_result"
        }
      ],
      "source": [
        "a"
      ],
      "id": "jie4MEoebXSZ"
    },
    {
      "cell_type": "code",
      "execution_count": null,
      "metadata": {
        "colab": {
          "base_uri": "https://localhost:8080/"
        },
        "id": "UHbFu3qNbZdu",
        "outputId": "81684511-5b30-4d9c-91de-e3e224e3282f"
      },
      "outputs": [
        {
          "data": {
            "text/plain": [
              "array([0, 1, 2])"
            ]
          },
          "execution_count": 19,
          "metadata": {},
          "output_type": "execute_result"
        }
      ],
      "source": [
        "b = np.arange(0,3)\n",
        "b"
      ],
      "id": "UHbFu3qNbZdu"
    },
    {
      "cell_type": "code",
      "execution_count": null,
      "metadata": {
        "colab": {
          "base_uri": "https://localhost:8080/"
        },
        "id": "tmCsoK3-bb3F",
        "outputId": "22c57543-833f-4b4d-ecdf-def47cedab2f"
      },
      "outputs": [
        {
          "data": {
            "text/plain": [
              "array([[ 0,  1,  2],\n",
              "       [10, 11, 12],\n",
              "       [20, 21, 22],\n",
              "       [30, 31, 32]])"
            ]
          },
          "execution_count": 20,
          "metadata": {},
          "output_type": "execute_result"
        }
      ],
      "source": [
        "a + b"
      ],
      "id": "tmCsoK3-bb3F"
    },
    {
      "cell_type": "markdown",
      "metadata": {
        "id": "OT3vGlUObdq9"
      },
      "source": [
        "\n",
        "\n",
        "#### Case 3: \n",
        "\n",
        "Imagine two array like this:\n",
        "\n",
        "```\n",
        "     [[0],\n",
        "     [10],\n",
        "     [20],\n",
        "     [30]]\n",
        "\n",
        "```\n",
        "and \n",
        "\n",
        "```\n",
        "  [[0, 1, 2]]\n",
        "\n",
        "```\n",
        " \n",
        "\n",
        "Broadcasting will replicate first array column wise 3 time and secord array row wise 4 times to match up the shape.\n"
      ],
      "id": "OT3vGlUObdq9"
    },
    {
      "cell_type": "markdown",
      "metadata": {
        "id": "5TbIENBIdqi6"
      },
      "source": [
        "![image.png](data:image/png;base64,iVBORw0KGgoAAAANSUhEUgAAA/MAAADZCAYAAABsI2BuAAAgAElEQVR4nOzdZ3hUZf7/8Xcy6b2RTujSiyC9oyJFFAVBLJQFIaG4IbA/UUSxgALSe+9lYQUBBUWlCQKCNJEWSALpyaRMMpl+5vwf8M8sWCCu4jkD9+tZvHLJh8Mp9/euLrIsywiCIAiCIAiCIAiC4DRclQ4gCIIgCIIgCIIgCMIfI4p5QRAEQRAEQRAEQXAyopgXBEEQBEEQBEEQBCcjinlBEARBEARBEARBcDJuSgd4mJSWlmIymbDb7UpH+UPMZjORkZF4eHgoHUUQBEEQFGOxWNDr9VitVqWj/GFeXl54eXnh4uKidJQKs9vtuLi4OFXmcm5ubri6ijEzQRDuL1HM/w1kWSYnJ4dDhw5x7do1bDab0pH+kKysLMaMGUOdOnVwd3dXOo4gCIIg/O0MBgNnzpzh1KlTFBUVKR3nD5EkiTp16tCsWTO8vLyUjlMhdrsds9mMm5ubU7U97HY7rq6uBAcHExgYqHQcQRAecKKYv89kWSYvL4/58+eze/duTCaTU3yUZFkmNTUVi8WCLMtUrVqVmJgYQkJClI4mCIIgCH8ro9HI4cOHmT59OmlpaXh6eqp+tFiWZUwmExkZGWg0Gp599lnCw8MJCgpSOtpd2e12R9tDo9E4zaxAu92O1WpFkiTc3Nyw2+2imH/AFBQUUFpairOc6i3LMpIkIcsybm5uqn9nlZMkCbvdjkajcZrZLTabDVmWiYmJwdfX92/9s0Uxfx/JsoxWq2XGjBns2bOH/v37M3ToUGJjY5WOdleSJHHjxg26detGUVERhYWFBAUFodFolI4mCIIgCH8rk8nEt99+y9SpU/Hz82P16tW0a9dO1d9EWZYxGAx88803jBw5krp16zJlyhSqVaum6tx2ux2dTkdaWhpms5mIiAiqVKmi+ga93W6nqKiIzMxMdDqd080mEO6tqKiI2bNnc+jQIadYZiNJEmVlZRQVFSFJElWqVFH1sw+3niOTyYRWq0WSJCIiIvDx8VE61j0ZDAby8vKwWCxs27aNxx9//G/980Uxf5/IskxBQQGTJ09m3759DBs2jEGDBhEZGal0tLuy2WykpKTQuXNnTCYTU6ZMYeLEiUrHEgRBEIS/ndlsZu/evbz33ntERUUxefJkmjdvruriUpZlysrK2LNnDyNGjOCxxx5j7dq1REZGqjp3eUGcmpqK3W4nOjqaypUrq3400W63U1hYSEZGBpIkERoa6nR7Iwm/T5ZldDodEyZMYPv27fTu3Zvw8HBV35c2m420tDQOHz6MJEm0atWKRo0aKR3rrux2Ozk5OXz//fcYDAZatmzJY489purrDKDT6dixYweFhYXIsqzIUmpRzN8HsixTXFzMG2+8wTfffENSUhIvv/wyYWFhSke7K5vNxtWrV+nSpQsmk4n169fTunVrPvjgA6WjCYIgCMLfymaz8dlnnzFp0iTq1KnDhx9+SMOGDVXduJRlGb1ez44dOxgzZgytW7dmy5YtBAYGqj53YWEhKSkpjqmqap/FCP8duMnIyECWZeLi4nB1dSUnJ0fpaMJfQJZlioqKeP3119m1axczZ87k5ZdfVvVosSRJHDt2jPfeew+AV155halTp6p6rwy73c7169eZNGkSOTk5DBkyhKSkJCpXrqx0tLsyGo306tULnU5HXFwceXl5iuQQxfx9UFJSwsiRIzl8+DDvvvsu/fr1U/0aNZvNxk8//cQTTzwBwI4dO+jYsSOlpaUKJxMEQRCEv5csy2zatIm33nqL1q1bM2XKFGrVqqXqghhunZqzefNmxo8fT9euXdm8ebNTrDnPz8/n+vXraDQa4uLiiIqKUjpSheTl5ZGeno6rqytVqlQhNDSUgoICpWMJf4HypbIjRoxg7969rF69mueff17Vz5Msyxw+fJiJEydy48YN/vGPf/Duu++qesmHLMtcuXKFN954g0OHDjFq1Chef/111c9kliSJjh07cu7cORISEoiLi2Pp0qWKZFHvfCsnVVxczJAhQzh8+DAff/wx/fv3V30hb7FYOHbsGE899RReXl7s3LmTjh07qno6niAIgiDcL0uXLuVf//oXjz/+ONOnT3eKQr6oqIgVK1YwYcIEevfuzYYNG1RdeJTLycnh+vXruLu7U6VKFdU34stlZWVx48YN3N3dqVatmtgg+AEiyzKZmZn84x//4NChQ2zZsoW+ffuq/nn68ssvGTduHFlZWYwaNYpJkyapupAHOHPmDImJiRw9epTx48eTmJhIRESE0rHuqXHjxpw9e5bx48fz1ltvKfreEiPzf6GCggIGDRrE+fPnmTVrFt26dSMgIEDpWHdlMpk4cOAAQ4cOJSgoiLVr16p+PaAgOAuz2cyMGTO4ceOG06yhLC0tJTU1FS8vLx555BGl41SI0WgkJSUFLy8vqlWr5jTvr/Pnz9OyZUvGjx9P1apVlY4j/H+zZs3io48+om/fvkyYMMEp1m3n5uaybNkyFi1axIsvvsiMGTPw9vZWOtY9lRfEnp6eVK5cmbCwMNVfa4D09HSysrLw8fEhLi6OgIAAp8gt3Fv5lO/XX3+dixcvsn79ep588knc3NRdMn366adMnjwZi8VCYmIiI0aMwNPTU+lYd3XkyBEmTZrEpUuXePPNNxk4cCCVKlVS9bNkMplo3LgxKSkpTJ48meHDhyv+3lL3nelEcnNzGThwIFevXmXu3Lk8/vjj+Pv7q/qGLCsrY+/evYwbN46IiAiWLFlC06ZNVf/CEgS1K983Iz4+nkOHDtGoUSOneK60Wi0XL17E3d2dOnXqkJ2drXSke8rPzyc9PR2LxUJcXBw5OTmqfu/Crfvjhx9+oKSkhLy8PAYNGiSKeRWQJImPPvqIOXPmMHjwYBITE4mOjlZ951BGRgYLFy5k8+bNvPzyy0yaNAk/Pz+lY91TRkYGN2/exMfHh8qVKxMcHKz6ZxcgLS2NnJwcAgICiI2NVX1bT6g4SZK4ePEi48aNIyMjg+XLl9OpUyfVj25v2LCBKVOm4O7uTlJSEq+88orqO/P27dvH+++/z82bN3n77bfp37+/4kXx3ZTvj9GmTRvS0tKYNm0agwYNIiQkRPHM6m9dqpzdbiczM5NBgwaRnp7OggUL6NChA35+for/496NTqfjs88+4/333yc2NpY5c+bQpEkT1b+wBEHt7HY72dnZjB49muPHjzNr1izatWun+mL+66+/ZtKkSYSGhjJixAgGDhyo+iLm6NGjzJ07F1mWSUhI4JVXXlH9uc5ms5mePXtSWlqKh4eH6u+Lh4XRaGTKlCksWbKEhIQEEhISVL/7O0Bqairz5s1jz549DBw4kMTERNU/A7Isk5GRQUZGBn5+fsTGxhIUFKT6aw2QkpJCXl4eQUFBjvOk1dzWEyrOarVy+vRpJk6cSHFxMfPnz6ddu3aqn1q/cuVKpk2bRkBAAKNHj6ZPnz5/+znnf9SOHTuYNm0a+fn5TJo0ieeee04VRfHvsdvt3Lx5k549e5KZmcmcOXMYMGAAQUFBqsgsWhF/giRJXL9+nfj4eDIzM1mwYAHt2rXDx8dHFf+4v6egoICtW7cyZ84cqlevzkcffUTjxo1FIS8If5IkSaSkpJCUlMTFixdZuHAhTz75pOo793bv3s3MmTPx9fUlPj6eV199VfXrP/ft28fq1avJycnh9ddfZ9CgQaofRS0uLmbAgAHcvHmTN998kwMHDlBYWKjqe+NhoNPp+OCDD9iwYQNjx45l6NChhIeHq/peArh8+TLz5s3jyJEjDB48mNdee031z63dbndMUff39ycmJobAwEDVX2uAa9eukZ+fT2hoKNHR0fj4+DhFbuHeyveOev/997FYLHzyySe0atVK9dPUFy1axKxZs4iIiGD06NH07NkTf39/pWPd1caNG5k1axZlZWW88847PP3006ou5CVJ4tKlS7z88stkZWUxb948+vbtq6qlNaKY/x/ZbDZ+/vlnkpKSyM/PZ9GiRbRp0wYvLy/V/OP+lpycHDZt2sTKlSupXbs27777Lo0aNRKFvCD8SVarlYsXL/LWW29x8+ZNZs+ezRNPPKHqI2xkWWb79u1MnjwZjUZDYmIiffv2VX1BsGPHDhYsWEBWVhYJCQkMGDBA1aOo5Zspvfjii5w9e5aJEyfyyiuvcOHCBYqKipSO99CSZZn8/HymTJnCrl27GD9+vFOs2YRb+y3MmzePc+fOMWTIEF555RXVH38rSRLp6emOKeoxMTEEBASo9rm9XXJyMlqtlrCwMEchr/Z7RKgYk8nEoUOHmD59OhqNhg8//FD1hbzdbmf+/PnMnz+fypUrM2rUKLp27ar6fbpWrFjB/PnzsdvtvPvuu3Tr1k01o9u/xWq18uOPPzJq1Cjy8/OZM2cOzz33nOqusyjm/wcWi8XRICspKWHOnDm0a9dO1Q8+3NqwZcOGDWzevJn69eszYcIEp1nLKwhqZjabOX36NB988AH5+fl8/PHHdO7cWdWFvM1m49///jcff/wx3t7ejBo1il69eqm+kN+wYQNLliyhpKSEUaNG0bdvX1WPokqSxNWrVxkxYgTnz5/n/fff58UXXyQyMhKNRqN0vIdW+VTvjz/+mG+//ZbExERefvll1RfEsixz6tQp5s+fz/Xr1xk8eDD9+vWjUqVKSke7K5vNRnp6Orm5uQQGBhIdHY2/v79qn9tysiw7CvmIiAgiIyNFIf8AMRgMfPPNN8ybNw9fX1/+9a9/0aJFC1W35202G7Nnz2bJkiXUrFmTkSNH0rlzZ9UVmL80b948li5diqenJ5MmTeLJJ59U1ej2L5lMJr7//nsmTJhAYWEh06dP55lnnlHldRZV3B9kMpk4efIkH374ISaTiWnTptG+fXvVj2ynpKSwdu1adu3axaOPPkpiYiINGzYUhbwg/ElGo5Hvv/+eTz75hLKyMj744AM6deqEl5eX0tF+l9lsZsOGDcyZM4fAwEBGjRpFt27dCA4OVjraXS1fvpxly5YhyzKvv/46zzzzjKpHUct79SdMmMCFCxf4+OOP6du3L2FhYaovYh5kdrudlJQUZsyYwbFjxxgzZoxj8yU1s9vtHD9+nAULFpCdnc3gwYPp3bu36gt5q9VKeno6+fn5BAUFER0djZ+fn+qfAUmSuHbtGgUFBURGRhIZGYm3t7dq3zfCH1NaWsrevXtZtmwZwcHBJCYm0rx5c1WvkTebzcyaNYvly5dTr149Ro4cSfv27VU/tX769OmsWLGCkJAQ3nzzTbp06aLq5YdlZWUcOHCADz/8kNLSUqZOnUrPnj1VWciDKOb/EIPBwPfff8/MmTORJIn33nvPKQr5K1eusHr1ar7++muaN2/OqFGjaNCggRgVEoQ/Sa/Xc+jQIebPn48sy7z99tt07NhR1b36er2e9evXs2jRIipVqsTIkSN54oknCAoKUjraXc2fP58VK1bg7e3NyJEj6dmzp6rX2RmNRo4ePcqUKVNITk7mo48+ol+/fqqeUvgwkCSJK1euMHv2bM6cOeOY3REaGqp0tLuSJInvvvuOxYsXU1RUxKBBg3j66adV3wFhsVhIT09Hq9USHBxMVFQUvr6+qi/kbTabo5CPjo4mMjJS9csohYrT6XTs2rWLdevWERERwahRo2jevLmq2/NlZWXMmjWL1atX06RJE+Lj42nTpo2qT66wWq1MmzaNlStXEhMTw5tvvkmnTp1UvUGfTqdj3759zJ49G5PJxOTJk+nZs6eqr7Mo5itIr9dz+PBhFi5ciIuLCxMnTqR9+/aqH9m+cOECK1eu5MiRI7Rp04bhw4dTv3591X9IBUHtdDodX3/9NStWrMDDw4PExETVd+4VFRWxbt06VqxYQWxsLAkJCXTq1Em1vc3lZsyYwYoVKwgPD2fUqFE89dRTqp5FoNfr+eabb5g9ezaZmZl88MEHjg1zBOXYbDZ++ukn5s+fz+XLl0lISOD5559X9b0Et3Lv37+fZcuWYTAYGDRoEN27d1f9khiTyURGRgYFBQWEhIQQFRXlFJvGWSwWUlNTKSgoICYmhqioKDw8PEQh/4AoLCzks88+Y8uWLcTGxhIfH0+zZs1U3Z7X6XTMmjWLdevW0bx5c+Lj42nZsqWqi2KDwcC0adNYsWIFtWvXZsKECXTo0EHVsxYLCgr44osvWLp0KZIk8fbbb9O9e3dVX2cQxXyFlJSUsH//flasWIG7uzv//Oc/6dChg+pHts+cOcPKlSs5efIkHTp04B//+Af16tUTHyRB+JMKCwvZs2cP69evx9/fnzFjxtC2bVtVNwZyc3NZu3Yt69evp3r16sTHx9O+fXtV9zYDTJ06lWXLllG9enVGjRrlWGenVsXFxXzxxRcsW7aMgoICJk2aRJ8+fVR/nR90VquVM2fOsHjxYlJSUhg+fDjPPfec6o9xs1gsjk5DSZIYPHgwTz75pOo7IAwGAxkZGRQVFREaGuoo5NXc/pBlGZPJxM2bNyksLCQ2NtZRyAsPhvz8fD799FO2b99OtWrVGDZsGE2bNlV1e16r1TJnzhw2bNhAmzZtiI+P57HHHlP1njw6nY7p06ezevVqGjRowIQJE1Q/2JGbm8vOnTtZu3YtGo2GcePG0a1bN1Vf53LqbXmqRHFxMd988w1r167F29ub0aNH0759e9X3LJ88eZLly5dz7tw5unTpwqBBg6hdu7aqP6SC4Azy8vLYvXs3W7duJSwszDHVTc2NgfT0dNasWcOWLVuoU6cOCQkJtGnTRvUfqSlTprBgwQIaNWrEmDFj6Ny5s6p7yLVaLTt27GDt2rWYTCYmTJjA888/r/rr/KAzm82Ob2JGRgbDhg3j2WefVXWnENzKvXfvXlatWoWbmxtDhgyhS5cuqu+A0Ov1ZGVlUVRURFhYGFFRUapfay7LMgaDgfT0dIqLix0j8mouPoQ/Jicnh23btrF7925q1arF0KFDadKkiarb81lZWcyfP59NmzbRsWNHEhISePTRR1U/uj1jxgzWrl3LY489xr/+9S/atWun6uucmZnJp59+ypYtW/D19WX06NE89dRTqr7OtxPF/F0UFhby1VdfsXnzZvz9/UlISKBt27aqviEBjh07xpIlS7hy5QrdunXjlVdeoVatWkrHEgSnl52dzY4dO9i5cycxMTEMHz6cFi1aqPqdcO3aNdasWcOOHTto1KiRY3qemj9SJpOJTz75hFmzZtGmTRv++c9/0r59e1Vnzs7OZtu2bWzatAk3Nzf+9a9/0bt3b1Xvn/AwMBqNHD9+nJUrV5Kfn8+wYcN45plnVN0pBLdyf/HFF6xatQofHx8GDx5Mx44dVb/RlV6vJz09nZKSEipVqkRUVJTq15rb7XbKysrIzMykpKTEUcireaaV8MdkZmayZcsWvvrqK+rVq8eQIUNo2LChqr/daWlpLFiwgH//+988+eSTjv2u1PxNyc3NZdasWaxdu5Z27doxduxY2rZtq3Ssu7px4wZbt27l008/JTQ01LGPkJqv8y+JN9Xv0Gq17Nmzh23bthEcHMyIESNo06aNqj9IAEeOHGHhwoWkpqby9NNP89JLL1G9enWlYwmC00tPT+c///kPe/fupXr16gwbNoxmzZqp+p1w8eJFVq9ezeeff07z5s1JSEigadOmqv1IybJMSUkJc+fOZfr06Tz++OOMGzeOVq1aqXqqa3p6Ops3b2br1q0EBgYycuRInnnmGTGqpzCDwcDRo0dZs2YNxcXFDBs2jJ49e6p+pkRZWRm7d+9m9erVBAUFMWTIENq3b6/6DoiSkhJHQRweHk5UVBSenp6qfkfa7XbHTIKSkhLHZneikH9w3Lx5k02bNvHNN9/w6KOPMnjwYNUvOU1OTmbhwoX85z//oXv37owZM4a6deuq+puSmZnJ3LlzWbduHZ07dyYxMZGWLVsqHeuuUlJS2LRpE7t37yYqKor4+Hgef/xxVV/n3yLeVr8hLy+Pzz//nO3btxMeHs7w4cNp1aqV0rHu6dChQ8ydO5esrCyef/55XnzxReLi4pSOJQhOLzU1lS1btvDtt99Sr149hg4dSuPGjZWOdVfnzp1j2bJlfPvtt7Rr146RI0fSsGFD1X6k7HY7Wq2WxYsX88knn/DUU0/xxhtv0LRpU1U3rFNTU1m/fj3bt28nKiqKhIQEevbsqeplFw+D8k1r161bh8FgYNiwYXTv3l3Vszvg1nFZu3btYtWqVURERDBs2DBat26Nt7e30tF+lyzL6HQ6MjIyKCsrIyIigujoaFV3wMGtd05JSQnZ2dmUlZURHR1NVFSUeHYfIGlpaaxfv56DBw/SsmVLBg0axCOPPKLaQl6WZS5fvsz8+fPZuXMnvXr1IjExkZo1a6r2OyjLMjdv3mT+/Pls3LiRrl27kpiYSNOmTZWOdldXr15l/fr1jgGaESNG0LFjR9Ve57txvsT3WUZGBrt27WLLli14eXnRtWtXwsLCuHbtmtLR7io5OZkFCxag1Wp56aWXeOGFF4iOjlY6liA4vWvXrrFx40YOHz5M06ZNGTJkCPXq1VM61l2dOnWKRYsWcfToUTp37szo0aOpW7euahupkiSRlZXFihUrmDt3Lj169ODtt99W/ckb165dY9WqVezatYuaNWsSHx9P165dVZ35YVBcXMz+/fsdU+sHDBhA7dq1ycjIUDraXdntdr777jvWrl1LREQEQ4YMcTSIjUajwul+W/la8/KR7bCwMEJCQpAkSbWZ4b+58/LyMBqNREVFERkZqdp3pPDHXb9+nbVr13LkyBHat2/PwIEDqVGjhtKxfpckSVy4cIH58+fzxRdf8PzzzzN+/Hji4uJUe1/a7XZSU1NZtGgRmzdvpnv37iQmJtKoUSOlo93V5cuXHUd216lThxEjRtCuXTvVXud7EcX8L5QfP5eRkUGTJk04fPgwhw8fVjrWPR07dgyAoUOH8sILLxAREaFwIkFwbrIsk5yczJo1a/j+++9p164dgwYNUv3+EydOnGDWrFmcPn3aMT2vRo0aqi0wbTYbaWlprF69miVLltCzZ0/eeecdateurXS0u0pOTmbp0qV8/vnnjr0IOnfurNoRn4fJiRMnWLBgAcePH6dOnTpcunSJ5ORkpWPdk81m47vvvqNq1aq88MILxMTEkJ+fr3Ssu5JlmdLSUsrKyhzvmNzcXIVT3ZvdbsdoNGKz2RxT69X6jhT+uOTkZFatWsWRI0d44oknePXVV6lSpQqSJCkd7TfZbDbOnTvHvHnz2LdvHy+88AITJkwgMjISQJW5JUkiJSWFJUuWsG3bNnr06EFiYiJ169ZVZd5yly5dYvny5Rw8eJAmTZowYsQIWrVq5dTPvyjmf+Hy5csUFxfz6KOPEhwcTHZ2ttKR7kmn0zmO2nnmmWdEIS8If5LdbufKlSssX76cU6dO0bVrV1555RWqVq2qdLS7OnbsGB9++CFXrlyhd+/evP7661SuXFm1BabFYiE5OZnVq1ezbt06evXqxTvvvKP6fT6uXLnCggUL2Lt3L61btyY+Pl71m/w8TM6dO0d6ejoNGzYkOjpa9QVxuYsXL2KxWOjXrx9169ZFlmUsFovSse7KbrdjMBjw9PTEz88PSZJU3ZAvZ7FYMBqNVKpUSRTyD5i0tDQWL17Mxo0beeSRR/D29ubYsWOOQS81MplMfP755+zevZvo6Ghq167NoUOHVPvthlvHfR47dow1a9YQGxtL5cqVOXfuHOfOnVM62l19+eWXnD59mtatWzNixAgee+wxVV/nihDF/C/IskyjRo2YMGECjz32mNJxKuT8+fMMHz6ciIgI1W/sIwhqZ7fbuXTpEosWLeLcuXM8++yzvPTSS8TExCgd7XfJsszx48d54403yMjIYMCAAbz++uuEh4er9iNlNpu5ePEiq1at4tNPP+XZZ5/l3XffJTY2Vulov0uWZa5evcrMmTP5+uuv6dy5MwkJCTRv3lzpaMJtfH19qVu3Lv3796d3795Kx6mwd999l9OnT1O3bl3VL+UpZ7VaOXXqFMHBwVSvXl2175tfKiwsJC0tDXd3d1HIP2AOHjzIZ599hqurKxkZGSxevFjpSPdktVrJyckhNDQUjUbD7NmzlY50T3q9nuLiYvz8/LDb7axZs0bpSPek1+vR6XQ8++yzJCQk0KxZM6Uj/SVEMf8b3Nzc8Pb2Vv3OseW8vb3Fx0gQ/gKSJHHp0iVmz57NxYsXeemll+jXr5+qZ7tIksSJEydISEhAp9MxdOhQxowZQ1BQkNLRfpfRaOTcuXOsWLGCffv20adPH95++21VX+fyQn7q1KkcPHiQnj17Eh8fr/q1gQ8rjUaDl5eX03zHAdzd3XFxccHV1dVp1m7a7XYAXFxc0Gg0TlPMu7q6Ok1W4Y9xcXHB3d2dXr16qX5ZHNz6tmRnZzNz5kyefvppmjRp4hT35g8//MAXX3xBy5Yt6dGjh9JxKuTYsWN8++23NGnSxCnujYoSxbwgCAK31qxdvHiRjz/+mOvXrzN8+HCee+45QkJClI72u6xWKz/88AMDBw7EarXy+uuvk5CQoOoCxmAwcOrUKZYuXcrRo0d54YUXmDhxoqqvs91uJzk5mcmTJ3PkyBH69u1LfHy86tf1C4IgPGzc3Nzw8PDgueeeo1OnTkrHuSdJkvj555+ZO3cuTz31FH379nWKAbp169Zx+PBhmjdvzujRo5WOUyHe3t78+OOPSsf4y4liXhCEh57VauXnn3/mnXfeIT09nbFjx/L0008TEBCAzWZTOt5vslgsnD59mv79+2O323nzzTcZNmwYHh4eqs1sMBg4fvw4ixYt4uzZs/Tr148JEyao+jpLksT169d56623OHnyJAMHDmT48OFUq1ZN6WiCIAiCIDzkRDEvCMJD7/z584wdO5YLFy6QkJBAVFQUly9fVjrWXeXk5DB06FAMBgP/+Mc/aNq0KWfPnlU61l39/PAQlCQAACAASURBVPPPrFu3jvPnz9O5c2e6du2q+uus1+uZNm0aly5dIj4+nqFDh6p6/wRBEARBEB4eopgXBOGh99Zbb3HmzBkAFixYwIIFCxROdHflxyrJsoyfnx+bNm1i06ZNSse6J6vVis1mw8PDgwMHDnDgwAGlI92T0WjEzc2NiRMn8tprrxEeHq50JEEQBEEQBEAU84IgCPj6+tKoUSM6deqk6rXb5QoKClizZg1Go5G3335b6TgVdvToUc6ePUu3bt2oUaOG0nEqZP369RgMBho3biwKeUEQBEEQVEUU84IgPPTc3d2pV68ew4YNc4q10NevX2fPnj0UFBQwbtw4peNUmJeXF1qtlv79+9OxY0el41TIyZMnVX9uriAIgiAIDyf1b5coCIIgCIIgCIIgCMIdRDEvCIIgCIIgCIIgCE5GTLP/m5SWlpKbm4ufnx9hYWG4uYlLLwiCIAjOQpIkMjMzkSSJ8PBwfH19lY5UIXa7HZPJhJubG+7u7ri4uCgdqUIkScJsNjvODRcEQRB+TVSU99mpU6eYO3cux48fR6/X4+bmRlxcHIMHD6ZPnz5OsdmWIAiCIDysysrKWLhwIf/5z3/IysrCbrcTEBBAly5dGDZsGE2bNlU64q/IsozZbCYlJYXS0lLsdjsAHh4eREVFUalSJdzd3RVO+WuyLFNaWkpGRgYlJSXIsoyLiwuenp5ER0cTERGhdEThIWYwGNBoNHh4eDhVp5hOp8NgMODq6kpERAQajUbpWHdlNBqRJAkvLy8x+FkB4grdR1999RVTpkzh9OnTGAwGZFkGIDc3lxs3bpCenu4401oQBEEQBHUxGo2MGzeO3bt3k5eXh81mA259x7Oysrh27Rpjx46le/fuCif9L1mWMRgMXL58GYPB4Cjk4dbxkGlpaZhMJmJiYvD09FQw6Z1kWaaoqIiUlBSMRuMduS0WC6mpqZhMJqpUqaJgSuFhYzKZWLJkCV9++SU3btwAIC4ujt69e9OvXz9CQ0MVTvj7rFYrP/zwA2PHjqWgoICwsDB27NhBdHS00tF+JS0tjZ07d/LVV19x8+ZNLBYLfn5+1K9fnz59+tCtWze8vLyUjqlKopi/TywWC6tXr+b06dOUlZXRqFEj2rRpw82bNzl+/DhZWVl8/vnnNGjQgH79+ikdVxAEQRCEX/jyyy85cOAAOTk5+Pv789RTTxEcHMyBAwe4evUqR44coUGDBjRr1kw1RxdKkkROTg5lZWXIsoyXlxdhYWGYzWYKCwuxWq3k5uYSFBSkqhFGk8mEVqvFYDAAt44MDQ4Oxmg0UlBQgNlsJisri/DwcLy9vRVOKzwMiouLSUxM5KuvvqKoqAiLxQJAamoqP/30ExcuXGD8+PGqPAVHlmUuX77MlClTOHPmDDabDYPB4OiQVJNTp04xe/Zs9u/fT3FxMWazGVmWcXV1JTk5mZMnT3Lq1CkmTJiAn5+f0nFVR2yAd58cOHCAs2fPYjAYqFSpEqNHj+bNN99k0qRJtG/fHoBLly5x+PBh8vLyFE4rCIIgCMLtLBYLGzZsICMjA7vdTp8+fUhKSmLixIm8+uqrVKlSBaPRyLFjxzhx4oTScYH/Tq/Py8tzzAasUqUKsbGxVKtWjYCAAFxdXbFYLBQWFmI2mxVOfIssy+j1egoLCx0dEJUrV6Zy5cpUqVKFwMBA4NZIY05Ozh2j9oJwP5hMJvbv38/27dvJycnBxcWF3r1706tXL9zc3MjOzmbz5s2OZbRqYrVaOXPmDDNnzuTQoUOqLODLabVaVq5cyRdffEFOTg4eHh60bduW5557jkceeQSTyURycjKffvopmzZtUjquKoli/j45dOgQWq0WWZapX78+jRs3Ji4ujqZNm9KkSROCgoIwmUxcuXKFK1euKB1XEARBEITbXL9+nYsXL2I0GgHo0KEDDRs2pHLlynTo0IEaNWoAtzrmf/rpJyWjOtjtdkpLSx0jiG5uboSEhODp6Ym3tzfBwcGO9bI6nc7xe0orHzUsz+Pu7k5ISAgeHh6O3HCr6C9vWwnC/VRSUsKqVasoLS3FxcWFl156icmTJ/Pxxx/z9NNP4+fnR1FRETt37iQ9PV3puMCt5z85OZmZM2cyZswYdu3a5ZjpolY//fQTZ8+epaSkBA8PDwYNGsTcuXOZOnUqb7/9Nm3btsVut5OWlsaBAweQJEnpyKojivn7JC0tzdHjHRkZ6ZgW4uHhQVhYGP7+/gAUFhaSm5urWE5BEARBEH4tIyPDsd+Nm5vbHdO7w8PDCQoKAm6dVqPValVRGJePzJdzd3e/YwMpT09PXF1vNf3MZrNqGsY2mw2LxeLY8K58530AFxeXO9bKGo1GUcwL95XNZiM9PZ3vvvvO8d8GDBhAvXr1qFu3Ln379nU8//v37ycjI0MV92RRURFffvklixYt4sSJE9hsNh555BGlY91VSUkJkZGR1KxZkxYtWtClSxceffRR6tSpQ6dOnWjRogVw632Vn5+vulkQaiDWzN8n+fn5jg97YGDgHZvM+Pr6OhoEZWVl6HQ6RTIKgvDXkySJrKwsdu/ezY0bNygqKiIqKop69erRrVs3AgICVLNG9bfk5uaye/duDh48SEBAAE8//TQ9evRQOtav2O12Ll68yJEjR7h27Rp6vR4vLy+io6Np3rw5zZs3F2vrhD8lLy8Pq9UK3Ppue3p6Op5dX19fR4Fpt9vR6/WUlpYqvhmWLMuOtoeLi8uvdqx3c3Nz/B1sNptqpqvb7XbHVGAXF5c7dtsuL+7LybKM1WpFo9Go+l0qOC+r1UpmZiYlJSXArXuwdu3ajvuyVq1ajudfq9Wi1WqxWq2KH6FYvq9EdnY2jzzyCH369CEgIID/+7//UzTX3Tz22GNERkZSWlqKj48PNWvWdDzXJpPJUbxrNBp8fHzEJni/QRTz94EkSRQUFDg+TIGBgXc84KKYF4QHk9ls5vTp08yfP5+TJ09SWFiIwWAgMDCQyMhIfvzxRxISEoiLi1Pl0TAlJSXs37+fWbNmcfXqVSpVqkSNGjVUV8xbrVa2bt3K9u3b+emnn8jPz8dsNuPu7k5gYCBVq1alR48evPjii1StWlXpuIKTun33+sDAwDsKYx8fnzs66fV6PTqdThXFfHkHBHDXYl6WZUdBXz5arxRJkhzX2tXV9Y7i/ZfFPNzaz0A06oX7xWazkZ2d7fjZzc2N4OBgx7MTFBTk+IaXn8JgNBoVL+bd3d1p0KABSUlJtGvXjgYNGnDx4kVFM91LTEwMMTExv/rvNpuNn3/+mZMnTwK3rnmdOnVUdQKHWohi/j4o7xm//VzX2xvuGo3G8bPNZrvjw6s25X8Hk8mkmh58QVCrgoIC5s2bx/bt27FarVSqVIn69etz5coVzp8/T0ZGBhEREQwePFjxRv8v6fV6Dh06xNKlS7l8+TKyLCNJkiqf+2+//Zbly5dz/PhxzGYzISEhxMXFUVJSQmZmJhkZGWRmZqLRaBg1ahQ+Pj5KRxacUPmOynCrkXx7wavRaO74WZIkVXzLZVm+45l1dXW9Y/T6l0W73W7/09OD/4rRcVmW78jxy//nL39W43vpdna7XfUZhd9ns9nIyckBbt17AQEBdxTqQUFBd3QwFRQUYDKZHBs1KiUgIIDOnTvToUMHYmJisNlsqi/mf4vNZuP7779n/fr1XLp0CY1GQ506dXjmmWeUjqZKopi/DzQaDb6+vmg0GiRJwmg03rGTpNlsdkyD8/LywtfXV6mod2WxWNi8eTNGo5GioiJV74YpCEozGo38+OOP7N27F6vVSlBQEO+88w5xcXF8/fXXrFq1ioKCAjZt2kSXLl0IDg5WfDSsPPelS5fYt28fX375JceOHVPF2r/fI0kS27dv58yZM5jNZpo0acKzzz5LvXr10Gq1fPrppxw4cIAbN26wf/9+unfvToMGDZSOLTghf39/xzNqNBrvWF9uNpvvKN49PT1V0Wnk4uLyq06G8nXot/9c7pedEkpxdXV15Phlh0R5x+LtfjlSrxYWi4WysjKMRqMq7gfhfyNJ0h1rs3/5b3n7khvgV+18pXh6eqryDPk/wmq1cvToURYtWsS+ffsoKyujevXqPPfcczRr1kzpeKqkzrehk3NxcSEkJAQ3NzckSaKkpOSODWn0er1jd0k/Pz/HJhpqYjKZWLt2LQsXLnSsRVXDB18Q1KqoqIg9e/ag0+nw8PCgVatWDBs2DE9PT+rWrcvevXtJSUnhwoULnD59murVqyveiw9w9uxZFi1axP79+x3Hwvj6+lJWVqZ0tN9UUFDgOM7Tzc2NJ598kmHDhhEbG4vJZMJkMnH27FkKCwvJy8sjNTVVFPPC/yQsLMxRNJaWlt5RvOv1ekwmk+NnPz8/VTzPLi4ud4wg/rLAsFqtjmK+fDq7Gtad3z61vnz6/+1+OevBw8NDFblvZzab0Wq15OfnY7PZVLmUSqgYV1fXOwr425/18p9v7xTz9vZWbQeTM7HZbBw9epSFCxeyb98+SktLqVatGq+++irPP/+8Y4my2pSUlHDmzBn0er0i7yVx590nYWFhuLu7Yzabf3X8y+3FvL+/v+PIFTWQZZnS0lLWr1/P7NmzqVGjBikpKQQHB4sXlSDcRWlpKadOnQJuFZnNmzd3rO2qWbMmlStX5ubNm1gsFi5cuEDXrl1V0fi/cuUKX3/9NSUlJY4dZE+dOqXaIzM1Gg39+/enZcuWGAwGunfvTkREBHBrVMLPz+9X64QF4X9RqVIlx3fPYDA4lpu5uro6Rl/h1vPu5+enill2t296d/tmeOVsNtvvLh1QkkajuaOYv30k/pfF/e1LFdXCbDaTl5dHfn4+kiTh7e2tuoxCxbm5uVGpUiXg1v2n0+nu2ODul7NVQ0JCxB4Of5IkSZw4cYLFixfz1VdfodfrqVmzJq+++iqvvvqqave/KS4uZsOGDXzxxRfUqFFDkSWUojq7T+rXr8/XX3+NXq/n+vXraLVa7HY7ZWVlZGdnU1JSgouLC5GRkcTFxSkdF/jvJh7r169n5syZPProo4wYMYIzZ84oHU0QVM9isZCVlQXc6tUvbwiUCwsLczTu8vLy7pito6SAgACaNWtGTEwMTzzxBCEhIaSlpam2mA8NDWXAgAHArXWpLi4ujp7wvLw8kpOTKSoqwsXFheDgYNU2AAT1q169OsHBwWRmZiJJEteuXUOn0xEcHMyNGzfIz88Hbh1TFxsbq4rirXxE0cXFxbEZnslkwtvbGxcXFwwGg2MKu4+Pj2o66d3c3BxTl8uLd6PRiLe3t6PtVM7Pz081nRBwa5Q2Ly8PrVaLp6cnQUFBjo4ewTndXszDrZkhOp3O8WyJYv6vJcsyp0+fZsmSJezbtw+DwUDdunUZNGgQAwYMoHLlykpH/E2FhYWsX7+eBQsWUL16dXr16vWbm/ndb+p4iz+Aunbtyr///W/y8/O5ePEie/fuxW63k5GRwfHjxykrKyM0NJTGjRtTvXp1peNit9vJz89n48aNzJ49m2bNmjFp0iSqVasmRrkE4R5kWcZkMlFYWAjcalCHhYXd8TshISGOxr5Wq1VNMV+/fn0SExOpV68eMTExjtkFzuD2Bn35+boHDx7EYrE43q9VqlRRMKHgzCpXrkzLli1JS0tDp9Oxe/duKlWqRHR0NJ9//jnXrl3DxcWFJk2a0Lx5c6XjAreeCT8/P3x8fCgrK0OSJLKzswkLC0OSJIqKipAkydHZpZadod3c3PD19XXkNpvN5OTkEBISgtlspqioCMAxCKKWKfZGo5G8vDwKCgrw9vYmJiYGq9Uqinkn5+7uTlxcHH5+fuj1emRZ5ty5c4SHh+Pm5sa1a9cc3/Dw8HDCwsIU38nemZ0/f57Fixc7lirWr1+f1157jX79+hEZGal0vN+k1WpZt24dc+bM4dFHH+W1114jKChIkXeqKObvk8aNG9OlSxeysrLIz89n3bp1HD9+HK1WS0pKCu7u7jRv3pwOHTooPjVPkiRycnLYuHEj8+fPp0WLFnzwwQfUrVvXccamIAi/T5IkysrKHOvqXFxcfjWF/vbNtMqn7KlB7dq1qV27ttIx/pSioiL27t3LsmXLOH36NB4eHrRo0YLnnnuOgIAApePd1S938RbUo3xJx9mzZzlz5gxHjhxBp9Ph5eXFlStX0Gq1REZG0qlTJxo2bKh0XAcPDw8iIiK4efOmY1dug8GAxWLBYDAgyzL+/v4EBgaqZmQebs0UCA0NdWwumJOTQ2lpKRaLBaPRiIuLC35+foSGhqqimDcajeTk5FBYWIivry8xMTH4+/tTUFCgdDThT3J3d6dq1aq0aNGC/fv3A7Bu3ToqVaqEu7s7O3fudBwr3alTJ2JjY1VxTzqjoqIi1q1bx+eff05hYSEajYbo6Gg8PDw4evToHb8bGhpKixYtFN1cUpZl8vPzWbt2LTNnzqRly5a89957VKpUiczMTEUyqect/oDRaDQMGTIEo9HIt99+S1ZWFt999x1ubm4EBARQr149+vfvr/jOjJIkkZGRwaZNm1i4cCFt2rRh6tSp1KxZU9FcguBsyqd7lxdmvyzQ7nZclPC/Ky4uZu/evcyfP58ffvgBd3d3GjVqRP/+/WnVqpXS8X5XYWGhqjp1hN/Wtm1bBg0ahKenJ1euXOHcuXNIkoSPjw+PPPIIPXr04KmnnsLPz0/pqA6urq6Eh4c7ZgtZrVYKCwtxcXFBo9Hg5+dHVFSUY8qwWnh6ehIWFobFYqG4uBir1epYMuPu7o6vry/R0dGqmC1oNBrJzs6mqKgIf39/oqOjVXUPCH9eYGAggwYN4vTp0xQXF7Nz507HkYPlm7OFhYXx7LPPqnYauDM4c+YMR48edSxbkmWZI0eO8MMPP/zqd1u1asXy5csVK+ZlWSYnJ4c1a9YwY8YM2rRpw4wZM6hRo4ainXiimL+PGjRowKRJk2jcuDEnT54kNzcXLy8vqlevTvfu3WnVqpWia2xsNhs3b95k/fr1LFu2jA4dOjBt2jTVrOEXBGfh5uaGv78/np6ejl1uy6fclyssLHRs6hQaGiqm5P0FSktL2bdvH/PmzeOHH37Aw8ODxo0bM3LkSF544QVVjTreTqvVsnXrVi5fvkzDhg3x9/dXOpLwOzw9PYmPj6dmzZocPHiQq1evYrFYCA8Pp23btjzxxBOqa8i7uLjg6elJ9erV8fX1Ra/XYzabcXV1dRTM/v7+qljjfzsXFxf8/f2pWrUqWq0WvV6PxWJBo9Hg7e3tyK00o9FIZmYmOp2OwMBAoqOjxTF0DyBvb2969OjBsWPH2LNnDzk5OWzduhX47zT8Z555htatW6u6I+f2kyI0Go2qOvBkWebYsWNkZ2ff8b22WCy/2rwTbj17tw+M/J3sdjuZmZmsXr2aadOm0bFjR5YsWUJ0dLTie3ios6XzAImKimLEiBGMGDECq9WKq6urKj6gVquVtLQ01q1bx8qVK+nSpQuffPKJatemCILaubu7ExISQlZWFna7/Ve9tAUFBY5ivlKlSqpZq+qsDAYDBw4cYO7cuZw8eRIvLy+aNGnC6NGjef7551W7GVH53iTTpk2jevXqvPfee2ImlMq5urrStWtXunbtis1mc5zlrqZG8W8pn64K3HHWvNp5eno6NpFSW26DwUBGRgY6nY6QkBCio6NVe1yW8Oe4uLgQFhbGzJkzqVWrFgcPHnSMHoeEhPDkk08yYMAAwsPDFU76+8r37+natSsAwcHBqvo22u123NzcaNKkSYWOkK1fv74iz5skSaSnp7Nq1SpmzJhB+/btWb9+PSEhIap4P4li/m+khqlhcKuQv3btGqtXr2b9+vV069aNWbNmqeqIPEFwNuUN0KysLMeLv5zFYiEvL89RzIsG4J9jNps5evQon3zyCSdOnHCskU9MTKRnz56qedf+Un5+PqtWrWL69Ok88sgjrF69mlq1aqmiMSBUjFpne9yLs95jasptMBi4ceMGer2esLAwoqKiVFUYCfeHj48PSUlJJCUlkZOT4yjy1TAwdy/lx+R+8cUXSkf5TRqNhjfeeEPpGHdls9lIS0tj+fLlLFiwgI4dO/LZZ5+p6tl3zq+S8D+zWq1cvXqV5cuXs2XLFp555hlmzpypiqlrguDMAgICaNu2LadOncJqtXLo0CFycnLw9fXl0qVLjs2ofHx8aNKkiSrOmHdWZ8+eZerUqRw/fhxJkqhWrRp9+vShQYMGZGRkOH7P3d2dwMBAxd9v5RvmLF68mE8++YR69eqxbds2YmNjFc0lCELFGI1GUlNTKSsrIyIigqioKLFU6iEkZq8+XGw2G9evX2fRokWsXLmSjh07smfPHqVj/Yoo5h8iVquVS5cusWjRIj777DP69OnDJ598IkYIBeEvEBoaSp8+fVizZg3FxcWcO3eOd999l1atWrFu3ToKCgqQZZn27dvTuHFjscbyf2Sz2VixYgWnT592bB5XWlrKypUr2bhx4x2/GxcXx6uvvkqvXr2UiArcmkaYm5vL7NmzmTdvHo0bN2bPnj2EhoYqlkkQhIopP3Y0OTkZg8FAbGwsERERqp39IwjCX8Nms5GcnMycOXPYtGkTXbp0YdeuXUrH+k2imH9I2Gw2Lly4wLx589i7dy8vvfQS06ZNEx8kQfiLuLu7U7t2bQYOHMjq1avR6/UsW7aMZcuWAbemk4WFhTF48GCioqIUTuu80tLS+Omnn+44NjM3N5fc3Nxf/W5xcbFjjaMS7HY72dnZfPjhh6xatYrHHnuMffv2KX4cqSAI91ZeyF++fBmTyUSVKlUc54wLgvDgstlsXLp0iRkzZrBz5066devGtm3blI71u8Qb6SEgSRJnzpxh5syZHDx4kKFDh/L+++87xXofQXAmlSpVYsqUKVSpUoUZM2ag1+uRZRlXV1fi4uKYNm0anTt3VvWovEajwcfHh4CAAPz9/VU3lfTo0aMYDIYKnR/v6+urWIdl+c63b731Ftu2baN9+/Z89dVX4r0rCE6gvJD/+eefMZvN1KpVi9DQUPH8CsIDTpIkLly4wJQpU/j666/p3bs3a9euVTrWXYli/gFnt9s5ceIE06ZN4+TJk4wePZqJEyeqalMZQXiQ+Pn5kZSUxOjRo7l69SqZmZnUqlWLKlWqOEVDsEGDBmzZssVx+obaRpH79OlDjx49KnQ8jUajUSS/3W4nLS2NpKQk9u3bR48ePdi+ffvfnkMQhD9OlmWMRiM//fQTVquVevXqERQUpPjxU4Ig3F92u53Tp08zefJkjh8/zoABA1i8eLHSse5JFPMPuMOHDzN16lQuX77M+PHjSUxMFIW8IPwNPDw8qF+/PvXr1wfUtSvz3ZQfsadWfn5+qj7TV5Zlrly5wj//+U9OnDjBiy++yPLly5WOJQhCBciyTFlZGRcuXMBms9GwYUMCAgKc5v0tCML/pvzM+3feeYcLFy4wZMgQpk+frnSsChHF/APsyy+/ZNq0aWRnZ/Pmm28ydOhQ0bMsCH8j0QB8uEiSxNmzZxk3bhyXLl3itdde44MPPnCKGRmC8LCz2+2UlpZy6dIl7HY7jRs3xs/PT7zHBeEBZ7fb2b9/P++//z43b94kISGBCRMmOE3NJIr5B5Asy3z22WfMnDkTvV7PhAkT6N+/v+rWvgqCIDwobDYb33//PRMmTCAzM5PRo0czduxYcVqIIDgBu91OcXExycnJuLi40KhRI3x9fUUhLwgPOJvNxp49e/j4448pKipizJgxxMfHq+oc+XsRxfwDRpZltmzZwty5c3FxceH//u//ePbZZ0WDUhAE4T4xm80cOHCAd999l+LiYpKSkhg8eLCqlwMIgnCLJEkUFhaSkpKCq6srdevWFYW8IDwErFYr27dvZ9asWZjNZkaPHs3AgQNVt1fQvYhi/gEiSRJr1qxh69atBAQEMGrUKLp27ep0N6UgCIKzMBqN7Nmzh6lTp2Kz2XjjjTfo06cPgYGBSkcTBOEeJElCq9WSlpaGm5sbtWvXFoW8IDwETCYTn332GfPmzcPNzY1//vOfPP/88/j7+ysd7Q8TxfwDZMuWLZSWllK7dm0SEhLo1KmTGBkSBEG4T/R6vWNJk7u7O+PHj6dHjx6ikBf+Z7IsKx3hoVE+Il9QUIC7uzu1a9fGx8dHFPKC8IAzGAysW7eOTZs2ERAQwPDhw+nZs6fTfrtFMf8bUlNT2bp1KydOnFA6SoVkZGSg1WopLCyka9eujBw5krZt24pCXhAE4T4pLi7mP//5D/PmzSMwMJCkpCQef/xxAgIClI720LPZbGRlZbFnzx6ysrKUjlNhP/74Izqdjry8PDIzM5WOUyGSJDl2gM/MzHSaQrisrAyr1QqAv78/1atXF7MYBeEPctbOx08//RRZlqlSpQojRozgiSeecNpCHkQx/ysuLi6kp6ezbds2PD09lY5TIRaLhcLCQtq0aUN8fDzt2rUTHyVBEIT7RKvVsnnzZpYuXUpERATjxo2jQ4cOogNVJSwWCzk5OWRnZ3Ps2DGl41SYVqvF39/fqYp5WZax2+0YDAan6jgp74Tw9/enRo0a4tl9gOTl5aHX69m4caNTPP92u528vDysVis7duzg2rVrTtEpdvr0aXQ6HUeOHOGjjz5SOk6FnDp1isLCQnQ6HU8++STx8fF06NDB6TvhRTH/C7IsU6dOHfr160etWrWUjlMhqampzJkzh9atWzt2YBUEQRD+ejk5OWzYsIHVq1cTFxdHUlISbdu2xcfHR+lowv/n6elJ1apVadu2LW3atFE6ToWtW7eOGzduEBsbS40aNZSOUyE2m43k5GT8/f2JiopyiiIEoLS0lNzcXPz9/UUh/4CJiorC39+f/fv3c/ToUaXj3JMsy1gsFux2O9999x1nz551iueopKQEk8nE+fPnyc7OVjpOhej1esrKynjiiScYNWoU7dq1c8o1lzo0VAAAIABJREFU8r8kivnfEB4eTvv27WnRooXSUSrk7NmzrFq1iqCgIKeZTSAIguBs0tPTWbt2LRs2bKB27dokJSXRsmVLpzrC5mGg0WgICQmhWbNmPP3000rHqbCjR49SUFBAUFAQoaGhSsepkPKp6l5eXoSGhjpFEVJOq9Wi0WiUjiH8xZo0aUJCQgJ+fn5O08lqMplITk6mcuXKBAUFKR2nQoqKisjJySEkJISIiAil41RIUVER+fn5PProo7Ru3fqBKORBFPOCIAiCcE+pqan88MMPbNmyhYYNG5KUlESLFi1wd3dXOpogCILw/wUHB9O8eXNq1qzpFIVx+Z4TZ86coXbt2oSHhysdqUJyc3NJTU0lKiqKKlWqKB2nQrKzs8nIyCAiIuKBmsUsinlBEARBuAudTsemTZvQarU0bdqUsWPH0rx5czGqJwiCIAiCokQxLwjCQ0+v15OVlcXGjRsJCwtTOs495efnk5+fj9FoZPHixU4ztfXIkSNkZ2ezc+dOLl26pHScCrl27Zpjw5zevXuTlJRE06ZNneaaC4IgCILw4BLFvCAID73Y2FgOHjzIv//9b9zc1P9atFgsGAwGTCYTS5cudZrCsqCgAJ1Ox+7du51m06ns7Gx8fHzo1asXY8eOpUmTJkpHEgRBEARBAEQxLwiCwCuvvEL9+vUxGo1KR6kQWZaxWq2YzWan2sDFYrFgtVrx9PR0ik6T/8fenUfHWdf7A38/z+z7ksxkJnubNlBKWdpS2SqCiHhRkJZdxQNeERS0XAXKRe/vINfLQe9FUaroVY8KyAWqgIKCFJCyaEMrIEtt2jRtJpPJ7Pv6LN/fHznP40y6pW2SmUk+r3M8mmQe85l0Zp7v5/v9fD9fYKLBl06nw8c//nEsXbq03uEQQgghhKiaYzRFCCEzaPXq1Vi9enW9wyCEEEIIIWTK+HoHQAghhBBCCCGEkMNDyTwhhBBCCCGEENJkqMx+mjHGkMlkIMsydDodTCbTIY8vEkURlUoFWq0Wer1+liIlhBBCyP4UCgVUKhUwxmC1WqHT6Q76eFmW1ccbDAbw/OyvlTDGIMsyGGMAMKW+FIwxMMbAcVzdGmlWx81x3JSOfFSu4Xm+aRqAEkLITKBkfpoNDg5i8+bNKBaL6OvrwxlnnAGn07nP4xhjiMVi2LNnD0KhENLpNCwWC9rb29HV1YX29na6QRFCCCGzrFAo4I9//CNCoRBkWcZFF12Erq6u/SbohUIBo6OjGBkZQSwWgyRJaGtrQ3t7OxYsWACTyTQrMTPGUC6XkUwmIcsytFot2traDvh4QRBQKpVQqVQgiiI0Gg10Oh2MRiP0ev2sjT8YY8jn88hms5BlGUajEW63+4C/XxAEFAoFdRFEr9erCydarZbGTWRGlMtlCIIAURTVCSfltdforzlRFJHP5yHLMjiOg91ur8tk46EwxtQmuZIkqZN7ykLnoSZU5zNK5qdRLBbDt7/9bTz66KPI5/NYs2YN+vv790nmGWMYHR3Fxo0b8eCDD+K9995DpVKBTqfDggULcNlll+Gaa67BwoUL6/RMCCGEkPlHkiS8+OKLuOmmmzA+Pg7GGPr7++H3+/epnMvlcvjrX/+Kn//853j22WeRTCbBcRwcDgfOOussfPGLX8QZZ5wBi8Uy43FXKhWMj49jZGQEjDGYTKYDJvOVSgWxWAzj4+PqIB8AjEYjvF4v2traYDKZZiVJKRQKCAaDCIfDYIyhpaUFTqdzn9V5ZaAfiUQQDAZRLpcBABzHwWg0or29Ha2trTAYDA2fXJHmwRhDsVhEOBxGMplEsVhUX3Nutxutra0wm80NmRwDE59niUQCQ0ND6uTX8uXLYTAY6h1aDUmSkM/nEYvFkE6nUSwW1Qpns9kMt9sNt9sNo9FI7+/9oGR+GjDGEI/H8Ytf/AKPPfYY8vn8QR+fz+fxq1/9Cvfddx9isRgsFgtaW1tRLBaxc+dO3H///QiHw/je974Hs9k8S8+CEEIImb+KxSIGBwdx2223IRKJqOXqB7JlyxbcfffdeOmll6DX6+HxeMDzPFKpFH7/+98jEAjgO9/5Ds4555wZi1k5pjIejyMYDB4yZsYYwuEwRkdHUalU1BVGWZZRLpcxOjoKSZLQ1dU1owN+pZIgEokgFosdMm5ZlhEKhbB3714AE1sINBoNRFFEsVjE8PAwGGPw+Xy0gkemTaVSwdDQEBKJBABAo9GAMYZsNotsNot8Po/e3l6YzeaGSzJlWUYmk1Hf642KMYZ0Oo29e/cik8kAgLp9plwuo1QqIZPJIJfLobe3t+EmIhpBY04lNQnlDT04OIgf/ehHuOuuuw6ZyAPAtm3b8NJLLyEajcLhcOD888/HN77xDVx++eVwOBxIpVJ4+eWX8dprr83CsyCEEELmL0EQEAwG8cILL+D666/Hjh07IEnSQa/J5/N47rnnMDAwAI7jsGTJEtx44424+eabceKJJ4Ixhl27duGhhx5SV5GnmyRJKBQKCIVCGBkZgSiKh7xGWd0WBAE8z8PtdqOnpwder1dN6lOpFNLp9CET7CPBGIMoisjlcuqK/KHiZoyhVCphbGwMwMRqvMfjwcKFC9HS0gKNRgNZlhEOh1EoFGYkbjL/KKvaSiKv0+ng9Xrh8XjUrSjKSvKhPi9mk1LFkkwmEQgEkM1m6x3SQVUqFYRCITVOvV4Pl8sFj8cDm82mTtolk0mMj4/XOdrGRCvzR6FUKuE3v/kN7rrrLgwPD6sz3EoTnP2RJAmbN2/G3/72NwDAypUr8eUvfxmrV6/GO++8g3g8jscffxyhUAgPP/wwzj333Iab7SOEEELmAkmSsHfvXnz961/Hxo0bIUkSzGYzisXiQZPCrVu3YuvWrcjlcnC5XFi7di1uu+02CIKA1tZWvPPOO8hkMhgYGMC7776LFStWTGvcoigikUhgdHQU2WwWHMeB53m1ZP5AotEoyuUyGGOwWCzo7OyE3W5HqVSCKIqIRCIoFArIZDJwuVzTvsotSRLC4TDGxsZQKBTUxnsH+1tLkoRYLAZBEAAAZrMZfX190Gg0cDgcyOfzKBQKyOfzyOVysFgsU2r+R8jBiKKIUCikfu33+9HT0wOe57Fr1y51IioajcJut8NqtdYx2gmMMRQKBYyNjSEajUIQhEO+v+otl8upE54ajQadnZ3o6OgAz/PIZrNqP5JKpYJsNqvupSf/RCvzRyGfz2PDhg0YHh6G0WjECSecgJUrVx60BCQWi2FoaAjJZBIA0NPTgyVLlgAAOjo6cOqppwIAstkstm3bhkKhMPNPhBBCCJmHyuUyBgYG8Oijj4LjOLhcLlxxxRUwGo0Hve69997DyMgIAKCrqwuLFi1S93f29fVh0aJFAIBUKoXXX399RuJOJBLIZrPQaDQwmUxwuVyHvK56FbG6S7/RaFSbyCn7hIvF4rTHXSwWEY/HUSwWodFoYLPZYLPZDnqNLMtIp9MAoPYkUAbzBoMBFotF3bOczWYbuqSYNAelGqR6Vdvj8aivO4/Ho04YpdPpGau+OVxK5c3Y2BhEUYRer5+Vnh1HQzkBxGg0qpMiyvvZaDSq8TPGIEnSlCqQ5htK5o8Cx3HQ6XRwOp249tpr8dxzz2H58uUHnclOpVLI5XLq1yaTSX2h6vX6mpuaKIoIh8Mz9wQIIYSQeY7neVgsFpx88snYuHEj7rjjjkMOgNPptLqtzmw21zy++l5eqVQQjUZnJG6O46DX6+H1enHsscdOKZmvrhzUaDQ1K1w8z6uD6JkaNCsVBAaDAV1dXVi8eDEcDsdBr1H21ysmj7Gqu9gLgnDI6gRCDkUpVa9WfcpDdRd7ZetII7zulJiUz7QFCxagt7e3zlEdXGtrK5YuXYpVq1Zh2bJlNZ9jgiDUNLvUarXUE2M/qA7pKJjNZqxbtw5nnXWW2jX2UKUf6XRaXW3neR5Go1FdAdDr9TVlOoIgIBqNUld7QgghZAbodDosW7YMTz31FM455xxwHKeuuB/MoZJ55V4uCAJisdiMxO3z+dDV1QWz2QxRFNXmUQeiNMurPoe+ugu3RqOZ8WRep9Ohu7sbBoMBBoNBLZ0/VNzVidXk48Cqk/lGSapIc5NlueY1x/N8zdaNyRNhyiRSvbvacxwHm82GxYsXo7W1VW3I2Syq/6aMMeRyOTV+nU7X8FUG9ULJ/FEwmUy45JJLDmvvRjqdVlfmTSZTTQdMnU4Hq9Wq7m8RBAGRSGRGYieEEELmO51Oh+OOOw5LliyZ8r1c6b5cncxXT8RPXpmfifu4Xq/f56i8Q6lO5AHscy670kEamEjmZ6Kpl5LEHw5ZlmsmFibvh68+xo5W5sl0mDyBNPk1N/m90yiTSDqdDi0tLQAmEuNGiOlIxeNxBAIBlEolAIDFYoHP56tzVI2JkvmjdCSzcNUfAJMHD5ObVNS7yYPyQZDL5RqqWychhBAyHZQmbIfz+Mn/fbB7eb3v44qpxHEksc7282uUv+fByLJMY6YmV50ITx7rT/6aMdYwTeaa4f1xMIwxxGIxBAIBdcJUSeQP1ctkvqI987PMbrfDZDIBmOiGX91gplwuI5PJqB8IOp0Ora2tdYkTmIjv1ltvRTqdRjgcnlI5HCGEEDLX2Wy2A97Lla7LQO1KWb3tbzWxOgGpXo3XaDQN0xF+conz5LFI9aq9Tqera6lzsVhEIpFAJpOhRl1NTOmJpZj8bzn5vVO9RYUcOcYYotEoAoEAcrmceupGV1dXXfOhQ5EkCclksm7veXrlzTK73a7u+ZAkCcViUS0hKZfLasdW4J9nWtZDPp/Hddddh9/+9rcoFovqHjdCCCFkvrPb7TCbzQAmErjqk2fK5XLNmcn1uo9PpjSQqi6ln5zMK6uRGo2mpny9nvaXWFXHXf315D4As6lQKCAQCCASiYDneWrU1cQmv+Ymv1cmvwbrPYk0V8RiMQSDQTWRt9ls6O7uVvf/NyJRFLFr1y4kEglK5ucLh8OhDgCAiUGAUkairMwrtFotPB7PrManzIpde+21ePrpp/GZz3wGFotln4YzhBBCyHzlcDjUiXnljHNFpVJR7+V6vX7W7+MHU30vn7zPt1FX5gHU9AfY38p8dUVjPQb9uVwOgUAAyWRS7aHQqMkHObTJybzSx0oxOWmr5yTSXBGPxzE2NqYm8k6nEz09PWhpaWmYicXJBEHAzp07kUgkwBirW55Er7xZ5vF4sGjRIvXohV27duHtt98GAIyPj+Nvf/sbgIkSvhUrVsxq50ZZlhEMBnH99dfjT3/6E9atW4fPf/7z1D2SEEIIqbJ06VJ0d3cDAIaHh/Hee++hXC4jn89j9+7dakd8p9OJ008/vZ6h1nA6nerAOJPJqE2+SqUSSqUSZFkGx3HqufONQKPRwOl0AphIqhKJhDrpUC6XUSwW1UkJm8122I0Bj1Ymk0EgEEA6nUZbWxt8Ph8ldk2O4ziYTKaaCa3qbbDVfaSMRiMteB2lRCKBYDCITCYDWZbhcrnQ1dVV83nVaMrlsprIW61WeL3eWf/sUTTOtOs8odPpcPrpp+PFF1/E5s2b8fbbb2PDhg1455138P777+PPf/4zAMDn8+GKK66YtRuCJEkYGhrC+vXr8eqrr2L9+vW4+uqrYTKZ6KZECCGEVFm+fDlOPvlkvPHGG0in03jyySchSRL0ej2eeeYZ5PN5OBwOnHbaaTjuuOPqHa6qtbVV7YFTKpXUktZ8Pq9WE5jNZtjt9oZZmddoNGhpaUEwGIQoiiiVShgeHobdbkcqlUKpVAJjDFarFVardVYH/+l0GsFgEIVCAT6fDz6fT91iQZoXx3HQ6/Vwu93qaRTBYFB9T4yPj6ur8y0tLdSY7SiUy2VEIhE1kec4DpVKBdFoFPF4vOaxJpMJbW1tdd/CUi6XsWvXLqRSKTgcDnR1dan9MuqhMT6p55mVK1fi/PPPx9DQEMbGxvDCCy9g27ZtyOfziMfjcLlcOOecc2ZtNl8QBGzfvh3/7//9PwwMDOD222/Hpz71KXg8nkOeW0sIIYTMNw6HAxdccAHeffdd/PnPf8b777+P8fFxaDQaxGIxaDQaHHPMMbjyyisbZoUbmFhFbGtrQzAYRLlcRjKZRDabVc+VV1bBHQ5Hw6w0Kquk7e3tCAQC6nbAVCqFSqUCSZKg0Wjg9XprjvudaclkEmNjYyiVSmhra0NbW1vdVubI9NNoNPD5fEgmkxAEAblcDsPDw2CMqdUgRqMRbreb/t2PQjabral0UP6+5XJ5n8fa7fa6b1sqFosYGhpCKpVCa2sr2tvbYbVa9xvvbKFkfpo5HA74/X7YbDa43e79zmw7nU5ceeWVMJvN+O1vf4t33nkHgUAAJpMJJ510Ei644AJceeWVsNvtMx5vpVLBW2+9hf/8z//E22+/jfXr1+PKK69s6K6RhBBCyExRBvHKAN1oNO6TIHIch1WrVuHWW29FV1cXXnjhBYyPj4MxBo/HgzPOOANXX301Vq1aNatxK41qD7RyxXEcvF4vtFotIpEIcrkcyuUyeJ6H2WxGS0sLvF7vrDW8VZryVce9v2Rco9HA7/dDq9UiHA6rJwhoNBpYrVa0tbWhtbV11qoJlLJgQRDg8/ng8XgooZtjeJ6H3W5HX18fRkdHkcvlkMvl1J/bbDZ1vE8VrEcunU7vkwjLslzTz0MxuRHhbGKMoVAoYPfu3UilUmhra0N7ezssFkvdJz4pmZ9ml156KT7wgQ9AFEX4/f79ziBxHIfe3l5ceeWVWLFihVrmZjQa4fP5sHjxYnUv3kwqlUrYunUr7rnnHmzfvh3r16/H5ZdfDrfbPeO/mxBCCGlEbrcb3/72t9X95Mcdd9x+S7ftdjtWr16Nzs5OXHzxxWo349bWVvT09ODYY4+dtfJbZUV98eLFAPY9B7uawWCAx+OBxWJBuVyGKIrgeR56vR5msxl6vX7WBqcajQatra1qb54D/W5lH7/P54PVaoUoihAEAVqtFjqdDlardZ+j92aCsmc/GAxClmX4/X60tLRQIj9HKa9PvV6v9pUAJt5DJpMJNputYbaj7A/HcbBYLOrnQqM1tgQmPm/NZvOUknS9Xl+XEnvGGHK5HPbs2YNUKgW/3w+/3z+rlUAH01j/onPAsmXLsGzZsik91uv1wuv1qjNQPM/P2uxeoVDA66+/ju9+97vYvXs3brvtNlx22WVwOByz8vsJIYSQRmQymfCxj31sSo81Go1YsmQJlixZoh7tVo/BppLsTnXyQKvVqtV/yiC6HoNSjuNgNptrTvk5GJ1OpzYQVsZNs4UxhlgshrGxMTDG4PP50NLSUvf9u2RmaTQauFwuyLKs7pNvlu71HMfBYDDA5/OpXzdC8lnN6XROebW9HvHLslzT5NLv96Ozs7Oh+iRQMt8AZjOJBya6cG7evBn3338/RkZG8LWvfQ2XX345rFbrrMVACCGEzCWNdDb74Wi0wf1UzXYiH41GMTY2Bo7j4Pf74Xa7KZGfR5TqlWbUyBMPjTjBoJBlGel0GoFAANlsFu3t7fD7/Q2VyAOUzM876XQaL730Eh544AGMj4/jq1/9Kq644oqGatBDCCGEENIIGGOIRCJqN3O/3w+Xy9Vw5cqEkOkjSRLS6bTaL6GjowN+v3/W+okcDvokmkeSySQ2bdqEn/zkJ0ilUvi3f/s3XH755Q35wiSNaWBgAPl8HowxrFixgrZlEEIImbNkWVYTeb1ej/b29oY++3oqtm/fjnA4DFmWsWTJEni93qZ+PoRMN1EUkUqlEAwGkc/n0d7ejo6OjoatxKFkfp6Ix+N47rnn8POf/xz5fB7r1q3D5ZdfTjPL5LD87//+L/bs2QNZlnHffffBbrc3bHkUIYQQcqSURD4QCMBoNKKjowNOp7OhS5an4umnn8aLL76ISqWCW265BR/84Aen3LOAkLlOFEUkk0kEg0EUCgW0t7ejs7OzofOlxo2MTJtoNIpnnnkGv/zlLyEIAm6++WZccsklTX9DIrNvYGAA7733HiRJQiqVAmOMknlC5hlZlhGNRvHaa69N+Zr29nYcc8wxavMyQhqZKIqIRqMIBAIwm83o6uqaM0eQbd++HX/+859RKpXw6U9/Wm3qRsh8JwgCEokExsbGUCqV0N7ejq6uroavXKFkfo4Lh8P43e9+hwcffBA8z+Pmm2/GmjVrKAEjhBByRGRZxo4dO3DrrbdO+Zpzzz0XN9xwAyXzpOEJgoBoNIqRkRFYrVb09PTAarXSuImQOUwQBMTjcYyNjaFSqagr8o2eyAOUzM9p4+PjeOKJJ/DQQw/BZDLhy1/+Mi688MJ6h0WaAGMM+XwesVis5vvKucvAxOtrz5496kqF1WqF3W5v2m6vhJCpYYyhWCxiaGhoytccf/zxKJfLMxgVIUevUqmoibzNZsOCBQsa5izpI1GpVDA2NlbzvVwupx4FFovF1EkLYOL8dJfL1XDdugmZSZVKRU3kRVFUE/lmqcShZH6OCoVCeOyxx/DII4/A5XLhK1/5Cs4///x6h0WahCAIeP/99/HII4/UfD8Wi0GWZQDAY489hldffVUd5KxYsQIf/vCH4ff7Zz1eQsjs4TgOLS0t+OhHPzrla04++WRqmEkaFmNMTeQDgQCsVisWLVrU1Emtsh3mvvvuq/m+slUOAJ5//nns2bNHnYTv7u7GJz7xCSxatGjW4yWkHpT3fSgUgizLarO7ZknkAUrm56RQKISHHnoIjz76KNrb27Fu3Tqcc8459Q6LNBFRFPH+++/je9/73gEf8/jjj9d8/alPfQonnngiJfOEzHFarRYnn3wyNm7ceFjXUNUOaUSMMZTLZUQiEYyOjsLhcGDRokVNf9IPYwzRaPSg9/Hnn38ezz//vPr1KaecgpNPPpmSeTIvVCoVRCIRhEIhMMbURL7ZKnEomZ9DGGMIhUJ48skn8Zvf/AaLFy/GunXrcMYZZ9Q7NNJkOI6D2WxGZ2dnzffD4TAEQQAAeL3emsG52+1u2GM7CCHThzGGXC6HwcHBKV/jdDrR3t4Oi8Uyg5ERcniURD4cDiMYDMLpdGLx4sVz4l7GcRz0ev0+9/FkMolCoQDGGNxuN0wmk5q8tLW1Nf0kBiGHolTixGIxjI+Pg+M4dHR0oL29vekSeYCS+TklGo3ihz/8ITZv3oyTTjoJN998M1auXFnvsEgT0ul0OPHEE/Hv//7vNd//1re+pZYifeYzn8HChQvVD77+/n54vd56hEsImUWiKOKNN97AxRdfPOVrLrjgAtxyyy1YsWLFDEbW/JS9zGTmKYl8KBRCKBSC0+lEf39/Qx9BdTg4joPX693nPv7ggw9i69atEAQBF1xwAZYvX64m8G1tbejp6alHuITMGkEQEAqFEIvFwPM8Ojs7m7qqdG58Yk2zSqWCdDq9T/OvRpVKpSCKIh5++GEwxvCxj30M69atw7Jly+odGmlSWq0WxxxzDI455pia7z/wwAMYHx8HAHzyk5/E6aef3lT7iggh00OSJBSLxSk/vlKpqPt0Z4MgCMhms01zHweAYrEISZIgiqJaAdXolDhlWYYgCE2zqiVJEiRJQjKZVFeoFy9e3BSdq6eK4zi0trbihhtuqPn+G2+8gTfffBOCIODss8/G2rVrYbfb6xTlzJEkqSneR4wx9bOxWWIG0LQxM8YQiUTUypWurq6mX4iiZH4/BgcH8ZOf/ARtbW31DmVKYrEYwuEwSqUSrr76aqxbtw79/f31DosQQsgcxHEcbDbbYU0Y9/b2wmw2z2BU/1SpVBAIBPDoo49i69ats/I7p8Nf//pXtfv4nj176h3OlMiyDFmWkc1msXfv3nqHM2WlUgmCIIDnebS2tqK/v79pJiLIwYmiCEmSMD4+jkQiUe9wpkQURbXHQS6Xq3c4U1IoFCCKIlKp1KxO1B6NQqEAQRAgyzLMZjO6u7vh8XjqHdZRo2R+Ep7nEY1G8fLLLzfNDK0kSchms1i7di1uvPFGSuTJjNHpdNDr9ZAkiQY+hMxTWq0Wp59+Ot588816h7JfgiAgkUggFArh3XffrXc4U5bL5eByuZBKpZqqokApV2+2mDmOU0vr59P9TGlGKcsyNBrNnHvulUoFjDGkUql6h3LYMpkMstlsvcOYEsYYGGMoFAqHVaVVT4wxNZHv6elBa2trvUOaFpTMTyLLMs4++2x84xvfwKpVq+odzpS89dZb+OxnP4vly5c3fakIaWznn38+jj/+eMiyDI/HM+cGAYSQ5mexWLBy5Up8+tOfxtq1a+sdzpTdfvvtGBgYwAknnNA04w9BELBlyxZ4vV4sWrSoae4J8Xgcw8PDsFgsTRPzdFm1apVaGr1gwYI50yNAYTabwfM83G530xwtqFTktLS0NE2T0Fwuh2QyCZvNBqfTWe9wpiSbzSKdTsPr9TZNzFMxt97BhJAZddddd6n/e74NgAghhJBm96//+q/43Oc+B2Du3sd5nm+ahI0xhnw+j1AohJaWlqZZKAmHw8hkMnA4HOju7q53OFMSCoVQKBTqHca0o2SeEDJlzXCDIYQQQsiB0b28cdG/DTlc1IaaEEIIIYQQQghpMpTME0IIIYQQQgghTYaSeUIIIYQQQgghpMlQMk8IIYQQQgghhDQZSuYJIYQQQgghhJAmQ8k8IYQQQgghhBDSZCiZJ4QQQgghhBBCmgydMz9NKpUKRkdHEQ6HwfM8PB4P/H4/jEbjQc+MLBQKCIVCSCQSsNls6OjogM1mm8XICSGEEMIYQzQaxfj4ONLpNJxOJ/x+P1wuFzQazQGvE0URiUQCY2NjkGUZfr8fHo8HWu3sDLFkWUalUoEgCGCMQa/XQ6/Xg+cPvl5TfZ1Go4HBYDjo85xukiShUqlAFEUAgE6nm3LcpVIJoiiq18xm3GT+EkURHMc11euNMQZRFCFJEjiOg16vb/iz7CVJgizL0Gg0h/w8IJTMH7VKpYJnn30fwZBeAAAgAElEQVQWf/rTnxAIBJDJZMBxHKxWKxYsWICPf/zjOPXUU/dJ0AuFAl577TU8/fTT2L17NwqFAoxGI7q6unDOOefgwgsvhNForNOzIoQQQuYHSZIwPDyMJ554Am+88QbS6TRKpRJMJhOcTifOOOMMXHjhhejs7NxnEL9r1y78/ve/x1//+lckk0kwxuB2u3HSSSfhkksuweLFi2csblEUkc1mkUwmUSgUIEkSAECj0UCv16OlpQVut3ufgTtjDOl0GvF4HMViEZIkged56PV6uN1uuFyuGZ2IEAQB6XQaqVQKpVJJjVur1cJkMsHtdsPhcOw37kQigVgshkqlog729Xo9PB4P7HZ7UyVZpDnIsoxYLIZMJgNBEABMTDzZ7Xa43e5Zm7Q7Eowx5PN5jI6OQhRFaLVa9PX1QafT1Tu0fZTLZaRSKeRyOVQqFTDGwPM8jEYjnE4n7HY7JfYH0LivwCZQKpXw1FNP4d5778U777yDYrFY83Or1Yo333wT69atw7nnngu73Q5g4gb83HPPYcOGDRgYGEA2m1WvMZlMeOutt5BKpfD5z3++4WfPCCGEkGYlSRJGRkbwzW9+Ey+99BJGR0drfs5xHLZu3Yrdu3fjS1/6Evr6+tT78vbt2/GLX/wCjz32GPbu3QvGGACA53m8+uqrCAaDuOmmm3DMMcfMSNypVArBYBC5XE5d3VbwPI98Pg9BENDW1lYzlkgkEgiFQkilUmoiXX2NJElobW2dkSRFkiREo1GEw2H1d1XTarVq3B6PR/2+LMuIx+MYHR1FNptV/9bAxL9RoVBAZ2fnIasoCDkckiQhEAggFouhWCxClmUAExNmyqSfz+eDXq+vc6T7VyqVEAwGEY1GIcsy9Hq9+hwaSaFQwPj4OBKJRM0EH8dx0Gq1SKfT8Hg8aGtro/f3flAyf4QkScLevXvxne98B9u2bQMALFu2DKeccgoqlQq2bNmCPXv24JVXXoHRaERPTw9WrFgBABgaGsITTzyBzZs3Q6PRYOXKlTjppJPUx//tb3+DTqfD6tWrsWTJkno+TUIIIWTOyuVy+PWvf43HH38cpVIJDocDq1evRldXF3bu3InXX38dQ0NDeOihh9Df3w+32w232w1RFLFp0yY89thj2LNnD7q7u7Fq1SpotVps2bJFXenv6OjA7bffPu1xK4PfdDoNjuNgNpthtVrB8zyy2Szy+TwymQwkSYLdbofJZALHcRBFEePj42oib7fbYTabUSqVkMvlkM1mEYlE1NWw6ZZOpxGJRJDNZtUqRovFAsYYstksisUiUqkUOI6DxWKB2WwGMLGaPzo6ikwmAwBwOp0wm83I5XLI5XJIp9PQ6XQwm83qNYQcDVmWkclkMDY2BkEQwPO8+p7IZrPI5XIQBAEWiwUul6uhVo0ZYygUCgiHw4jFYg2ZwCtEUUQkEkE4HEalUoFWq4XNZoNGo0GpVEK5XEY6nYYkSdDr9Whtba13yA2ncV55TaZcLmNgYEBN5M1mM2655RasX78e69evxzXXXIOWlhYAwKuvvorBwUG1LOzVV1/Fli1bIAgC+vv78bnPfQ633XYbrrvuOpx00kkQBAE7d+7Eb37zm3o+RUIIIWROS6fT+PWvf41SqQSe53Heeefhtttuw2233YY77rgDxx9/PPR6PWKxGF599VWEw2EAE+X1r732GkZHR2GxWPDhD38Yt99+O2699VZcfPHF6jV/+tOfsGfPnmmNWSmdTafT6h55n8+H7u5udHV1oaOjQ00slKReWclOp9PI5XKQJAkGg0G9rqOjAxaLBQDU5Hjyqvl0xJ1KpZDP58EYg9lsronb6/VCq9VClmU1bmAiqUqn02oVo8FgQFdXF7q7u9HZ2amuiiolutMdN5mfJElCOBxWS+tdLhe6u7vR3d2tlnyXy2XE43GUy+U6RzuBMYZSqYRwOIyRkRFEIpF9qnYaTaFQQCqVQqVSAcdx6t+5p6cH7e3t6mRfoVBAPB6vqcohE2hl/ggxxsAYw7nnnotCoYD29nasWbNGvRnyPI+HH34Y4+PjKBaLSCQSKJfLKJVKePvtt9Wb+5IlS3Duuedi0aJFMBgMOOuss7BlyxYkEgm88MILuOWWW2AwGOr5VAkhhJA5RxkU9vf3w+PxoFQq4dprr8Wpp54KrVaLnp4erFy5Up2Mj0ajKBQKAIC33noLO3bsgCiK6Orqwqmnnorly5dDkiR86EMfwmOPPYbR0VHs3bsXAwMD6O3tnda4NRoNbDYbJEmC2WyGx+NR++wozeyUrX+lUkm9Nh6Pq8mJ1WpVV+31ej1SqRSy2SwEQUA+n0e5XJ7WVW5l4kGJ2+VyoaWlRY1bEATEYjGIoghZltU4JUmqGcTbbDY4nU7wPI+WlhaEQiG1kV42m6W98+SoMcZQqVSQSCTU7/l8PjidTnAch3K5jHw+rz7G6/XCZDLVMeIJyvabQCCAQqEAjUYDo9FY8xnQaARBUPtlaLVaeDwedfXdaDSiXC6rk3TlclntlUH+iZL5I2QwGHDmmWeip6cH2WwWra2tNQ3rstmsOhum1WphsVig0+kwPj6uNm8BJmb6vF4vAMBut6O7uxvAxIs7EokgkUjA7/fP8rMjhBBC5j6Xy4XbbrtNLZs9/fTT1YGiJEk1+7odDoc6uT42NoZ4PA4AaGlpUQefGo0GTqcTPp8Po6OjKBaLGBoamtaYOY6D3W6HXq+HJEnqgF0hy3LN6lX13vdSqaT+rLp7vUajgU6ng0ajURPpSqUyrck8x3FoaWmB1WqFJEkwGo01ixWyLKvlwDzPq3HLsqxOTHAcV5M08TwPg8Gg9gSo3m9LyJFijKFcLqsTSsDE5JfyOrNarep7R3kcY6zufa4kSUKxWESxWITRaITD4YBer0cgEKhrXAdjMpng8/nUUzUmNwxX/qYcx9X979uoKJk/QlqtFgsXLsTChQv3+Vk2m8WTTz6p3uh7enrQ1dUFo9GolrgB/7wpKTcmZcZaIQgCotEoJfOEEELINOM4DjabDaeeeup+f75t2zYMDAwgn89Dq9XihBNOULfPKSXdANT96orqe7myoj/dcRsMhv1W7YmiiGQyqa7EaTQa2O12cBwHxpiadAAT45jqwXH1MVCSJE17ee7kMU+1crmMTCajxq3T6dRKR2WVVKHT6Wrirn4eyqo+IUdj8muO47iaDvCT3zuCIDTEirEyudXa2gqHwwGn04lyudzQyfyB+lwopfXK9hqNRgOTyVT3v3EjomR+muVyOTzxxBP47W9/i2QyCYPBgAsvvBB9fX0AoO4XAyZu+CaTSf2A0Ov16syfctONRCJ1ey6EEELIfPTWW2/h3nvvRSAQgCzLWLp0KU477TQ1mU+n02rJvdlsVhNP4J/3cmAimY/FYrMSsyRJSCaTGBsbAwB1/6nFYlGb30mSpCbzk89w5nm+JpmfrRVu5W8Ui8XAGFOP/apO5qtXSCd32a9OrJSkipCjMTmZ12g0+0wgVVMmkeqdaGo0GrhcLrhcLphMJsiy3DD7+Q9H9R75fD4PjuNgNBrhcrnqHVpDomR+GuVyOTz11FO46667MDw8DI7jcOqpp+Kyyy5DV1cXANSU7Wi12pqZPp7n1RlnxhhkWVYHC/WixFp9JAchhBAyV73zzjv4r//6Lzz99NMoFovwer245pprcMIJJ0Cv1+9TgqvX62uOplLOPgegNnObaaIoIpFIYGRkRB38ms1mdHd3qwnG5PL7yd23eZ5XExZlDDIVR1P6qlQujI2NoVAogOd52Gy2miOoJscyOWGqLr+d/BzrpXrLAGk+jLGaypTJr7nq9wowMfnVCP/ePM83xN79o6Ek8mNjY2oDP71eD7fbTcn8AVAyP02KxSKefvpp3HHHHQgEAuB5HsuXL8dXv/pVHH/88eoHgdJoBpi4+VbPNouiuM85lpP3jsymUqmEzZs3o1wuI5lMNnxHTEIIIeRIMcYwODiIO++8E08//TTK5TLa2tpw1VVXYc2aNeq558oqkV6vR6lUgiAI+72XA7NzH1dW5KsTeYvFgs7OzprfPXl1cXLiO3nP+kwftaVUH4ZCIbVZl81mg9/vr4lbiUWJbXLFQPXzmPwcZ5sgCCgWiyiXyzRmanLVr6PJE0STv6b93NNDSeSDwSCi0ShEUYROp0NLSwva2toa6vi/arIso1Qq1W1Ch5L5aVAqlbBp0ybceuutCAaD0Gg0OPnkk3HnnXfigx/8YM1ekOrSsUqlgmKxCFEUodVq1bMUFTqdTm2ON9uKxSI2bdqE9evXI5vNwmQyNeybiBBCCDkasixjz549uPPOO/G73/0OgiDA5/Ph6quvxle+8hW0t7fXPN7hcKjnsxeLxZoqukqlou7z1Ov16iTATDhQIt/d3b3P751cVl9dcq98Xb2YMLmUeDopPYGqE3mHw4H29nZ1K0M1ZeIEwD5JsiiKNX0A6jVWEQQB8XgckUgE5XKZxkxNbPIe+YO95oCJ8Tr9ex+9YrGIsbGxmkTe4/Ggo6NjWptxTiflBIFoNFozqTub6JV3lMrlMl577TXceOONCAaD0Ol0WLlyJb797W/jQx/60D4vPmUAAEzMQFUPAhohmWeMIZfL4fnnn8cXv/hFGAwGMMbgcrlm9MZOCCGE1IMsywgEArj77rvx6KOPQhAE+P1+fOELX8Att9yyTyIPTNzLlYn5QqFQU0qvNHMDJpLQmbqPVx9Dlcvl1BL1np6eA04g6PV6NemYnJDMVjIviiJisZhaWq+cANDZ2bnfRH5yYlXdxG/y86hXUlU9OVEul2EwGGjM1MQmv+ZkWa5J6Ce/d+o5iTRXlEqlmkRer9ejra0NnZ2dDZ/I7969G4VCoW5bfOiVdxQEQcAbb7yBL3zhCwgEAmCM4aSTTsL//M//YPny5QAmXpylUkl947vdbrS2tqql9olEAuPj4wAmuuAHg0EA/0zkZ3N/CGMM2WwWzz77LK699lq4XC58//vfpz0qhBBC5iRZlhEKhfDd734XP/3pTyHLMqxWK2666SZ86UtfgtVqVe/jyhnHAOD3++F2uwEAyWQS0WhU7QCfSqXU02zMZvN+T72ZjrgzmQxGR0eRyWTUFfne3l643W61ZH5yKX11lV11KbhyHJ0kSWoiU53MTBdJkpBIJDA2NoZ8Pg+e5+F0OtHV1QWHw7HfuKv3ASuLIMrPJElCpVJRvzYajbOeRIuiiEgkgvHxcXXs1uz7luc75cSI6tL56mMdy+VyzdYOWpk/OpVKBcFgEJFIBIIgQK/Xw+fzobOzs2HfS0pV1K5duyAIQl077dO04RFijCEUCuH6669Xz5DVaDT45Cc/iXA4jEQiUfP4/v5+dHd3w263Y/ny5ViwYAF27NiBN998E3/4wx9gsViwbds2bNq0CQDg9Xpx4YUXztpNiTGGdDqNZ599FjfccAP8fj8ef/xxeL1eml0mhBAyJ+VyOTzyyCP4/ve/r35v+fLl6Ovrw8DAQM1jHQ4Hli5dCpfLhVWrVuG4447Du+++i927d2Pz5s047bTTIIoiXn75ZYyOjkKn06G3txdnn332tMedz+cxNjaGVCoFYGJl0G63Q5ZlJJPJmscajUaYzWb1nPdEIqFOOmSzWeh0OmSzWeRyObWbvNVqnZFBdCaTwdjYmHqsn8FggMViUY/UUyhHbJnNZmg0GrS2tiIajYIxhkQigVwuB6PRiEwmg0KhAFmWodPp1HO1Z4soihgbG0M4HIbJZEJXVxdEUVQXaUhz4nlePaVCea2Gw2EYDAbwPI94PK5OhDmdzv0eE0mmRpZltdmdIAjqKRwtLS1gjKnba4DaRuH1JMsyEokEdu3aBcYY2tvbodVq1ZNEZhtlaUeoWCzi5Zdfxnvvvad+T5Ik3H777ft9/De/+U1cd911aGtrw+rVq/HKK69geHgYO3fuxN13341f/epXiMViCAQC0Gq1WLRoES6//PJZeS6MMaRSKTz11FNYt24duru78dxzz8Hn86mlgoQQQshcoiSGv/jFL2pWrzdv3ozNmzfv8/gVK1bgvvvuwxlnnIG+vj6cfvrp+Mtf/oKRkRFs3LgRAwMDMBgMGBwcBMdx6Orqwic/+Ul1BX86487n82oiD0xUCgaDQbW6r5rP58OiRYvUcnaLxaKuwu/evRuhUAiVSgWVSgUcx8HhcMDhcEz7gJkxhmQyWbMloVgsYmRkZJ/H6nQ6+Hw+LFy4UF29t1qtyOVykGUZ7733HsxmM/L5PERRVCcqlEmL2SCKIkZHRxGJRGCz2dSGg0pVBmluGo0GPp8PQ0NDYIxhfHxcrRiJxWKQJAk8z6O1tRVGo7He4TYt5bNMOQqQMYZIJIJoNLrPY+12O4499ti6Tp5IkoRYLIadO3eC4zj09PTA5/Pts4g7myiZP0K5XA5/+MMfplyGVl1+s2jRInzmM59BOBzGSy+9hEQigVgspnbIPfbYY3HTTTfB7/fPVPgqZTCzceNGfO1rX8OiRYuwadOm/e5bI4QQQuaKSqWCnTt3YnBwcEr38urzzAHgkksuQTQaxc9//nNEIhF1lUaj0aCtrQ3nn38+rrrqqhmJO5/PqyXxh1L9GJ7n0dvbi927dyOTyUCSJHXlUTnOrrW1dUY68JfLZRSLxSnFPbk7uLLIMTg4qDYOTqfT4DgOPM/DYrHA5/PNWlIlSRJGRkYQjUbhcDjQ2dkJq9U6K7+bzA6NRgOPx4NEIoFUKqUm9Aqe59HS0gKHw1H38+WbWTqdRrlcrvkeY2y/+88P9P3ZIkkSotGomsgvWLCg5hjNeqFk/ghxHAen04lLL710So8/7rjjam4yZ599Nnp7e/HMM8/g2WefxcjICFwuF1avXo1LL70UJ5544kyFXiORSODBBx/EHXfcgaVLl2LTpk2w2+2z8rsJIYSQeqlUKkilUlO+jy9cuBCtra3q1z6fD7fffjvOOOMMbNy4EW+//TbK5TKWLl2KCy64AJdeeumM7TtXujxPhd1ur0mMrVYrlixZgkgkgmQyiWKxCJ1OB7vdDq/XO2NJqSAIMJvNU9pbrNFo1AaDwMSYy26348QTT0QwGEQ2m0WxWITRaITNZkN7e/usrdZJkoTh4WFEo1G0tLQ0dIMucnT0ej2WLl2KQCCAaDSq9mswGo1oa2uD3++f1W0dh0uZ7FK2zDRCiXo1pYy+OsaDmdzHYDZJkoRwOIxdu3YBAJYsWQK3290QvRIomT9CHo8HGzZsmPIMEc/z+7wAe3t78cUvfhE33HCD+r3ZPKsyHA7jZz/7Gb71rW/hlFNOwTPPPFNz8ySEEELmKpvNhksuuQRr1qyZ0uP3d382Go34yEc+gnPPPbdmPLC/e/50MZvN6O7unvL4Y39x6HQ6dHR07NOpfybHHzab7bAmCg4Ud09Pz5QeOxMkScLOnTsRj8fh8/nQ0dFBJdZzHM/z6OnpQXd3t7qlQ6PRNFRSfCDKwuMpp5xS871GwXEc+vr6Dvua2SaKIkKhEIaHh8FxHJYtWzYjW5GOFCXzR+FoZ2NmM3GfbHR0FD/+8Y+xYcMGnH322fj1r39NiTwhhJB5RRmYH+3/Rz3u5dPxO2c77maMWSGKInbu3IlEIoGOjg74/X5qfDaPTD6urpk0StK5P40cG/DPfiSBQAAajQbHH3/8PtVO9UbJ/Dw0PDyMDRs24MEHH8RHPvIRPPDAA1RaTwghhBCyH0p/hVQqha6uLrS1tTV0eTUh5OhVKhUEAgGEQiFotVosXboUNputoRJ5gJL5eWfHjh34wQ9+gKeeegoXXHAB7rnnHjpHnhBCCCFkPyqVCnbs2IFsNove3l54PJ6G23tMCJlepVIJgUAA4XAYWq0Wxx13XEMm8gAl8/PKO++8gx/84Ad48cUXcdFFF+HrX//6lBvoEEIIIYTMJ6VSCYODg8jlcmoiP/lUA0LI3FIsFhEIBBCLxWAwGHDsscfCarU27Puekvl5Ytu2bfj+97+PgYEBrFmzBuvWrYPP56t3WIQQQgghDadQKGBwcBD5fB59fX1oaWlp2j3ThJCpyefzCAQCiMfjMBqNWLx4cUMn8gAl8/PCX/7yF/zgBz/A+++/j0svvRTXXXfdPh1sCSGEEELmO8YY8vk8du3ahXw+j0WLFqGlpQVaLQ2ZCZnLcrkcAoEAkskkzGYz+vr6Gra0vhp9Ms1hjDFs3rwZ999/P/bs2YPLLrsMV199NTo7O+sdGiGEEEJIQ2GMIZvNYvfu3cjn8+jv74fb7T7qEw8IIY1Led+Pjo4inU7DarViwYIFDb8ir6Bkfo6SZRmbNm3Cj370I4TDYVxxxRW44oor0NHRUe/QCCGEEEIaiizLyGQy2LNnD4rFIvr7+9HS0nLUxxATQhoXYwzpdBrBYBCZTAZ2ux3d3d2w2Wz1Dm3KKJmfgyRJwrPPPosHHngA6XQaV111FdasWUOl9YQQQgghk8iyjFQqhZGREZTLZbW0nhJ5QuYuxhiSySTGxsaQy+XgcDjQ1dXVVIk8QMn8nCMIAn73u9/hxz/+MSqVCj796U/jwgsvpGZ3hBBCCCGTSJKEZDKJYDAIQRDUZnfNUF5LCDkyjDEkEgmMjY2hUCjA5XKhvb296RJ5gJL5OaVSqeCpp57Cxo0bwXEcrr76avzLv/wLvF5vvUMjhBBCCGkokiQhkUggGAxCkiT09vaitbW13mERQmaQJEmIx+OIRCIoFotqIm+1Wusd2hGhZH4OefHFFxGPx+H1evHZz34WH/3oR9HS0lLvsAghhBAyBYyxeocwb0iShHQ6jWw2C1mW0dPTQ4k8IYepGT+zUqkUkskkJElCa2sr2tramjaRByiZ36/R0VH88Y9/xODgYL1DmZKRkREkk0kMDg7izDPPxOc//3mce+65cDqd9Q6NEEIImVWiKCISiWDz5s0oFov1DmfK3n33XWQyGXXFqBmIogjGGAqFAiKRSNOUpmezWYiiCFEUYbFY0N3dTYn8HCHLMmRZRjKZRKVSqXc4h8QYQ7lcBgBkMhkwxprifZTJZCDLMvL5PMLhcNPELIoiisUijEYjPB4P2traYDab6x3aUaFkfj927dqFX/7ylzCZTE3x4iyVSohGozjhhBNw/fXX47zzzmvKPR+EEELI0RIEAWNjY3jmmWfw+uuv1zucKRsdHYXFYsH4+DhGRkbqHc6UMMbAGEMul8PIyEhTjJmAiUkIWZZhsVjQ1dVFVYxzSKVSgSRJCIfDTXOkoCRJkGUZsVgMiUSiKd5HymRYOp1GPp9vipgFQYAoijAYDPB6vWhra4PJZKp3WEeNkvn98Hq9+MAHPtA0TeOi0SieffZZnHfeeTjttNMokSeEEDJvabVauN1uLFy4EEuWLKl3OFP24osvqh2VXS5XvcOZEkmSUCqVYDAY4HQ6m2JADwDFYhHZbBY2m40S+TmG53lwHAeTyQS9Xl/vcKZEFEVUKhUYDAYYjcZ6hzMlpVIJkiRBr9fDYrHUO5wpKRaLKBQKcDqd8Hq9cyKRByiZ36/jjjsO69atw6pVq+odypS89dZb+Pvf/w6Hw9E0H1yEEELITNDpdOju7sYVV1yBtWvX1jucKRMEAQMDA+js7ERfX1+9w5kSQRAQiUTgcDjQ19fXNMl8PB5HqVSCTqerdyhkmun1emi1WrS3t8Nut9c7nENStqmkUim0tbU1zeRSNBpFuVyGy+VCZ2dnvcOZkkgkglAo1FQTPVNByTwhhBBCCCFkztDpdDAYDPUO45AYYxBFEcBEVVEzxAxAnQhrppi1Wm3TTDgeDr7eARBCCCGEEEIIIeTwUDJPCCGEEEIIIYQ0GUrmCSGEEEIIIYSQJkPJPCGEEEIIIYQQ0mQomSeEEEIIIYQQQpoMJfOEEEIIIYQQQkiToWSeEEIIIYQQQghpMnTO/DSSZRmyLIPjOPA8P6WzDBlj6n84jlP/QwghhJDZxRiDLMtgjIHnefD81NY8lOsATPn+P90YYwBwWL9bueZwr5tOzRo3IYQ0AkrmpwFjDJIkYWhoCP/4xz9gs9mwePFi+Hw+6HS6g16Xy+Wwe/duBINBtLa2or+/Hw6Hg25OhBBCyCySZRnJZBLvvvsukskkFixYgL6+PpjN5oMm9YIgYHx8HDt37oQoiujv70dnZye02tkZYsmyjHK5jGKxCAAwm80wGo2HvE6SJJRKJZTLZWi1WpjN5lmLGZiIu1QqoVQqged5mEwm6PX6Q45/ZFlGPp9HqVSC0WiE2WyGRqOZpajJfCYIAjiOg0ajaZpxOmMMgiBAFEVwHAej0djwsYuiCFmWodFo6L09BZTMH6VKpYKHH34Y69evRzqdVmeLeZ7H2rVrcfvtt+PYY4/d58WYzWbxyCOP4L777sPQ0JB6nd/vxzXXXIOvfe1rsFgss/58CCGEkPlElmXs3bsXX/jCF/DKK6+oK+wcx6G7uxv/8R//gU984hNwOBz7XPvGG2/gv//7v/HMM89AEAQAgMFgwJlnnok777wTp5xyyozFLUkS4vE49u7di1KpVDP+cDgc6kTE/oyPjyMQCKjXcRwHrVaL9vZ2+P1+6PX6GYtbFEWEQiGEQiGUy2U1bq1Wi5aWFnR1de03blmWEQqFsGfPHrV6Qom7t7cXHo9nVicjyPygfD5Eo1GUy2UAE+9xr9eL9vb2GX2vHC1ZlpFKpbBjxw6IogidToeTTz4ZBoOh3qHto1AoIBwOIxaLqZ8LPM/DYrHA5/PB4/FQYn8A9Kl3FPL5PO677z5861vfQrFYrCn7AoDHH38cQ0NDuO+++3DKKaeoM2GCIOBHP/oR7r33XkSjUXXgAACBQAD3338/QqEQfvjDH065xI8QQgghh0cURWzfvh1r167F8PAwRFGs+fnQ0BCuv/56JJNJXHXVVWhpaVF/9vLLL+Oee+7Bpk2b1EQemJjk37RpE5LJJL7zne/gzDPPnJG4w+Ew9u7dC1EUawV21IcAABrDSURBVMYfkiQhmUzi73//O0488USYTKaaa0dHRxEMBmsSacYYKpUKAoEAJElCZ2fnjCQpgiBg7969CIfD+/ytBUFAJBJBuVzGokWLahJ6SZIwOjqKkZGRmjGTEveuXbsgSRLa2toOWhFJyOEQBAHvv/8+MpmMuiUWAEqlEgKBAPL5PBYsWHDASbN6Uqp/h4eHUalU1O81onQ6jb1796qLokqcsiwjk8mgUCggk8lg4cKFNGG3H5QpHiHGGOLxODZs2IBCoQDGGK644go8+uijuPPOO+H1elGpVLBt2zY8+eSTCAaD6rVbt27Fyy+/jEgkArPZjIsvvhg//elPccMNN8BkMiEej+PVV1/FK6+8UsdnSAghhMxtuVwO//d//4ehoSFIkoSFCxfi3nvvxS9/+Ut88IMfhF6vRz6fx4YNGzA4OKhepyTsr7/+OgRBwAknnIC77roL99xzD1asWAFBEPCPf/wDDz300IzEXSgUEI/HIQgCeJ6H2+3GMcccgwULFsBgMKhJ7vDwcM0AvjphZozB4/Ggv79fXY1XJgLS6fSMxJ1Op5HJZNRVwra2NnVbgsFggCzLyGazGBsbU69RnksoFFITeb/fjyVLlqirdbIsIxwOo1QqzUjcZP6RZRmJRALpdBqyLIPnefj9fvh8PvU1p/x88sRUvcmyrCbI+Xy+3uEcVKVSwdjYmPp3Vip0/H4/bDYbOI6DIAhIJBI1nwvkn2h64wiVSiVs27YN2WwWHMehv78fd999N9ra2nDeeedhx44d+P3vf49sNovt27cjkUigs7MTkiTh5ZdfxhtvvAHGGE455RTccMMNOP3007Fs2TJEo1Fs3LgRgUAADz74IM4666x6P1VCCCFkTioUCnjllVfAGINGo8E3vvENXHTRRdDr9WhpacENN9yAQCCAoaEhdTVZq9ViYGAAW7ZsQSaTgcvlwkUXXYQbb7wRkiTBarVi+/btyGQy2LJlC7Zu3YqVK1dOW8yMMZTLZRQKBQATe+R7e3thNpvVvaZ79+4FY0xd6VIqA6sTeavVCr/fD7vdDofDAVEUEY1Gkc/nkU6n4XQ6p32Vu1AoqKXKLpcLnZ2dMJlMKJVKkGUZY2NjEEVRXSThOA6SJCEajaqrixaLBT09PdDpdLDZbCgUCigUCsjn88hkMjCZTLR6R46ash1EmQxrb29HR0eH2hgzEolAFEXEYjHYbDZYrdY6Rzzx2ZDP5xEKhZBIJFCpVBp2NV6Ry+VQLBbVCRNlqw/P88jlcggGg4jH46hUKshmszWfZ2QCfdodIYPBgLPPPhuvvfYaQqEQdDqd2vDGZDKhXC5DkiQAgNfrVUtwkskkhoaGEI/HAQDd3d1YunQpLBYLent7sXz5cmzcuBG5XA5vvfUW8vk87Z0nhBBCZoDH48HPfvYzxGIxBAIBfPSjH4XdbgfHcTXlng6HAzabTd2z+Y9//AMjIyNgjMHv92Px4sVwOp1gjKH//7d3b7FNnvcfwL8+vT47PtuxcxoJSUVamrIKVLQOOmlsVSut6minbQghBira2KZ1a9G0+3XaBRNb1XZstDe9XS8miiZBJaotQmQDtKYtpVlpiQ9x4rMd26/9nv4X6Hn+dtqiBJLYTn6fKw5B/AK23+f7HH7P6CgGBgbw0UcfIZvN4urVq6sa5nU6HTweDx544AE0Gg3odDrY7Xbo9Xp+qw77uqWN8EqlEh+b2O12mM1mGAwGWK1WWK1WGAwG3hhPFMVVD/PhcBherxeNRgOCIMBut/NbfJrP/JtMJj5gZ1tt2SDe6XTCZDJBr9fzBniiKEJRFCwuLsLr9VKYJ/dE0zSIoohyucx/ze/38waNfr8fuVwOsiyjWCzyiaZ2YyvYbKKBNbZcXFxsd2l3xDKSIAhwuVz8TL/dbofdbkc2m4WmaZBlGYqi0Pt7CfrXuEt6vR5utxtutxujo6MAbj84P/zwQ/zrX//ClStXIIoi7HY7du3ahVAoBAB8+xp72DocDrjdbgCA1Wrl5/FYt9Z0Ok1hnhBCCFkDJpMJW7duxZYtW7B9+3bY7XZkMhlcu3YNZ86cQT6fBwDs3bsXkUiEB8xsNotSqQQAcDqdvDmeTqeDzWaDx+MBANTr9TXZGmo0GvlAnYXgWq2GQqHAFwuA25MVzatY9Xqdjz+MRiPvy8M6dOv1eiiKAlmW12TrsCAIEASBX+PLOtpnMhkUCgX+Nc3NBlmwYpqbd7EGeM09idhkBSF3i+1+ae7PYDab+eus+ceKokCSJL6y3E7sdi1VVeF0OhEOh6HT6VqOCHUal8sFm83GPxOae3XIsswnSth7nZrgfR6F+VXAHiyTk5P4zW9+g1u3biGRSKC3txc///nPsW/fPh7Ii8UinyFjV7GwmXNBEFq26UiShHQ6jaGhoXX+jgghhJDNw2Aw8Of0r371K1y9ehWfffYZ6vU6vve97+GnP/1py7O4UCjws6g2m63l2d38LG80Gkin02tWN1vVrlQq+Pjjj9FoNFCv12EymRCNRhEMBnnoYFdUNXePbw4f7BooFojX8hww+3tzuRwSiQREUYQkSbDZbIhEIggEAvxr2Zl5pjm8L/05C1WE3Av2XmH0en3LavDSq+nY8ZZ2h3mDwQCXy4Xh4WG4XC4IgtDxq/JsYnIp1sCPTZqaTCa+k4e0ojC/ij788ENcu3atZbZ+YGAALpeLv8GLxSI/52Y2m2G1WvnvNb9Q2XaShYWF9nwzhBBCyCajqiouXLiAZDIJTdMgCAK/gopN3LOz6M1n1pt30JlMJh7mJUlCJpNZ05rZKiIbewC3w4fZbG7ZJr806C4NJHq9vmW1ca1XuDVNQ61Wa9lCbzAYYDabWwb3qqq2TCws3frf/LUsVBFyL1YygQR0ziSSwWDgu1qMRmNH1HQ3VFVFPp/H3NwcRFHkR4n8fn+7S+tIFOZXUTQaxS9+8Qt88sknuHjxIubn53Hy5Ekkk0k8++yziEajLWfw2Ix6s+bf7wTsyj2aCSOEELLRNRoNHDhwAIqiYHJyEv/9739x7tw5ZDIZPP/885iYmODh8U7P8vWkaRrv28O60bMO0dVqFUNDQy1BvZM4HA5Eo1HU63WUy2XUajW+Uh+JRDq27jvptHEcWTlN01qC8NLXYKeO3dlW9G7GbglIJBIolUpQVRU2mw3BYJCOHX+J7v4f7zA7d+7ExMQE8vk8tm3bhj/96U+YmppCtVrFQw89hEgkAofDwe98bTQaEEWRh2VJklqukDAYDPzcXTsUCgWcPHkSOp0OQ0NDLefUCCGEkI3GaDTi2LFj0Ov1ePLJJ/HLX/4S7733HpLJJLZv347+/n6EQiHY7XZYLBZUKhW+tZ1pfpYbjUbeF2etsHP60WgUqqrC5XJhZmYG5XIZoigiEAjA4XDwM/GMqqotAaS5ed7Sr10r7Lws61gfj8d5XyHWdJCt2LPV+aU7BppX7ZceHVhv1WoVhUIBiqJ8rvkg6R7sNccsfc0tfe+s1/tlo9M07XNB3m63IxKJwOv1duzEniRJyOfzbbuikF55q8jv9yMSiWB8fBw/+MEP0NvbyxtPvP/++ygWi/zBBdx+AImiyLfyLN0mZzKZEAwG1/370DQN2WwWL730Es6ePYtjx45hYmKipSkFIYQQstEYjUYMDQ1hYGAAe/bswWOPPQan04larYZ3330XiUQCAFqe5bVajW+5B8CvUAJun59vPv+9FljwYJ3dvV4vX8GSJIl3gtbr9S1b6xVFaQkkrHEWcDucrPUKH1tFtFgssNvtcLvdvKFfvV7nd93rdLqWrfWyLLfU3fzzdoZ5diVYtVqF1+uFy+VqSx3k3i19zS19rzSfpwfaP4m0EbAgn0wm+dEbh8OBSCTCbxLoRI1GA7FYDPl8Hj6fry2TeLQyf5dEUcTU1BSuX7+OYrGIsbExPPHEE/zh53A4+AOTNcCp1Wpwu90tjXKq1SoWFxdhNpshiiLv5qrT6WA2m9d8ELCUqqqYm5vDyZMn8fbbb+PgwYM4dOgQQqEQfVARQgjZMBRFQSqVwoULF1AoFFCtVnH8+PGW57fdbucrdMlkkq+4s2c5u5e9uclUcxAVBIHfZrOadbOxg6IonxsrLF1VZDsAWT2sL8/Sc77N583XIswrioJyuYxqtQpFUfgtAOzfWqfT8XEGux6P/bogCKjVagDwuWvAmsM8u7JuvS0uLiKVSvEgHwgEaDdjF1sa5lkfK/a+Wjqh1K7X3UahaRoKhQLm5uZ4kHc6nejt7YXP51v1KzJXS71eRzwex8LCAnw+HyKRCIX5btJoNHD58mW89tprKJfLGB0dxc6dOxEOh6FpGiYnJ5HL5fgWep/PB5vNBkEQMDg4CLfbjUKhgFu3buH69ev42te+hnQ6jenpaQC3BxD3338/nE7nun1PiqIgFovh1KlTOHfuHA4fPozDhw/D7/d37NYWQggh5G4Vi0WcOnUKCwsLqNfrGBkZwVNPPQWTyYRcLocrV67woO71evlAbWxsDNFoFJ9++ikSiQRmZmZQq9Wgqio+++wzzM3NQafTwe12Y8eOHatas6ZpKJfLiMfjUBQFdrudN+FjTeWadwo0X6PldDr59lV2RMBisfCjAux6KIvFsiZhNJfLIZPJQJZlvtrGrqUSRZEHdnbXPPuxy+VCsViEpmkolUpQFAV6vR71eh2iKPK67Xb7ug/8y+UyUqkUarUafD4fAoFAx64ikuXR6XSwWq0wGo1863SpVOLj4UqlwrfeWywWmEwmGiffg1KphGQyiUKhwI8Ksa31ndoDQBRFHuQDgQCi0SisVmtbXged+S/UBUwmE4aHh5FOp1Eul1EoFPD73/8eO3bsQKFQwNmzZ/l1NPfffz+2bdvGz6zt2rUL77zzDi5duoTp6Wm88cYb+PTTT/HBBx/gn//8JwAgHA7jmWeeWbeZPlmW8cknn+DVV1/F+fPncfToURw9ehQul4s+oAghhGw4rPNzT08Prl27Bp1Oh1OnTiGRSMDv92N6ehpTU1MQRRFWqxV79uxBJBIBAExMTODBBx/E1atXkU6nce7cOTgcDuj1erz99tvI5/NwOp346le/iomJiVWv22Qy8Y7bmqYhFouhp6eHr3Cx1WuTydRy1tTn8yGdTkOWZVQqFSwsLEAURVSrVZTLZWiaBqvVCqfTueqBlF3vxe7lzufz0Ol0cDgcUBQFuVwOjUaDTyawXgMGgwE+nw9zc3O87kQiAZvNxpvmaZoGu90Op9O5roP/crmMZDKJRqMBv9/f0duByfKx3bFut5vfRjE3N8ePqbD3ENA6yUdWrtFoYH5+nveaYJ9V1Wq1pRcJcHti0ufztf2u+Vqthng8jnQ6Db/fj/7+/pZJ0/VGYf4uWSwW7N69G9///vfx5ptvolqt4o9//COGh4eRzWZRLBahKAoGBgZw6NAhPPDAA/zF9/DDD+Nb3/oWZmdnkUgk8NZbb+Hdd99FqVRCOp2Gx+PB3r17sWfPnnX5XiRJwo0bN3D69GlcvHgRR44cwbFjx3ijPkIIIWQj8ng8+PGPf4y5uTncuHEDk5OTuH79OrxeL27dugVJkmC1WrFv3z48+eSTfMt8MBjEN7/5TUxPT+Py5cuYmprCzZs3YTKZkEwmIQgCxsfHsX///lXvwMwCcCAQQCqVgiRJWFhY4OGYDYBNJhN6e3t5Ezng9q4/n88HWZb5IJo1bpIkCUajEV6vt2X7+2rW7fV6UavVkMlkIIoiUqkUTCYTVFWFJEl8RdTv9/OdiWzFPRAIYGFhAYqiIJFIQBAE1Ot1KIoCk8mEQCAAm822LgNqtjsimUxCkiQEAoGO3g5MVs5gMCAUCqFUKqHRaPCdIez+c1VVYbFY4PV6aQLnHpTLZZTLZT45wnbfsL4jzVwuF3p6etoW5tnOJ7YiHwqFMDAwwI8vtQuF+buk0+kQCATwwgsvwGKx4NKlS0gmk0ilUjAajejr68Pw8DD27duHZ555pqWRXTgcxv79+yHLMt555x3EYjFks1lYLBY89NBDeOSRR3Dw4MF16WTfaDTwwQcf4K9//SsuXbqEI0eO4LnnnqOzXoQQQjY8m82GJ554AoVCAX//+99x/fp1FAoFpFIp+Hw+BINB7Ny5EwcPHsS2bdtaVn2//vWvo1arwe/34/3330cul0O1WkV/fz/Gxsbw3e9+F3v37l2Tuq1WK8LhMHQ6HYrFIkRRbNn2y1YV2fVujE6nQ29vL/R6PfL5PERRhCRJ0Ov1sNvtcLlcCAQCa7bS6HA4EA6HYTAYUCqVeBhn35PVauVnzpvrNhgM6Ovrg16vR7FY5McCDAYDrFYrPB4PAoHAuoRpFjaSySRkWUYwGITX66Ugv8Ho9Xq43W5Eo1He94r1tTIYDHA4HAgGg3A6nR17Xp4FTFZfJ9bJgvxyamv3FaDVahWJRALz8/MIh8MYGhrqiPc9hfl7YDAYMDIygpdeegnnz5/HjRs3MD8/D7PZzAcADz744BfOyo+Pj+P48ePYvXs3pqenkcvl4HA4MDY2hl27dmFgYGDN6xdFEdPT0zhz5gyuXLmCo0eP4siRIx3xwiSEEELWg81mw+HDh7F7925cvHgRqVQKlUoFfr8fQ0ND+MY3voFgMPi5wabH48HTTz+N++67D1NTU4jH45BlGX19fZiYmMDOnTvXdMu3zWZDf38/3G43FhcXeYdtQRB4d/gvGvxaLBb09fXB6XSiUqlAkiQeil0u15pvGe7p6YHVakW5XEalUoEsy3xbs8PhaNlJwLDr94aGhpDL5fgkhMlkgtVqhdvtXtcgn0gkoCgKwuEwPB5Px57rJfeGLc5ZrVa+Qq9pGgRBQE9PT1f831ssFvT29gK4nVvavUV9KYvFAr/f39JQ8MtYrda21K9pGj/ek06nEQ6HMTw83DGTI539CuwSNpsN3/nOd1b850KhEB5//HE8/vjja1DVndVqNVy7dg1vvPEGpqen8dxzz+HQoUMd/6FECCGErDaDwYDx8XGMj4+v6M8JgoCJiYlVPxe/XEajER6PZ8U7+QwGA7xeL7xe7xpVdmeCIMDn88Hn863ozxmNxrZc2Qv8f5CPxWLQNA2RSARut7vjwhFZXXq9HoFAAIFAgE88dcv/OZsEGxkZaXcpXyocDre7hDtizUITiQQymQyCwSBGRkY6qp8YJbdNqFqt4j//+Q9ef/11zMzM4Cc/+Ql++MMfdswMEyGEEEJIp1BVFaVSCbOzswCA/v5+9PT00Lhpk6EFr81FVVUsLi4ikUggn88jGAxidHS03WV9Dr0qN5lKpYLLly/jzJkziMVi+NnPfoZnn322o2aYCCGEEEI6AQvyt27dgl6vR39/P1wuFwV5QjYwVVX5FaClUomvyHciCvObSKVSweTkJP7yl78gk8ng+eefx1NPPdXusgghhBBCOg4L8jdv3oTRaMTg4OAXnuknhGwc7H0fj8exuLiIUCiELVu2tLusL0VhfpOoVCq4ePEiTp8+jVqthhdffLEtZ/UJIYQQQjqdqqooFou4efMmBEHAli1b1u3qO0JIe7D3fSwWQ61W413rOxmF+U2gWq3i/PnzeO2116DX6/HrX/8ajz32WLvLIoQQQgjpOGxAPzMzA6vVipGREVgsFgryhGxgiqKgUCggHo+jXq+jt7d3XW4Xu1cU5je4Wq2Gs2fP4pVXXoHb7caLL76I3bt3t7ssQgghhJCOwwb0H3/8MZxOJ7Zu3Qqz2dzusggha0hVVeTzecRiMciyjEgkgr6+vnaXtSwU5jcwURTxt7/9DS+//DIGBwdx4sQJ7Nixo91lEUIIIYR0HEVRkM/nMTMzA6fTifvuu486mBOywamqikwmw6+djEajiEQi7S5r2egTaoNqNBp488038fLLL2P79u04ceLEiu/PJYQQQgjZDBRFQTabxf/+9z94PB6MjY1Rx3pCNjhVVZFOpzE7O8tvqwiFQu0ua0UozG9Asizjz3/+M1555RU8+uijeOGFF7B169Z2l0UIIYQQ0nFkWUY6ncbNmzfh9/sxOjpK5+MJ2eBUVUUqlUIsFoMgCBgYGIDP52t3WStGYX6DaTQa+MMf/oDXX38d3/72t3H8+HF85StfaXdZhBBCCCEdR5IkzM/PIxaLIRgMYsuWLRTkCdngWJBPJBKwWCzo7++Hx+Npd1l3hcL8BiKKIn73u9/hwoULePrpp3HkyBEMDg7SNjFCCCGEkCUkScLc3Bzm5uYQCoUwODgIg8HQ7rIIIWtIlmUkEgksLCzAZrOhv78fPT09XTuJR2F+Azl9+jT0ej1+9KMf4eDBg+jr66MgTwghhBCyhCzLyGQyMBgMCIfDiEajFOQJWSFN09pdwoqlUinodDq43W709fXBbrd3bZAHKMx/offeew+//e1vEQgE2l3KsmSzWcTjcSiKghMnTuDAgQOIRCL0UCKEELLp6HQ6zM7O4tVXX8U//vGPdpezbP/+979hNBoRj8fhdrvbXc6yqKoKTdNQKBQwMzPT7nKWTRRFSJIEQRDQ29uL3t5e6lq/QSiKAkVREIvFsLCw0O5ylqXRaEDTNKRSKeTz+a4IlrVaDbIsI5vNol6vd0XNlUoF9XodqqoiGAwiGo3C4XB0Re13Qp9cSzz66KNIpVLIZrMoFArtLmfZhoaGcODAAezfv5+CPCGEkE3rkUcewezsLD766KOueo5Ho1E8/PDD8Pv9kCSp3eUsi6Zp/A72bqkZuD3h43K54PF4EA6HKchvIHa7HWazGdVqFbVard3lLAtb3a5UKhBFsc3VLI+qqgCAer0ORVHaXM3yaJoGnU6HUCiEaDQKm83W9UEeAHRaN+6PWEPlchm5XK5r3kxMo9FAJBKB2+2mIE8IIWTTEkUR2WwWi4uL7S5lxZxOJ5xOZ1c9x9mgvhuP9RmNRgiC0O4yyCpSFAWiKPLXZbdgcaybwmW31iwIAsxmc1fVfScU5gkhhBBCCCGEkC7TfdOohBBCCCGEEELIJkdhnhBCCCGEEEII6TIU5gkhhBBCCCGEkC5DYZ4QQgghhBBCCOkyFOYJIYQQQgghhJAuQ2GeEEIIIYQQQgjpMhTmCSGEEEIIIYSQLkNhnhBCCCGEEEII6TIU5gkhhBBCCCGEkC5DYZ4QQgghhBBCCOkyFOYJIYQQQgghhJAu83+h9QCMXAyp0gAAAABJRU5ErkJggg==)"
      ],
      "id": "5TbIENBIdqi6"
    },
    {
      "cell_type": "code",
      "execution_count": null,
      "metadata": {
        "colab": {
          "base_uri": "https://localhost:8080/"
        },
        "id": "o4QU_c-5cjXl",
        "outputId": "961bf28c-fb62-4244-89d6-dd7c676b67db"
      },
      "outputs": [
        {
          "data": {
            "text/plain": [
              "array([ 0, 10, 20, 30])"
            ]
          },
          "execution_count": 22,
          "metadata": {},
          "output_type": "execute_result"
        }
      ],
      "source": [
        "a = np.arange(0,40,10)\n",
        "a"
      ],
      "id": "o4QU_c-5cjXl"
    },
    {
      "cell_type": "markdown",
      "metadata": {
        "id": "dJt0E4ruczGq"
      },
      "source": [
        "This is a 1D row wise array, But we want this array colum wise. "
      ],
      "id": "dJt0E4ruczGq"
    },
    {
      "cell_type": "code",
      "execution_count": null,
      "metadata": {
        "colab": {
          "base_uri": "https://localhost:8080/"
        },
        "id": "347XbuM9c6gQ",
        "outputId": "af3699ba-fc66-4f7f-a0a8-df7297915171"
      },
      "outputs": [
        {
          "data": {
            "text/plain": [
              "array([[ 0],\n",
              "       [10],\n",
              "       [20],\n",
              "       [30]])"
            ]
          },
          "execution_count": 24,
          "metadata": {},
          "output_type": "execute_result"
        }
      ],
      "source": [
        "a = a.reshape(4,1)\n",
        "a"
      ],
      "id": "347XbuM9c6gQ"
    },
    {
      "cell_type": "markdown",
      "metadata": {
        "id": "PB_19w2Cc81S"
      },
      "source": [
        "There's another way of doing it: `np.newaxis`\n",
        "\n",
        "`np.newaxis` adds an axis to the array\n"
      ],
      "id": "PB_19w2Cc81S"
    },
    {
      "cell_type": "code",
      "execution_count": null,
      "metadata": {
        "colab": {
          "base_uri": "https://localhost:8080/"
        },
        "id": "Np0G1X5JdJvo",
        "outputId": "9ae7de5c-ab6b-49dc-9363-2592a776a1e1"
      },
      "outputs": [
        {
          "data": {
            "text/plain": [
              "array([ 0, 10, 20, 30])"
            ]
          },
          "execution_count": 29,
          "metadata": {},
          "output_type": "execute_result"
        }
      ],
      "source": [
        "a = np.arange(0, 40, 10)\n",
        "a"
      ],
      "id": "Np0G1X5JdJvo"
    },
    {
      "cell_type": "code",
      "execution_count": null,
      "metadata": {
        "colab": {
          "base_uri": "https://localhost:8080/"
        },
        "id": "FTcjvLNkdPnv",
        "outputId": "017c0432-566f-41f1-cf3c-45d6732a64b8"
      },
      "outputs": [
        {
          "data": {
            "text/plain": [
              "array([[ 0],\n",
              "       [10],\n",
              "       [20],\n",
              "       [30]])"
            ]
          },
          "execution_count": 30,
          "metadata": {},
          "output_type": "execute_result"
        }
      ],
      "source": [
        "a = a[:, np.newaxis]\n",
        "a"
      ],
      "id": "FTcjvLNkdPnv"
    },
    {
      "cell_type": "code",
      "execution_count": null,
      "metadata": {
        "colab": {
          "base_uri": "https://localhost:8080/"
        },
        "id": "ImhJEJxcdc-W",
        "outputId": "8b45ca42-3fb5-442b-efd6-1a18deead51b"
      },
      "outputs": [
        {
          "data": {
            "text/plain": [
              "array([0, 1, 2])"
            ]
          },
          "execution_count": 31,
          "metadata": {},
          "output_type": "execute_result"
        }
      ],
      "source": [
        "b = np.arange(0,3)\n",
        "b"
      ],
      "id": "ImhJEJxcdc-W"
    },
    {
      "cell_type": "code",
      "execution_count": null,
      "metadata": {
        "colab": {
          "base_uri": "https://localhost:8080/"
        },
        "id": "BOawX2PddhD9",
        "outputId": "6d2cbbb6-2a7b-4553-d3df-d23377373f1c"
      },
      "outputs": [
        {
          "data": {
            "text/plain": [
              "array([[ 0,  1,  2],\n",
              "       [10, 11, 12],\n",
              "       [20, 21, 22],\n",
              "       [30, 31, 32]])"
            ]
          },
          "execution_count": 32,
          "metadata": {},
          "output_type": "execute_result"
        }
      ],
      "source": [
        "a + b"
      ],
      "id": "BOawX2PddhD9"
    },
    {
      "cell_type": "markdown",
      "metadata": {
        "id": "1df55aca"
      },
      "source": [
        "\n",
        "####  Example:\n"
      ],
      "id": "1df55aca"
    },
    {
      "cell_type": "code",
      "execution_count": null,
      "metadata": {
        "colab": {
          "base_uri": "https://localhost:8080/"
        },
        "id": "7ac8f666",
        "outputId": "51dc1da6-89f6-4022-b596-cc505281aeaf"
      },
      "outputs": [
        {
          "data": {
            "text/plain": [
              "array([[1, 2, 3],\n",
              "       [4, 5, 6],\n",
              "       [7, 8, 9]])"
            ]
          },
          "execution_count": 26,
          "metadata": {},
          "output_type": "execute_result"
        }
      ],
      "source": [
        "A = np.arange(1,10).reshape(3,3)\n",
        "A"
      ],
      "id": "7ac8f666"
    },
    {
      "cell_type": "code",
      "execution_count": null,
      "metadata": {
        "colab": {
          "base_uri": "https://localhost:8080/"
        },
        "id": "9a791cd9",
        "outputId": "43191706-be7f-4812-b922-d0de553b8ce6",
        "scrolled": true
      },
      "outputs": [
        {
          "data": {
            "text/plain": [
              "array([-1,  0,  1])"
            ]
          },
          "execution_count": 27,
          "metadata": {},
          "output_type": "execute_result"
        }
      ],
      "source": [
        "B = np.array([-1, 0, 1])\n",
        "B"
      ],
      "id": "9a791cd9"
    },
    {
      "cell_type": "code",
      "execution_count": null,
      "metadata": {
        "colab": {
          "base_uri": "https://localhost:8080/"
        },
        "id": "d36ffc81",
        "outputId": "be64778d-6d18-4b7c-bd97-cb48eb1ec9e1"
      },
      "outputs": [
        {
          "data": {
            "text/plain": [
              "array([[-1,  0,  3],\n",
              "       [-4,  0,  6],\n",
              "       [-7,  0,  9]])"
            ]
          },
          "execution_count": 28,
          "metadata": {},
          "output_type": "execute_result"
        }
      ],
      "source": [
        "A * B"
      ],
      "id": "d36ffc81"
    },
    {
      "cell_type": "markdown",
      "metadata": {
        "id": "5bdc604b"
      },
      "source": [
        "#### Why did `A * B` work in this case?\n",
        "\n",
        "- `A` has 3 rows and 3 columns\n",
        "\n",
        "- `B` is a 1-D vector with 3 elements\n",
        "\n",
        "- So, **`B` gets broadcasted over `A` for each row of `A`**\n",
        "\n"
      ],
      "id": "5bdc604b"
    },
    {
      "cell_type": "code",
      "execution_count": null,
      "metadata": {
        "colab": {
          "base_uri": "https://localhost:8080/"
        },
        "id": "6c9b0009",
        "outputId": "4a9d9f27-56fe-490a-bf31-c78e918a6969"
      },
      "outputs": [
        {
          "data": {
            "text/plain": [
              "array([[1, 2, 3],\n",
              "       [4, 5, 6],\n",
              "       [7, 8, 9]])"
            ]
          },
          "execution_count": 3,
          "metadata": {},
          "output_type": "execute_result"
        }
      ],
      "source": [
        "A = np.arange(1,10).reshape(3,3)\n",
        "A"
      ],
      "id": "6c9b0009"
    },
    {
      "cell_type": "code",
      "execution_count": null,
      "metadata": {
        "colab": {
          "base_uri": "https://localhost:8080/"
        },
        "id": "7ac2ff00",
        "outputId": "3adbc997-b43c-4aff-b975-6978293dce84"
      },
      "outputs": [
        {
          "data": {
            "text/plain": [
              "array([[3],\n",
              "       [6],\n",
              "       [9]])"
            ]
          },
          "execution_count": 4,
          "metadata": {},
          "output_type": "execute_result"
        }
      ],
      "source": [
        "B = np.arange(3, 10, 3).reshape(3,1)\n",
        "B"
      ],
      "id": "7ac2ff00"
    },
    {
      "cell_type": "code",
      "execution_count": null,
      "metadata": {
        "colab": {
          "base_uri": "https://localhost:8080/"
        },
        "id": "2d4dd676",
        "outputId": "0c045280-9abf-468c-ebe3-707a131a930b"
      },
      "outputs": [
        {
          "data": {
            "text/plain": [
              "array([[ 4,  5,  6],\n",
              "       [10, 11, 12],\n",
              "       [16, 17, 18]])"
            ]
          },
          "execution_count": 5,
          "metadata": {},
          "output_type": "execute_result"
        }
      ],
      "source": [
        "C = A + B\n",
        "np.round(C, 1)"
      ],
      "id": "2d4dd676"
    },
    {
      "cell_type": "markdown",
      "metadata": {
        "id": "a6b11c1b"
      },
      "source": [
        "#### How did this `A + B` work?\n",
        "\n",
        "- `A` has 3 rows and 3 columns\n",
        "\n",
        "- `B` has 3 rows and 1 column\n",
        "\n",
        "\n",
        "- So, **`B` gets broadcasted on every column of `A`**"
      ],
      "id": "a6b11c1b"
    },
    {
      "cell_type": "markdown",
      "metadata": {
        "id": "74d40e46"
      },
      "source": [
        "***"
      ],
      "id": "74d40e46"
    }
  ],
  "metadata": {
    "colab": {
      "collapsed_sections": [
        "RrUfgYqt1t0P",
        "lVvk-l5I1t0S",
        "1188h8RAiWWk",
        "gSRFxGC21t0V",
        "U3AGfSs81t0Y",
        "brulP2Ty1t0Z",
        "Ctn69pGx1t0a",
        "iXVpxIL01t0c",
        "cSIzDWp91t0e",
        "zF2T76bG1t0g",
        "PLGqFGvb1t0h",
        "Zr1QG-441t0k",
        "bh3u-HW11t0l",
        "XXPT5gu71t0n",
        "CRzZ5I571t1s",
        "-er1v-a21t1t",
        "w2R6RH6-1t1v",
        "A9OulPTH1t1x",
        "P0NnpWgO1t13",
        "dlIoWTy01t13",
        "9A538_eX1t14",
        "OJH3CmUF1t04",
        "V5ZKe1ZM1t05",
        "KoZpD8sS1t1C",
        "VKjMf4dw1t1N",
        "AR1PGXe01t1O",
        "LYWk1Mhx1t1c",
        "fJa7zSIP1t1e",
        "FfYiqTAu1t1g",
        "oe7s8QhV1t1g",
        "8ZHEEIT21t1i",
        "zGOiHLd11t1i",
        "ol2HwtTS1t1j",
        "V1GpmrBZ1t1k",
        "4UVrFwl51t1l",
        "FeL0E42p1t1l",
        "8-iu1cLa1t1n",
        "ZgbEEfZl1t1n",
        "63wh_EmI1t1o",
        "O43O2PDs1t1q",
        "xc7Vc6Vo1t1r",
        "XdQcI98s1t1r",
        "-MF-4wwN1t2M",
        "L1AQwLbf1t2O",
        "kEXv8eys1t2P",
        "51YtYCNS1t1Z",
        "2pR9uAOY1t1a",
        "PAozlX7_1t2R",
        "AAHr9tWL1t2R"
      ],
      "name": "08-Numpy02-Notes.ipynb",
      "provenance": []
    },
    "kernelspec": {
      "display_name": "Python 3",
      "language": "python",
      "name": "python3"
    },
    "language_info": {
      "codemirror_mode": {
        "name": "ipython",
        "version": 3
      },
      "file_extension": ".py",
      "mimetype": "text/x-python",
      "name": "python",
      "nbconvert_exporter": "python",
      "pygments_lexer": "ipython3",
      "version": "3.6.5"
    }
  },
  "nbformat": 4,
  "nbformat_minor": 5
}