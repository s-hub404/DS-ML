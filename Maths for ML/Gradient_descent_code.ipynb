{
 "cells": [
  {
   "cell_type": "code",
   "execution_count": 3,
   "metadata": {},
   "outputs": [],
   "source": [
    "import numpy as np\n",
    "from matplotlib import pyplot as plt"
   ]
  },
  {
   "cell_type": "code",
   "execution_count": 5,
   "metadata": {},
   "outputs": [
    {
     "data": {
      "text/plain": [
       "[<matplotlib.lines.Line2D at 0x26e08cfd5c8>]"
      ]
     },
     "execution_count": 5,
     "metadata": {},
     "output_type": "execute_result"
    },
    {
     "data": {
      "image/png": "[encoded data removed]",
      "text/plain": [
       "<Figure size 432x288 with 1 Axes>"
      ]
     },
     "metadata": {
      "needs_background": "light"
     },
     "output_type": "display_data"
    }
   ],
   "source": [
    "def f(x):\n",
    "    return x**2 - 30\n",
    "    # we are defining a function\n",
    "    \n",
    "x = np.arange(-10,10)\n",
    "y = f(x)\n",
    "plt.plot(x,y)"
   ]
  },
  {
   "cell_type": "code",
   "execution_count": 7,
   "metadata": {},
   "outputs": [],
   "source": [
    "def derivative(x, f):\n",
    "    delta = 000.1\n",
    "    return (f(x + delta) - f(x)) / delta"
   ]
  },
  {
   "cell_type": "code",
   "execution_count": 8,
   "metadata": {},
   "outputs": [],
   "source": [
    "def one_step_gf(x, f, lr):\n",
    "    # lr is learning rate\n",
    "    \n",
    "    partial_der = derivative(x, f)\n",
    "    new_x = x - lr * partial_der\n",
    "    new_fx = f(x_new)\n",
    "    return x_new, new_fx, partial_der"
   ]
  },
  {
   "cell_type": "markdown",
   "metadata": {},
   "source": [
    "# Gradient Descent Algorithm from scratch"
   ]
  },
  {
   "cell_type": "code",
   "execution_count": null,
   "metadata": {},
   "outputs": [],
   "source": [
    "new_x = np.random.randint(5,15)\n",
    "new_fx = f(new_x)\n",
    "num_steps = 0\n",
    "learning_rate = 0.7\n",
    "\n",
    "xs = []\n",
    "fxs = []\n",
    "\n",
    "while True:\n",
    "    new_x, new_fx, grad = one_step_gf(new_x, f, learning_rate)\n",
    "    xs.append(new_x)\n",
    "    fxs.append(new_fx)\n",
    "    num_steps += 1\n",
    "    if num_steps > 100:\n",
    "        print('Force stopping')\n",
    "        break\n",
    "    \n"
   ]
  }
 ],
 "metadata": {
  "kernelspec": {
   "display_name": "Python 3",
   "language": "python",
   "name": "python3"
  },
  "language_info": {
   "codemirror_mode": {
    "name": "ipython",
    "version": 3
   },
   "file_extension": ".py",
   "mimetype": "text/x-python",
   "name": "python",
   "nbconvert_exporter": "python",
   "pygments_lexer": "ipython3",
   "version": "3.7.6"
  }
 },
 "nbformat": 4,
 "nbformat_minor": 4
}
