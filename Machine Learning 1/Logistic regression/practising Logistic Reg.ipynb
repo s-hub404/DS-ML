{
 "cells": [
  {
   "cell_type": "code",
   "execution_count": 1,
   "metadata": {},
   "outputs": [],
   "source": [
    "import numpy as np\n",
    "import matplotlib.pyplot as plt"
   ]
  },
  {
   "cell_type": "code",
   "execution_count": 2,
   "metadata": {},
   "outputs": [],
   "source": [
    "def sig(x):\n",
    "    return 1 / (1 + np.exp(-x))"
   ]
  },
  {
   "cell_type": "code",
   "execution_count": 3,
   "metadata": {},
   "outputs": [
    {
     "data": {
      "text/plain": [
       "1.0"
      ]
     },
     "execution_count": 3,
     "metadata": {},
     "output_type": "execute_result"
    }
   ],
   "source": [
    "sig(1000)"
   ]
  },
  {
   "cell_type": "code",
   "execution_count": 4,
   "metadata": {},
   "outputs": [
    {
     "data": {
      "text/plain": [
       "4.5397868702434395e-05"
      ]
     },
     "execution_count": 4,
     "metadata": {},
     "output_type": "execute_result"
    }
   ],
   "source": [
    "sig(-10)"
   ]
  },
  {
   "cell_type": "code",
   "execution_count": 5,
   "metadata": {},
   "outputs": [
    {
     "data": {
      "text/plain": [
       "0.5"
      ]
     },
     "execution_count": 5,
     "metadata": {},
     "output_type": "execute_result"
    }
   ],
   "source": [
    "sig(0)"
   ]
  },
  {
   "cell_type": "code",
   "execution_count": 6,
   "metadata": {},
   "outputs": [],
   "source": [
    "x = np.arange(-10, 10, 0.1)\n",
    "y_sig = sig(x)"
   ]
  },
  {
   "cell_type": "code",
   "execution_count": 7,
   "metadata": {},
   "outputs": [
    {
     "data": {
      "image/png": "[encoded data removed]",
      "text/plain": [
       "<Figure size 432x288 with 1 Axes>"
      ]
     },
     "metadata": {
      "needs_background": "light"
     },
     "output_type": "display_data"
    }
   ],
   "source": [
    "plt.plot(x, y_sig)\n",
    "plt.grid('on')"
   ]
  },
  {
   "cell_type": "markdown",
   "metadata": {},
   "source": [
    "# Lets explore about Logloss"
   ]
  },
  {
   "cell_type": "code",
   "execution_count": 8,
   "metadata": {},
   "outputs": [],
   "source": [
    "def logloss(y, y_hat):\n",
    "    \n",
    "    return -y*np.log(y_hat) - (1-y)*np.log(1-y_hat)"
   ]
  },
  {
   "cell_type": "code",
   "execution_count": 9,
   "metadata": {},
   "outputs": [
    {
     "data": {
      "text/plain": [
       "0.010151351056375355"
      ]
     },
     "execution_count": 9,
     "metadata": {},
     "output_type": "execute_result"
    }
   ],
   "source": [
    "# Let's try to compute log-loss\n",
    "\n",
    "y = 1\n",
    "y_hat = 0.9899\n",
    "\n",
    "# as y and y_hat are close enough the log-loss should be less.\n",
    "logloss(y, y_hat)"
   ]
  },
  {
   "cell_type": "code",
   "execution_count": 10,
   "metadata": {},
   "outputs": [
    {
     "data": {
      "text/plain": [
       "0.2358489238117636"
      ]
     },
     "execution_count": 10,
     "metadata": {},
     "output_type": "execute_result"
    }
   ],
   "source": [
    "y = 1\n",
    "y_hat = 0.7899\n",
    "\n",
    "logloss(y, y_hat)"
   ]
  },
  {
   "cell_type": "code",
   "execution_count": 11,
   "metadata": {},
   "outputs": [],
   "source": [
    "# As our y_hat is decreasing, the error or the log-loss is inc."
   ]
  },
  {
   "cell_type": "markdown",
   "metadata": {},
   "source": [
    "## imp logloss"
   ]
  },
  {
   "cell_type": "code",
   "execution_count": 12,
   "metadata": {},
   "outputs": [],
   "source": [
    "z = [3.11, 0.08, 0.76, 5.98, 3.05, 0.12, 8.99, 1.69, 1.75, 1.54] \n",
    "y_true = [1, 0, 1, 0, 0, 0, 1, 1, 0, 1]  \n",
    "x = [[11, 22], [39, 0], [33, 39], [1, 28], [9, 24], [19, 14], [6, 7], [28, 3], [4, 17], [35, 15]]"
   ]
  },
  {
   "cell_type": "code",
   "execution_count": 13,
   "metadata": {},
   "outputs": [
    {
     "name": "stdout",
     "output_type": "stream",
     "text": [
      "[ 4.69663086e-01 -2.02795843e+01  1.05153268e+01 -9.97477553e-01\n",
      " -8.59304274e+00 -1.00693170e+01  7.47807345e-04  4.36172352e+00\n",
      " -3.40781121e+00  6.17873462e+00]\n"
     ]
    }
   ],
   "source": [
    "import numpy as np\n",
    "def logloss(z, y_true, x):\n",
    "    '''z, y_true and x are lists\n",
    "       output -> Two numpy arrays are expected to be returned'''\n",
    "    \n",
    "    z = np.asarray(z)\n",
    "    y_true = np.asarray(y_true)\n",
    "    x = np.asarray(x)\n",
    "    \n",
    "    # YOUR CODE GOES HERE\n",
    "    \n",
    "    # Calculating Y_hat\n",
    "    y_hat = 1 / (1 + np.exp(-z))\n",
    "    log_loss = -y_true*np.log(y_hat) - (1 - y_true)*np.log(1 - y_hat)\n",
    "    der_logloss = (y_hat - y_true) * (-x[:,0])\n",
    "    print(der_logloss)\n",
    "\n",
    "\n",
    "\n",
    "logloss(z, y_true, x)    "
   ]
  },
  {
   "cell_type": "markdown",
   "metadata": {},
   "source": [
    "# Question:\n",
    "Consider a system for radiation therapy planning. Given a patient with a malignant tumor, the problem is to select the optimal radiation exposure time for that patient. A key element in this problem is estimating the probability that a given tumor will be eradicated given certain covariates.\n",
    "\n",
    "The following covariates are collected; X1 denotes time in milliseconds that a patient is irradiated with, X2 = holds the size of the tumor in centimeters, and Y notates a binary response variable indicating if the tumor was eradicated.\n",
    "\n",
    "The data scientist fits a logistic regression model to the dependent measurements and produces these estimated coefficients:\n",
    "\n",
    "w0 = −6, w1 = 0.05, w2 = 1."
   ]
  },
  {
   "cell_type": "code",
   "execution_count": 20,
   "metadata": {},
   "outputs": [
    {
     "data": {
      "text/plain": [
       "0.3775406687981454"
      ]
     },
     "execution_count": 20,
     "metadata": {},
     "output_type": "execute_result"
    }
   ],
   "source": [
    "w0, w1, w2 = -6 , 0.05, 1\n",
    "\n",
    "# Calculating prob. of eradicating tumor of size 3.5 cm and 40 ms irradiation.\n",
    "# basically, value for sig func is the req prob here.\n",
    "x1 = 40\n",
    "x2 = 3.5\n",
    "z = w1*x1 + w2*x2 + w0\n",
    "y_pred = sig(z)\n",
    "y_pred\n"
   ]
  },
  {
   "cell_type": "code",
   "execution_count": null,
   "metadata": {},
   "outputs": [],
   "source": []
  }
 ],
 "metadata": {
  "kernelspec": {
   "display_name": "Python 3",
   "language": "python",
   "name": "python3"
  },
  "language_info": {
   "codemirror_mode": {
    "name": "ipython",
    "version": 3
   },
   "file_extension": ".py",
   "mimetype": "text/x-python",
   "name": "python",
   "nbconvert_exporter": "python",
   "pygments_lexer": "ipython3",
   "version": "3.7.6"
  }
 },
 "nbformat": 4,
 "nbformat_minor": 4
}
