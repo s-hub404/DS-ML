{
 "cells": [
  {
   "cell_type": "code",
   "execution_count": 1,
   "metadata": {},
   "outputs": [],
   "source": [
    "import numpy as np"
   ]
  },
  {
   "attachments": {
    "image.png": {
     "image/png": "[encoded data removed]"
    }
   },
   "cell_type": "markdown",
   "metadata": {},
   "source": [
    "Calculate the loss value:\n",
    "\n",
    "Given the data x (x[i] represents the values of independent variables for each ith observation), y (y[i] represents the value of the dependent variable for ith observation), and w (weights), return the sum of loss values for all the observations in x using the following formula:\n",
    "\n",
    "![image.png](attachment:image.png) \n",
    "\n",
    "Note: In this particular question consider the value of intercept(w0) to be zero. The loss should be rounded off to two decimal places."
   ]
  },
  {
   "cell_type": "code",
   "execution_count": 7,
   "metadata": {},
   "outputs": [],
   "source": [
    "# Input\n",
    "x = [[1.0, 0.0], [1.0, 1.0], [1.0, 2.0], [1.0, 3.0], [1.0, 4.0], [1.0, 5.0], [1.0, 6.0], [1.0, 7.0], [1.0, 8.0], [1.0, 9.0]]\n",
    "y = [32.69, 30.56, 32.04, 32.27, 35.98, 34.39, 40.25, 39.24, 37.14, 39.38]\n",
    "w = [30.0, 1.0]"
   ]
  },
  {
   "cell_type": "code",
   "execution_count": 20,
   "metadata": {},
   "outputs": [],
   "source": [
    "def cost(x, y, w):\n",
    "    \n",
    "    x = np.asarray(x)\n",
    "    w = np.asarray(w)\n",
    "    y = np.asarray(y)\n",
    "    \n",
    "    loss = 0\n",
    "    n = x.shape[0] # no. of data points\n",
    "    for i in range(n):\n",
    "        loss += np.square((y[i] - np.dot(w,x[i]))) / (2*n)\n",
    "        #print(x[i], y[i], loss)\n",
    "        \n",
    "    return loss"
   ]
  },
  {
   "cell_type": "code",
   "execution_count": 22,
   "metadata": {},
   "outputs": [
    {
     "name": "stdout",
     "output_type": "stream",
     "text": [
      "Loss for the above case :  1.81\n"
     ]
    }
   ],
   "source": [
    "print(\"Loss for the above case : \", cost(x,y,w).round(2))"
   ]
  },
  {
   "cell_type": "code",
   "execution_count": null,
   "metadata": {},
   "outputs": [],
   "source": []
  }
 ],
 "metadata": {
  "kernelspec": {
   "display_name": "Python 3",
   "language": "python",
   "name": "python3"
  },
  "language_info": {
   "codemirror_mode": {
    "name": "ipython",
    "version": 3
   },
   "file_extension": ".py",
   "mimetype": "text/x-python",
   "name": "python",
   "nbconvert_exporter": "python",
   "pygments_lexer": "ipython3",
   "version": "3.7.6"
  }
 },
 "nbformat": 4,
 "nbformat_minor": 4
}
