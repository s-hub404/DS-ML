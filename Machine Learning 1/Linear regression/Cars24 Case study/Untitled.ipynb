{
 "cells": [
  {
   "cell_type": "markdown",
   "metadata": {},
   "source": [
    "\n",
    "### Business case Introduction\n",
    "\n",
    "**Cars24** is one of the leading used-car buying and selling platform in India. \n",
    "\n",
    "#### Current methodology to estimate the selling price has three major components\n",
    "1. Past records of the \"Selling Prices\" of the same _Make_ and _Model_\n",
    "2. Rule based calculations for the depreciation of the car\n",
    "2. Rule based calculation for condition of the vehicle\n",
    "\n",
    "As the **Pricing Data Scientist working at Cars24, you are given a task**\n",
    "\n",
    "### GOAL: To automate the process of estimating price of the used car\n",
    "\n",
    "\n"
   ]
  },
  {
   "cell_type": "markdown",
   "metadata": {},
   "source": [
    "## EDA"
   ]
  },
  {
   "cell_type": "code",
   "execution_count": 4,
   "metadata": {},
   "outputs": [],
   "source": [
    "import numpy as np\n",
    "import pandas as pd\n",
    "import matplotlib.pyplot as plt\n",
    "import seaborn as sns"
   ]
  },
  {
   "cell_type": "code",
   "execution_count": 10,
   "metadata": {},
   "outputs": [
    {
     "data": {
      "text/html": [
       "<div>\n",
       "<style scoped>\n",
       "    .dataframe tbody tr th:only-of-type {\n",
       "        vertical-align: middle;\n",
       "    }\n",
       "\n",
       "    .dataframe tbody tr th {\n",
       "        vertical-align: top;\n",
       "    }\n",
       "\n",
       "    .dataframe thead th {\n",
       "        text-align: right;\n",
       "    }\n",
       "</style>\n",
       "<table border=\"1\" class=\"dataframe\">\n",
       "  <thead>\n",
       "    <tr style=\"text-align: right;\">\n",
       "      <th></th>\n",
       "      <th>full_name</th>\n",
       "      <th>selling_price</th>\n",
       "      <th>year</th>\n",
       "      <th>seller_type</th>\n",
       "      <th>km_driven</th>\n",
       "      <th>fuel_type</th>\n",
       "      <th>transmission_type</th>\n",
       "      <th>mileage</th>\n",
       "      <th>engine</th>\n",
       "      <th>max_power</th>\n",
       "      <th>seats</th>\n",
       "    </tr>\n",
       "  </thead>\n",
       "  <tbody>\n",
       "    <tr>\n",
       "      <th>0</th>\n",
       "      <td>Maruti SX4 Zxi BSIII</td>\n",
       "      <td>2.85</td>\n",
       "      <td>2007.0</td>\n",
       "      <td>Individual</td>\n",
       "      <td>110000</td>\n",
       "      <td>Petrol</td>\n",
       "      <td>Manual</td>\n",
       "      <td>15.00</td>\n",
       "      <td>1586.0</td>\n",
       "      <td>104.68</td>\n",
       "      <td>5.0</td>\n",
       "    </tr>\n",
       "    <tr>\n",
       "      <th>1</th>\n",
       "      <td>Hyundai i20 Sportz 1.4 CRDi</td>\n",
       "      <td>4.70</td>\n",
       "      <td>2012.0</td>\n",
       "      <td>Dealer</td>\n",
       "      <td>70000</td>\n",
       "      <td>Diesel</td>\n",
       "      <td>Manual</td>\n",
       "      <td>21.90</td>\n",
       "      <td>1396.0</td>\n",
       "      <td>88.76</td>\n",
       "      <td>5.0</td>\n",
       "    </tr>\n",
       "    <tr>\n",
       "      <th>2</th>\n",
       "      <td>Maruti Swift VDI BSIV</td>\n",
       "      <td>5.25</td>\n",
       "      <td>2015.0</td>\n",
       "      <td>Individual</td>\n",
       "      <td>70000</td>\n",
       "      <td>Diesel</td>\n",
       "      <td>Manual</td>\n",
       "      <td>25.20</td>\n",
       "      <td>1248.0</td>\n",
       "      <td>74.00</td>\n",
       "      <td>5.0</td>\n",
       "    </tr>\n",
       "    <tr>\n",
       "      <th>3</th>\n",
       "      <td>Honda City 1.3 EXI</td>\n",
       "      <td>1.25</td>\n",
       "      <td>2005.0</td>\n",
       "      <td>Individual</td>\n",
       "      <td>90000</td>\n",
       "      <td>Petrol</td>\n",
       "      <td>Manual</td>\n",
       "      <td>13.00</td>\n",
       "      <td>1343.0</td>\n",
       "      <td>90.00</td>\n",
       "      <td>5.0</td>\n",
       "    </tr>\n",
       "    <tr>\n",
       "      <th>4</th>\n",
       "      <td>Volkswagen Polo 1.2 MPI Comfortline</td>\n",
       "      <td>4.65</td>\n",
       "      <td>2015.0</td>\n",
       "      <td>Dealer</td>\n",
       "      <td>41000</td>\n",
       "      <td>Petrol</td>\n",
       "      <td>Manual</td>\n",
       "      <td>16.47</td>\n",
       "      <td>1198.0</td>\n",
       "      <td>74.00</td>\n",
       "      <td>5.0</td>\n",
       "    </tr>\n",
       "  </tbody>\n",
       "</table>\n",
       "</div>"
      ],
      "text/plain": [
       "                             full_name  selling_price    year seller_type  \\\n",
       "0                 Maruti SX4 Zxi BSIII           2.85  2007.0  Individual   \n",
       "1          Hyundai i20 Sportz 1.4 CRDi           4.70  2012.0      Dealer   \n",
       "2                Maruti Swift VDI BSIV           5.25  2015.0  Individual   \n",
       "3                   Honda City 1.3 EXI           1.25  2005.0  Individual   \n",
       "4  Volkswagen Polo 1.2 MPI Comfortline           4.65  2015.0      Dealer   \n",
       "\n",
       "   km_driven fuel_type transmission_type  mileage  engine  max_power  seats  \n",
       "0     110000    Petrol            Manual    15.00  1586.0     104.68    5.0  \n",
       "1      70000    Diesel            Manual    21.90  1396.0      88.76    5.0  \n",
       "2      70000    Diesel            Manual    25.20  1248.0      74.00    5.0  \n",
       "3      90000    Petrol            Manual    13.00  1343.0      90.00    5.0  \n",
       "4      41000    Petrol            Manual    16.47  1198.0      74.00    5.0  "
      ]
     },
     "execution_count": 10,
     "metadata": {},
     "output_type": "execute_result"
    }
   ],
   "source": [
    "df = pd.read_csv('train-cars24-car-price.csv')\n",
    "df.head()"
   ]
  },
  {
   "cell_type": "markdown",
   "metadata": {},
   "source": [
    "we observe that full_name feature contains both Maker's and  Model name info."
   ]
  },
  {
   "cell_type": "code",
   "execution_count": 13,
   "metadata": {},
   "outputs": [
    {
     "data": {
      "text/plain": [
       "(13986, 11)"
      ]
     },
     "execution_count": 13,
     "metadata": {},
     "output_type": "execute_result"
    }
   ],
   "source": [
    "df.shape"
   ]
  },
  {
   "cell_type": "code",
   "execution_count": 14,
   "metadata": {},
   "outputs": [
    {
     "name": "stdout",
     "output_type": "stream",
     "text": [
      "<class 'pandas.core.frame.DataFrame'>\n",
      "RangeIndex: 13986 entries, 0 to 13985\n",
      "Data columns (total 11 columns):\n",
      " #   Column             Non-Null Count  Dtype  \n",
      "---  ------             --------------  -----  \n",
      " 0   full_name          13986 non-null  object \n",
      " 1   selling_price      13986 non-null  float64\n",
      " 2   year               13986 non-null  float64\n",
      " 3   seller_type        13986 non-null  object \n",
      " 4   km_driven          13986 non-null  int64  \n",
      " 5   fuel_type          13986 non-null  object \n",
      " 6   transmission_type  13986 non-null  object \n",
      " 7   mileage            13986 non-null  float64\n",
      " 8   engine             13986 non-null  float64\n",
      " 9   max_power          13986 non-null  float64\n",
      " 10  seats              13986 non-null  float64\n",
      "dtypes: float64(6), int64(1), object(4)\n",
      "memory usage: 1.2+ MB\n"
     ]
    }
   ],
   "source": [
    "df.info()"
   ]
  },
  {
   "cell_type": "code",
   "execution_count": 15,
   "metadata": {},
   "outputs": [
    {
     "data": {
      "text/html": [
       "<div>\n",
       "<style scoped>\n",
       "    .dataframe tbody tr th:only-of-type {\n",
       "        vertical-align: middle;\n",
       "    }\n",
       "\n",
       "    .dataframe tbody tr th {\n",
       "        vertical-align: top;\n",
       "    }\n",
       "\n",
       "    .dataframe thead th {\n",
       "        text-align: right;\n",
       "    }\n",
       "</style>\n",
       "<table border=\"1\" class=\"dataframe\">\n",
       "  <thead>\n",
       "    <tr style=\"text-align: right;\">\n",
       "      <th></th>\n",
       "      <th>selling_price</th>\n",
       "      <th>year</th>\n",
       "      <th>km_driven</th>\n",
       "      <th>mileage</th>\n",
       "      <th>engine</th>\n",
       "      <th>max_power</th>\n",
       "      <th>seats</th>\n",
       "    </tr>\n",
       "  </thead>\n",
       "  <tbody>\n",
       "    <tr>\n",
       "      <th>count</th>\n",
       "      <td>13986.000000</td>\n",
       "      <td>13986.000000</td>\n",
       "      <td>1.398600e+04</td>\n",
       "      <td>13986.000000</td>\n",
       "      <td>13986.000000</td>\n",
       "      <td>13986.000000</td>\n",
       "      <td>13986.000000</td>\n",
       "    </tr>\n",
       "    <tr>\n",
       "      <th>mean</th>\n",
       "      <td>7.377749</td>\n",
       "      <td>2014.516088</td>\n",
       "      <td>5.797629e+04</td>\n",
       "      <td>19.356221</td>\n",
       "      <td>1473.574905</td>\n",
       "      <td>97.685631</td>\n",
       "      <td>5.313242</td>\n",
       "    </tr>\n",
       "    <tr>\n",
       "      <th>std</th>\n",
       "      <td>9.368596</td>\n",
       "      <td>3.256795</td>\n",
       "      <td>5.378180e+04</td>\n",
       "      <td>4.638576</td>\n",
       "      <td>518.289204</td>\n",
       "      <td>45.067944</td>\n",
       "      <td>0.831653</td>\n",
       "    </tr>\n",
       "    <tr>\n",
       "      <th>min</th>\n",
       "      <td>0.325000</td>\n",
       "      <td>1991.000000</td>\n",
       "      <td>1.000000e+02</td>\n",
       "      <td>0.000000</td>\n",
       "      <td>0.000000</td>\n",
       "      <td>5.000000</td>\n",
       "      <td>2.000000</td>\n",
       "    </tr>\n",
       "    <tr>\n",
       "      <th>25%</th>\n",
       "      <td>3.400000</td>\n",
       "      <td>2013.000000</td>\n",
       "      <td>3.100000e+04</td>\n",
       "      <td>16.840000</td>\n",
       "      <td>1197.000000</td>\n",
       "      <td>73.900000</td>\n",
       "      <td>5.000000</td>\n",
       "    </tr>\n",
       "    <tr>\n",
       "      <th>50%</th>\n",
       "      <td>5.100000</td>\n",
       "      <td>2015.000000</td>\n",
       "      <td>5.120000e+04</td>\n",
       "      <td>19.160000</td>\n",
       "      <td>1248.000000</td>\n",
       "      <td>86.700000</td>\n",
       "      <td>5.000000</td>\n",
       "    </tr>\n",
       "    <tr>\n",
       "      <th>75%</th>\n",
       "      <td>7.800000</td>\n",
       "      <td>2017.000000</td>\n",
       "      <td>7.397800e+04</td>\n",
       "      <td>22.320000</td>\n",
       "      <td>1582.000000</td>\n",
       "      <td>112.000000</td>\n",
       "      <td>5.000000</td>\n",
       "    </tr>\n",
       "    <tr>\n",
       "      <th>max</th>\n",
       "      <td>395.000000</td>\n",
       "      <td>2021.000000</td>\n",
       "      <td>3.800000e+06</td>\n",
       "      <td>120.000000</td>\n",
       "      <td>6752.000000</td>\n",
       "      <td>626.000000</td>\n",
       "      <td>14.000000</td>\n",
       "    </tr>\n",
       "  </tbody>\n",
       "</table>\n",
       "</div>"
      ],
      "text/plain": [
       "       selling_price          year     km_driven       mileage        engine  \\\n",
       "count   13986.000000  13986.000000  1.398600e+04  13986.000000  13986.000000   \n",
       "mean        7.377749   2014.516088  5.797629e+04     19.356221   1473.574905   \n",
       "std         9.368596      3.256795  5.378180e+04      4.638576    518.289204   \n",
       "min         0.325000   1991.000000  1.000000e+02      0.000000      0.000000   \n",
       "25%         3.400000   2013.000000  3.100000e+04     16.840000   1197.000000   \n",
       "50%         5.100000   2015.000000  5.120000e+04     19.160000   1248.000000   \n",
       "75%         7.800000   2017.000000  7.397800e+04     22.320000   1582.000000   \n",
       "max       395.000000   2021.000000  3.800000e+06    120.000000   6752.000000   \n",
       "\n",
       "          max_power         seats  \n",
       "count  13986.000000  13986.000000  \n",
       "mean      97.685631      5.313242  \n",
       "std       45.067944      0.831653  \n",
       "min        5.000000      2.000000  \n",
       "25%       73.900000      5.000000  \n",
       "50%       86.700000      5.000000  \n",
       "75%      112.000000      5.000000  \n",
       "max      626.000000     14.000000  "
      ]
     },
     "execution_count": 15,
     "metadata": {},
     "output_type": "execute_result"
    }
   ],
   "source": [
    "df.describe()"
   ]
  },
  {
   "cell_type": "markdown",
   "metadata": {},
   "source": [
    "- `selling_price` ranges from [0.33, 395] - the values seem to be in lakhs.\n",
    "- `mileage` min is 0, max is 120 - need to check for outliers.\n",
    "- `engine` min is 0, max is 6752 - values appear to be in \"cc\" - need to check for outliers."
   ]
  },
  {
   "cell_type": "markdown",
   "metadata": {},
   "source": [
    "### Distributions\n",
    "\n",
    "Lets check the distributions of these features one by one"
   ]
  },
  {
   "cell_type": "code",
   "execution_count": 18,
   "metadata": {},
   "outputs": [
    {
     "data": {
      "text/plain": [
       "<matplotlib.axes._subplots.AxesSubplot at 0x139f3a30548>"
      ]
     },
     "execution_count": 18,
     "metadata": {},
     "output_type": "execute_result"
    },
    {
     "data": {
      "image/png": "[encoded data removed]",
      "text/plain": [
       "<Figure size 432x288 with 1 Axes>"
      ]
     },
     "metadata": {
      "needs_background": "light"
     },
     "output_type": "display_data"
    }
   ],
   "source": [
    "df['selling_price'].hist(bins=50)"
   ]
  },
  {
   "cell_type": "markdown",
   "metadata": {},
   "source": [
    "Lets check the percntage of outliers. We are manually taking a call that price over a 100 lakhs (1 crorre) is an outlier by looking at the above plot"
   ]
  },
  {
   "cell_type": "code",
   "execution_count": 30,
   "metadata": {},
   "outputs": [
    {
     "data": {
      "text/plain": [
       "0.06435006435006435"
      ]
     },
     "execution_count": 30,
     "metadata": {},
     "output_type": "execute_result"
    }
   ],
   "source": [
    "(df.loc[df.selling_price > 100].shape[0]/len(df))*100"
   ]
  },
  {
   "cell_type": "markdown",
   "metadata": {},
   "source": [
    "The population is so small so lets saturated the price at 100"
   ]
  },
  {
   "cell_type": "code",
   "execution_count": 31,
   "metadata": {},
   "outputs": [],
   "source": [
    "df.loc[df['selling_price'] > 100, 'selling_price'] = 100"
   ]
  },
  {
   "cell_type": "markdown",
   "metadata": {},
   "source": [
    "### Outliers and missing values"
   ]
  },
  {
   "cell_type": "code",
   "execution_count": 34,
   "metadata": {},
   "outputs": [
    {
     "data": {
      "text/plain": [
       "<matplotlib.axes._subplots.AxesSubplot at 0x139f4223b88>"
      ]
     },
     "execution_count": 34,
     "metadata": {},
     "output_type": "execute_result"
    },
    {
     "data": {
      "image/png": "[encoded data removed]",
      "text/plain": [
       "<Figure size 432x288 with 1 Axes>"
      ]
     },
     "metadata": {
      "needs_background": "light"
     },
     "output_type": "display_data"
    }
   ],
   "source": [
    "df['mileage'].hist(bins=50)"
   ]
  },
  {
   "cell_type": "markdown",
   "metadata": {},
   "source": [
    "#### Another useful visualization is 'density plot', it  tries to fit the distribution over the histogram"
   ]
  },
  {
   "cell_type": "code",
   "execution_count": 36,
   "metadata": {},
   "outputs": [
    {
     "data": {
      "text/plain": [
       "<matplotlib.axes._subplots.AxesSubplot at 0x139f42f6408>"
      ]
     },
     "execution_count": 36,
     "metadata": {},
     "output_type": "execute_result"
    },
    {
     "data": {
      "image/png": "[encoded data removed]",
      "text/plain": [
       "<Figure size 432x288 with 1 Axes>"
      ]
     },
     "metadata": {
      "needs_background": "light"
     },
     "output_type": "display_data"
    }
   ],
   "source": [
    "df['mileage'].plot.density()"
   ]
  },
  {
   "cell_type": "markdown",
   "metadata": {},
   "source": [
    "#### The distribution is right skewed, and it seems that the mileage > 40 is just Outliers.\n",
    "\n",
    "#### Another observation is we see peak around 0, So let's investigate this further."
   ]
  },
  {
   "cell_type": "code",
   "execution_count": 43,
   "metadata": {},
   "outputs": [
    {
     "data": {
      "text/html": [
       "<div>\n",
       "<style scoped>\n",
       "    .dataframe tbody tr th:only-of-type {\n",
       "        vertical-align: middle;\n",
       "    }\n",
       "\n",
       "    .dataframe tbody tr th {\n",
       "        vertical-align: top;\n",
       "    }\n",
       "\n",
       "    .dataframe thead th {\n",
       "        text-align: right;\n",
       "    }\n",
       "</style>\n",
       "<table border=\"1\" class=\"dataframe\">\n",
       "  <thead>\n",
       "    <tr style=\"text-align: right;\">\n",
       "      <th></th>\n",
       "      <th>full_name</th>\n",
       "      <th>selling_price</th>\n",
       "      <th>year</th>\n",
       "      <th>seller_type</th>\n",
       "      <th>km_driven</th>\n",
       "      <th>fuel_type</th>\n",
       "      <th>transmission_type</th>\n",
       "      <th>mileage</th>\n",
       "      <th>engine</th>\n",
       "      <th>max_power</th>\n",
       "      <th>seats</th>\n",
       "    </tr>\n",
       "  </thead>\n",
       "  <tbody>\n",
       "    <tr>\n",
       "      <th>271</th>\n",
       "      <td>Hyundai Santro GLS I - Euro II</td>\n",
       "      <td>0.35</td>\n",
       "      <td>2002.0</td>\n",
       "      <td>Individual</td>\n",
       "      <td>60000</td>\n",
       "      <td>Petrol</td>\n",
       "      <td>Manual</td>\n",
       "      <td>0.0</td>\n",
       "      <td>999.000000</td>\n",
       "      <td>5.00</td>\n",
       "      <td>5.0</td>\n",
       "    </tr>\n",
       "    <tr>\n",
       "      <th>333</th>\n",
       "      <td>Hyundai Terracan CRDi</td>\n",
       "      <td>2.85</td>\n",
       "      <td>2004.0</td>\n",
       "      <td>Dealer</td>\n",
       "      <td>84000</td>\n",
       "      <td>Diesel</td>\n",
       "      <td>Manual</td>\n",
       "      <td>0.0</td>\n",
       "      <td>2902.000000</td>\n",
       "      <td>5.00</td>\n",
       "      <td>5.0</td>\n",
       "    </tr>\n",
       "    <tr>\n",
       "      <th>459</th>\n",
       "      <td>Hyundai Santro Xing XL</td>\n",
       "      <td>1.20</td>\n",
       "      <td>2006.0</td>\n",
       "      <td>Dealer</td>\n",
       "      <td>78523</td>\n",
       "      <td>Petrol</td>\n",
       "      <td>Manual</td>\n",
       "      <td>0.0</td>\n",
       "      <td>1086.000000</td>\n",
       "      <td>5.00</td>\n",
       "      <td>5.0</td>\n",
       "    </tr>\n",
       "    <tr>\n",
       "      <th>595</th>\n",
       "      <td>Toyota Qualis GS G9</td>\n",
       "      <td>1.80</td>\n",
       "      <td>2001.0</td>\n",
       "      <td>Individual</td>\n",
       "      <td>257000</td>\n",
       "      <td>Diesel</td>\n",
       "      <td>Manual</td>\n",
       "      <td>0.0</td>\n",
       "      <td>2446.000000</td>\n",
       "      <td>5.00</td>\n",
       "      <td>8.0</td>\n",
       "    </tr>\n",
       "    <tr>\n",
       "      <th>752</th>\n",
       "      <td>Hyundai Santro Xing GL</td>\n",
       "      <td>0.95</td>\n",
       "      <td>2008.0</td>\n",
       "      <td>Dealer</td>\n",
       "      <td>85000</td>\n",
       "      <td>Petrol</td>\n",
       "      <td>Manual</td>\n",
       "      <td>0.0</td>\n",
       "      <td>1086.000000</td>\n",
       "      <td>62.00</td>\n",
       "      <td>5.0</td>\n",
       "    </tr>\n",
       "    <tr>\n",
       "      <th>...</th>\n",
       "      <td>...</td>\n",
       "      <td>...</td>\n",
       "      <td>...</td>\n",
       "      <td>...</td>\n",
       "      <td>...</td>\n",
       "      <td>...</td>\n",
       "      <td>...</td>\n",
       "      <td>...</td>\n",
       "      <td>...</td>\n",
       "      <td>...</td>\n",
       "      <td>...</td>\n",
       "    </tr>\n",
       "    <tr>\n",
       "      <th>13238</th>\n",
       "      <td>Mahindra E Verito D2</td>\n",
       "      <td>11.97</td>\n",
       "      <td>2019.0</td>\n",
       "      <td>Individual</td>\n",
       "      <td>18281</td>\n",
       "      <td>Electric</td>\n",
       "      <td>Automatic</td>\n",
       "      <td>0.0</td>\n",
       "      <td>72.000000</td>\n",
       "      <td>41.57</td>\n",
       "      <td>5.0</td>\n",
       "    </tr>\n",
       "    <tr>\n",
       "      <th>13351</th>\n",
       "      <td>Hyundai Santro Xing XL</td>\n",
       "      <td>0.90</td>\n",
       "      <td>2006.0</td>\n",
       "      <td>Individual</td>\n",
       "      <td>120000</td>\n",
       "      <td>Petrol</td>\n",
       "      <td>Manual</td>\n",
       "      <td>0.0</td>\n",
       "      <td>1086.000000</td>\n",
       "      <td>5.00</td>\n",
       "      <td>5.0</td>\n",
       "    </tr>\n",
       "    <tr>\n",
       "      <th>13415</th>\n",
       "      <td>Mahindra E Verito D2</td>\n",
       "      <td>9.45</td>\n",
       "      <td>2020.0</td>\n",
       "      <td>Dealer</td>\n",
       "      <td>2746</td>\n",
       "      <td>Electric</td>\n",
       "      <td>Automatic</td>\n",
       "      <td>0.0</td>\n",
       "      <td>72.000000</td>\n",
       "      <td>41.57</td>\n",
       "      <td>5.0</td>\n",
       "    </tr>\n",
       "    <tr>\n",
       "      <th>13681</th>\n",
       "      <td>Nissan Infiniti Petrol</td>\n",
       "      <td>38.00</td>\n",
       "      <td>2014.0</td>\n",
       "      <td>Dealer</td>\n",
       "      <td>8000</td>\n",
       "      <td>Petrol</td>\n",
       "      <td>Manual</td>\n",
       "      <td>0.0</td>\n",
       "      <td>1476.327401</td>\n",
       "      <td>5.00</td>\n",
       "      <td>5.0</td>\n",
       "    </tr>\n",
       "    <tr>\n",
       "      <th>13714</th>\n",
       "      <td>Mercedes-Benz M-Class ML 350 4Matic</td>\n",
       "      <td>26.00</td>\n",
       "      <td>2014.0</td>\n",
       "      <td>Dealer</td>\n",
       "      <td>65000</td>\n",
       "      <td>Diesel</td>\n",
       "      <td>Automatic</td>\n",
       "      <td>0.0</td>\n",
       "      <td>2987.000000</td>\n",
       "      <td>165.00</td>\n",
       "      <td>5.0</td>\n",
       "    </tr>\n",
       "  </tbody>\n",
       "</table>\n",
       "<p>119 rows × 11 columns</p>\n",
       "</div>"
      ],
      "text/plain": [
       "                                 full_name  selling_price    year seller_type  \\\n",
       "271         Hyundai Santro GLS I - Euro II           0.35  2002.0  Individual   \n",
       "333                  Hyundai Terracan CRDi           2.85  2004.0      Dealer   \n",
       "459                 Hyundai Santro Xing XL           1.20  2006.0      Dealer   \n",
       "595                    Toyota Qualis GS G9           1.80  2001.0  Individual   \n",
       "752                 Hyundai Santro Xing GL           0.95  2008.0      Dealer   \n",
       "...                                    ...            ...     ...         ...   \n",
       "13238                 Mahindra E Verito D2          11.97  2019.0  Individual   \n",
       "13351               Hyundai Santro Xing XL           0.90  2006.0  Individual   \n",
       "13415                 Mahindra E Verito D2           9.45  2020.0      Dealer   \n",
       "13681               Nissan Infiniti Petrol          38.00  2014.0      Dealer   \n",
       "13714  Mercedes-Benz M-Class ML 350 4Matic          26.00  2014.0      Dealer   \n",
       "\n",
       "       km_driven fuel_type transmission_type  mileage       engine  max_power  \\\n",
       "271        60000    Petrol            Manual      0.0   999.000000       5.00   \n",
       "333        84000    Diesel            Manual      0.0  2902.000000       5.00   \n",
       "459        78523    Petrol            Manual      0.0  1086.000000       5.00   \n",
       "595       257000    Diesel            Manual      0.0  2446.000000       5.00   \n",
       "752        85000    Petrol            Manual      0.0  1086.000000      62.00   \n",
       "...          ...       ...               ...      ...          ...        ...   \n",
       "13238      18281  Electric         Automatic      0.0    72.000000      41.57   \n",
       "13351     120000    Petrol            Manual      0.0  1086.000000       5.00   \n",
       "13415       2746  Electric         Automatic      0.0    72.000000      41.57   \n",
       "13681       8000    Petrol            Manual      0.0  1476.327401       5.00   \n",
       "13714      65000    Diesel         Automatic      0.0  2987.000000     165.00   \n",
       "\n",
       "       seats  \n",
       "271      5.0  \n",
       "333      5.0  \n",
       "459      5.0  \n",
       "595      8.0  \n",
       "752      5.0  \n",
       "...      ...  \n",
       "13238    5.0  \n",
       "13351    5.0  \n",
       "13415    5.0  \n",
       "13681    5.0  \n",
       "13714    5.0  \n",
       "\n",
       "[119 rows x 11 columns]"
      ]
     },
     "execution_count": 43,
     "metadata": {},
     "output_type": "execute_result"
    }
   ],
   "source": [
    "# looking a pts where mileage < 5\n",
    "\n",
    "df.loc[df['mileage'] < 5]"
   ]
  },
  {
   "cell_type": "code",
   "execution_count": 46,
   "metadata": {},
   "outputs": [
    {
     "data": {
      "text/plain": [
       "0.8508508508508509"
      ]
     },
     "execution_count": 46,
     "metadata": {},
     "output_type": "execute_result"
    }
   ],
   "source": [
    "# there are just 119 rows, and it does not make any sense to have cars milegae < 5. \n",
    "# lets check on the % of such cars in our population.\n",
    "\n",
    "(df.loc[df['mileage'] < 5].shape[0]/len(df))* 100\n"
   ]
  },
  {
   "cell_type": "code",
   "execution_count": 47,
   "metadata": {},
   "outputs": [],
   "source": [
    "# 8% of such rows we can either drop or impute these features during pre-processing."
   ]
  },
  {
   "cell_type": "markdown",
   "metadata": {},
   "source": [
    "#### Are the top values enormous, checking for cars mileage > 40"
   ]
  },
  {
   "cell_type": "code",
   "execution_count": 50,
   "metadata": {},
   "outputs": [
    {
     "data": {
      "text/html": [
       "<div>\n",
       "<style scoped>\n",
       "    .dataframe tbody tr th:only-of-type {\n",
       "        vertical-align: middle;\n",
       "    }\n",
       "\n",
       "    .dataframe tbody tr th {\n",
       "        vertical-align: top;\n",
       "    }\n",
       "\n",
       "    .dataframe thead th {\n",
       "        text-align: right;\n",
       "    }\n",
       "</style>\n",
       "<table border=\"1\" class=\"dataframe\">\n",
       "  <thead>\n",
       "    <tr style=\"text-align: right;\">\n",
       "      <th></th>\n",
       "      <th>full_name</th>\n",
       "      <th>selling_price</th>\n",
       "      <th>year</th>\n",
       "      <th>seller_type</th>\n",
       "      <th>km_driven</th>\n",
       "      <th>fuel_type</th>\n",
       "      <th>transmission_type</th>\n",
       "      <th>mileage</th>\n",
       "      <th>engine</th>\n",
       "      <th>max_power</th>\n",
       "      <th>seats</th>\n",
       "    </tr>\n",
       "  </thead>\n",
       "  <tbody>\n",
       "    <tr>\n",
       "      <th>4291</th>\n",
       "      <td>Mahindra e2o Premium</td>\n",
       "      <td>3.25</td>\n",
       "      <td>2013.0</td>\n",
       "      <td>Individual</td>\n",
       "      <td>50000</td>\n",
       "      <td>Electric</td>\n",
       "      <td>Automatic</td>\n",
       "      <td>120.0</td>\n",
       "      <td>0.000000</td>\n",
       "      <td>25.5</td>\n",
       "      <td>5.0</td>\n",
       "    </tr>\n",
       "    <tr>\n",
       "      <th>4751</th>\n",
       "      <td>Mahindra e2o T2</td>\n",
       "      <td>3.60</td>\n",
       "      <td>2015.0</td>\n",
       "      <td>Dealer</td>\n",
       "      <td>42862</td>\n",
       "      <td>Electric</td>\n",
       "      <td>Automatic</td>\n",
       "      <td>120.0</td>\n",
       "      <td>0.000000</td>\n",
       "      <td>25.5</td>\n",
       "      <td>5.0</td>\n",
       "    </tr>\n",
       "    <tr>\n",
       "      <th>4894</th>\n",
       "      <td>Mahindra e2oPlus P6</td>\n",
       "      <td>4.00</td>\n",
       "      <td>2018.0</td>\n",
       "      <td>Dealer</td>\n",
       "      <td>26000</td>\n",
       "      <td>Electric</td>\n",
       "      <td>Automatic</td>\n",
       "      <td>110.0</td>\n",
       "      <td>1476.327401</td>\n",
       "      <td>25.4</td>\n",
       "      <td>4.0</td>\n",
       "    </tr>\n",
       "  </tbody>\n",
       "</table>\n",
       "</div>"
      ],
      "text/plain": [
       "                 full_name  selling_price    year seller_type  km_driven  \\\n",
       "4291  Mahindra e2o Premium           3.25  2013.0  Individual      50000   \n",
       "4751       Mahindra e2o T2           3.60  2015.0      Dealer      42862   \n",
       "4894   Mahindra e2oPlus P6           4.00  2018.0      Dealer      26000   \n",
       "\n",
       "     fuel_type transmission_type  mileage       engine  max_power  seats  \n",
       "4291  Electric         Automatic    120.0     0.000000       25.5    5.0  \n",
       "4751  Electric         Automatic    120.0     0.000000       25.5    5.0  \n",
       "4894  Electric         Automatic    110.0  1476.327401       25.4    4.0  "
      ]
     },
     "execution_count": 50,
     "metadata": {},
     "output_type": "execute_result"
    }
   ],
   "source": [
    "df[df['mileage'] > 40]"
   ]
  },
  {
   "cell_type": "code",
   "execution_count": 51,
   "metadata": {},
   "outputs": [
    {
     "data": {
      "text/plain": [
       "Electric    3\n",
       "Name: fuel_type, dtype: int64"
      ]
     },
     "execution_count": 51,
     "metadata": {},
     "output_type": "execute_result"
    }
   ],
   "source": [
    "df[df['mileage'] > 40].fuel_type.value_counts()"
   ]
  },
  {
   "cell_type": "markdown",
   "metadata": {},
   "source": [
    "#### We have only EV vehicles with mileage > 40 and it make sense also.\n",
    "#### So these are not incorrect values, let us not remove these values."
   ]
  },
  {
   "cell_type": "markdown",
   "metadata": {},
   "source": [
    "## Correlations\n",
    "\n",
    "#### Let us check how features are related to each other."
   ]
  },
  {
   "cell_type": "code",
   "execution_count": 57,
   "metadata": {},
   "outputs": [
    {
     "data": {
      "image/png": "[encoded data removed]",
      "text/plain": [
       "<Figure size 720x576 with 2 Axes>"
      ]
     },
     "metadata": {
      "needs_background": "light"
     },
     "output_type": "display_data"
    }
   ],
   "source": [
    "plt.figure(figsize= (10,8))\n",
    "ax = sns.heatmap(df.corr(), cmap=\"YlGnBu\", annot = True)"
   ]
  },
  {
   "cell_type": "markdown",
   "metadata": {},
   "source": [
    "We see the following correlations:\n",
    "- Engine and max-power\n",
    "- Max power and selling price\n",
    "Now based on our **domain knowledge** (about cars) we can digest these correlations. In this case, these correlations seem to make a lot of sense\n",
    "\n",
    "\n",
    "Another visualisation we can check, is the scatter plot of each feature with the target. This can be easily done using pairplot from seaborn library"
   ]
  },
  {
   "cell_type": "markdown",
   "metadata": {},
   "source": [
    "## Catogorical Features"
   ]
  },
  {
   "cell_type": "markdown",
   "metadata": {},
   "source": [
    "We have noticed that the name contains the informaiton of the brand and the model. Lets extract those and create new features from them. After that we can drop the original column"
   ]
  },
  {
   "cell_type": "code",
   "execution_count": 67,
   "metadata": {},
   "outputs": [
    {
     "data": {
      "text/html": [
       "<div>\n",
       "<style scoped>\n",
       "    .dataframe tbody tr th:only-of-type {\n",
       "        vertical-align: middle;\n",
       "    }\n",
       "\n",
       "    .dataframe tbody tr th {\n",
       "        vertical-align: top;\n",
       "    }\n",
       "\n",
       "    .dataframe thead th {\n",
       "        text-align: right;\n",
       "    }\n",
       "</style>\n",
       "<table border=\"1\" class=\"dataframe\">\n",
       "  <thead>\n",
       "    <tr style=\"text-align: right;\">\n",
       "      <th></th>\n",
       "      <th>selling_price</th>\n",
       "      <th>year</th>\n",
       "      <th>seller_type</th>\n",
       "      <th>km_driven</th>\n",
       "      <th>fuel_type</th>\n",
       "      <th>transmission_type</th>\n",
       "      <th>mileage</th>\n",
       "      <th>engine</th>\n",
       "      <th>max_power</th>\n",
       "      <th>seats</th>\n",
       "      <th>make</th>\n",
       "      <th>model</th>\n",
       "    </tr>\n",
       "  </thead>\n",
       "  <tbody>\n",
       "    <tr>\n",
       "      <th>0</th>\n",
       "      <td>2.85</td>\n",
       "      <td>2007.0</td>\n",
       "      <td>Individual</td>\n",
       "      <td>110000</td>\n",
       "      <td>Petrol</td>\n",
       "      <td>Manual</td>\n",
       "      <td>15.00</td>\n",
       "      <td>1586.0</td>\n",
       "      <td>104.68</td>\n",
       "      <td>5.0</td>\n",
       "      <td>Maruti</td>\n",
       "      <td>SX4 Zxi BSIII</td>\n",
       "    </tr>\n",
       "    <tr>\n",
       "      <th>1</th>\n",
       "      <td>4.70</td>\n",
       "      <td>2012.0</td>\n",
       "      <td>Dealer</td>\n",
       "      <td>70000</td>\n",
       "      <td>Diesel</td>\n",
       "      <td>Manual</td>\n",
       "      <td>21.90</td>\n",
       "      <td>1396.0</td>\n",
       "      <td>88.76</td>\n",
       "      <td>5.0</td>\n",
       "      <td>Hyundai</td>\n",
       "      <td>i20 Sportz 1.4 CRDi</td>\n",
       "    </tr>\n",
       "    <tr>\n",
       "      <th>2</th>\n",
       "      <td>5.25</td>\n",
       "      <td>2015.0</td>\n",
       "      <td>Individual</td>\n",
       "      <td>70000</td>\n",
       "      <td>Diesel</td>\n",
       "      <td>Manual</td>\n",
       "      <td>25.20</td>\n",
       "      <td>1248.0</td>\n",
       "      <td>74.00</td>\n",
       "      <td>5.0</td>\n",
       "      <td>Maruti</td>\n",
       "      <td>Swift VDI BSIV</td>\n",
       "    </tr>\n",
       "    <tr>\n",
       "      <th>3</th>\n",
       "      <td>1.25</td>\n",
       "      <td>2005.0</td>\n",
       "      <td>Individual</td>\n",
       "      <td>90000</td>\n",
       "      <td>Petrol</td>\n",
       "      <td>Manual</td>\n",
       "      <td>13.00</td>\n",
       "      <td>1343.0</td>\n",
       "      <td>90.00</td>\n",
       "      <td>5.0</td>\n",
       "      <td>Honda</td>\n",
       "      <td>City 1.3 EXI</td>\n",
       "    </tr>\n",
       "    <tr>\n",
       "      <th>4</th>\n",
       "      <td>4.65</td>\n",
       "      <td>2015.0</td>\n",
       "      <td>Dealer</td>\n",
       "      <td>41000</td>\n",
       "      <td>Petrol</td>\n",
       "      <td>Manual</td>\n",
       "      <td>16.47</td>\n",
       "      <td>1198.0</td>\n",
       "      <td>74.00</td>\n",
       "      <td>5.0</td>\n",
       "      <td>Volkswagen</td>\n",
       "      <td>Polo 1.2 MPI Comfortline</td>\n",
       "    </tr>\n",
       "  </tbody>\n",
       "</table>\n",
       "</div>"
      ],
      "text/plain": [
       "   selling_price    year seller_type  km_driven fuel_type transmission_type  \\\n",
       "0           2.85  2007.0  Individual     110000    Petrol            Manual   \n",
       "1           4.70  2012.0      Dealer      70000    Diesel            Manual   \n",
       "2           5.25  2015.0  Individual      70000    Diesel            Manual   \n",
       "3           1.25  2005.0  Individual      90000    Petrol            Manual   \n",
       "4           4.65  2015.0      Dealer      41000    Petrol            Manual   \n",
       "\n",
       "   mileage  engine  max_power  seats        make                     model  \n",
       "0    15.00  1586.0     104.68    5.0      Maruti             SX4 Zxi BSIII  \n",
       "1    21.90  1396.0      88.76    5.0     Hyundai       i20 Sportz 1.4 CRDi  \n",
       "2    25.20  1248.0      74.00    5.0      Maruti            Swift VDI BSIV  \n",
       "3    13.00  1343.0      90.00    5.0       Honda              City 1.3 EXI  \n",
       "4    16.47  1198.0      74.00    5.0  Volkswagen  Polo 1.2 MPI Comfortline  "
      ]
     },
     "execution_count": 67,
     "metadata": {},
     "output_type": "execute_result"
    }
   ],
   "source": [
    "df['make'] = df['full_name'].apply(lambda x: x.split()[0])\n",
    "df['model'] = df['full_name'].apply(lambda x: ' '.join(x.split()[1:]))\n",
    "df = df.drop(\"full_name\", axis=1)\n",
    "df.head(5)"
   ]
  },
  {
   "cell_type": "code",
   "execution_count": 69,
   "metadata": {},
   "outputs": [
    {
     "data": {
      "text/html": [
       "<div>\n",
       "<style scoped>\n",
       "    .dataframe tbody tr th:only-of-type {\n",
       "        vertical-align: middle;\n",
       "    }\n",
       "\n",
       "    .dataframe tbody tr th {\n",
       "        vertical-align: top;\n",
       "    }\n",
       "\n",
       "    .dataframe thead th {\n",
       "        text-align: right;\n",
       "    }\n",
       "</style>\n",
       "<table border=\"1\" class=\"dataframe\">\n",
       "  <thead>\n",
       "    <tr style=\"text-align: right;\">\n",
       "      <th></th>\n",
       "      <th>seller_type</th>\n",
       "      <th>fuel_type</th>\n",
       "      <th>transmission_type</th>\n",
       "      <th>make</th>\n",
       "      <th>model</th>\n",
       "    </tr>\n",
       "  </thead>\n",
       "  <tbody>\n",
       "    <tr>\n",
       "      <th>count</th>\n",
       "      <td>13986</td>\n",
       "      <td>13986</td>\n",
       "      <td>13986</td>\n",
       "      <td>13986</td>\n",
       "      <td>13986</td>\n",
       "    </tr>\n",
       "    <tr>\n",
       "      <th>unique</th>\n",
       "      <td>3</td>\n",
       "      <td>5</td>\n",
       "      <td>2</td>\n",
       "      <td>41</td>\n",
       "      <td>2923</td>\n",
       "    </tr>\n",
       "    <tr>\n",
       "      <th>top</th>\n",
       "      <td>Dealer</td>\n",
       "      <td>Petrol</td>\n",
       "      <td>Manual</td>\n",
       "      <td>Maruti</td>\n",
       "      <td>Alto 800 LXI</td>\n",
       "    </tr>\n",
       "    <tr>\n",
       "      <th>freq</th>\n",
       "      <td>8393</td>\n",
       "      <td>6870</td>\n",
       "      <td>11251</td>\n",
       "      <td>3979</td>\n",
       "      <td>143</td>\n",
       "    </tr>\n",
       "  </tbody>\n",
       "</table>\n",
       "</div>"
      ],
      "text/plain": [
       "       seller_type fuel_type transmission_type    make         model\n",
       "count        13986     13986             13986   13986         13986\n",
       "unique           3         5                 2      41          2923\n",
       "top         Dealer    Petrol            Manual  Maruti  Alto 800 LXI\n",
       "freq          8393      6870             11251    3979           143"
      ]
     },
     "execution_count": 69,
     "metadata": {},
     "output_type": "execute_result"
    }
   ],
   "source": [
    "# Now let us look into some categorical features\n",
    "df.describe(include='object')"
   ]
  },
  {
   "cell_type": "code",
   "execution_count": 70,
   "metadata": {},
   "outputs": [
    {
     "data": {
      "text/plain": [
       "Petrol      6870\n",
       "Diesel      6823\n",
       "CNG          233\n",
       "LPG           49\n",
       "Electric      11\n",
       "Name: fuel_type, dtype: int64"
      ]
     },
     "execution_count": 70,
     "metadata": {},
     "output_type": "execute_result"
    }
   ],
   "source": [
    "df['fuel_type'].value_counts()"
   ]
  },
  {
   "cell_type": "code",
   "execution_count": 71,
   "metadata": {},
   "outputs": [
    {
     "data": {
      "text/plain": [
       "Manual       11251\n",
       "Automatic     2735\n",
       "Name: transmission_type, dtype: int64"
      ]
     },
     "execution_count": 71,
     "metadata": {},
     "output_type": "execute_result"
    }
   ],
   "source": [
    "df[\"transmission_type\"].value_counts()"
   ]
  },
  {
   "cell_type": "code",
   "execution_count": 72,
   "metadata": {},
   "outputs": [
    {
     "data": {
      "text/plain": [
       "Dealer              8393\n",
       "Individual          5450\n",
       "Trustmark Dealer     143\n",
       "Name: seller_type, dtype: int64"
      ]
     },
     "execution_count": 72,
     "metadata": {},
     "output_type": "execute_result"
    }
   ],
   "source": [
    "df[\"seller_type\"].value_counts()"
   ]
  },
  {
   "cell_type": "markdown",
   "metadata": {},
   "source": [
    "#### Does selling varies in some of these groups, let try to find the relationship with Selling price"
   ]
  },
  {
   "cell_type": "code",
   "execution_count": 78,
   "metadata": {},
   "outputs": [
    {
     "data": {
      "text/plain": [
       "<matplotlib.legend.Legend at 0x13a8dd56a88>"
      ]
     },
     "execution_count": 78,
     "metadata": {},
     "output_type": "execute_result"
    },
    {
     "data": {
      "image/png": "[encoded data removed]",
      "text/plain": [
       "<Figure size 432x288 with 1 Axes>"
      ]
     },
     "metadata": {
      "needs_background": "light"
     },
     "output_type": "display_data"
    }
   ],
   "source": [
    "# We we took the distribution of these categorical in regards to the behavior with 0.90 percentile value\n",
    "# of selling price within each group \n",
    "\n",
    "df.loc[df['selling_price'] <= df['selling_price'].quantile(.90)].groupby('seller_type')['selling_price'].plot.density()\n",
    "plt.legend()"
   ]
  },
  {
   "cell_type": "markdown",
   "metadata": {},
   "source": [
    "Looks like for different seller type, the selling price distrubution is not very different. Hence one intuition that can be developed from this plot is that the **seller_type** variable will not turn out to be very important for the ML model. (We will check this later)"
   ]
  },
  {
   "cell_type": "markdown",
   "metadata": {},
   "source": [
    "#### Lets check for all groups?\n",
    "\n",
    "Another way to visualise the same is to use a plot known as **box-plot**\n",
    "\n",
    "\n",
    "Note: Although, `seats` is numeric, but we will consider it as an ordinal variable and perform similar analysis as we do for other categorical variables."
   ]
  },
  {
   "cell_type": "code",
   "execution_count": 80,
   "metadata": {},
   "outputs": [
    {
     "data": {
      "image/png": "[encoded data removed]",
      "text/plain": [
       "<Figure size 720x360 with 1 Axes>"
      ]
     },
     "metadata": {
      "needs_background": "light"
     },
     "output_type": "display_data"
    },
    {
     "data": {
      "image/png": "[encoded data removed]",
      "text/plain": [
       "<Figure size 720x360 with 1 Axes>"
      ]
     },
     "metadata": {
      "needs_background": "light"
     },
     "output_type": "display_data"
    },
    {
     "data": {
      "image/png": "[encoded data removed]",
      "text/plain": [
       "<Figure size 720x360 with 1 Axes>"
      ]
     },
     "metadata": {
      "needs_background": "light"
     },
     "output_type": "display_data"
    }
   ],
   "source": [
    "for col in ['seller_type', 'fuel_type', 'seats']:\n",
    "    plt.figure(figsize=(10,5))\n",
    "    sns.boxplot(y='selling_price', x=col, data=df)\n",
    "    plt.title('Col vs Selling Price')\n",
    "    plt.show()"
   ]
  },
  {
   "cell_type": "markdown",
   "metadata": {},
   "source": [
    "#### We can also transform the scale of selling-price for better visualisations"
   ]
  },
  {
   "cell_type": "code",
   "execution_count": 82,
   "metadata": {},
   "outputs": [
    {
     "data": {
      "image/png": "[encoded data removed]",
      "text/plain": [
       "<Figure size 720x360 with 1 Axes>"
      ]
     },
     "metadata": {
      "needs_background": "light"
     },
     "output_type": "display_data"
    },
    {
     "data": {
      "image/png": "[encoded data removed]",
      "text/plain": [
       "<Figure size 720x360 with 1 Axes>"
      ]
     },
     "metadata": {
      "needs_background": "light"
     },
     "output_type": "display_data"
    },
    {
     "data": {
      "image/png": "[encoded data removed]",
      "text/plain": [
       "<Figure size 720x360 with 1 Axes>"
      ]
     },
     "metadata": {
      "needs_background": "light"
     },
     "output_type": "display_data"
    }
   ],
   "source": [
    "df['log_selling_price'] = np.log(df['selling_price'].values)\n",
    "\n",
    "for col in ['seller_type', 'fuel_type', 'seats']:\n",
    "    plt.figure(figsize=(10,5))\n",
    "    sns.boxplot(y='log_selling_price',x=col, data=df)\n",
    "    plt.title('col vs selling_price')\n",
    "    plt.show()"
   ]
  },
  {
   "cell_type": "code",
   "execution_count": 84,
   "metadata": {},
   "outputs": [
    {
     "data": {
      "text/plain": [
       "41"
      ]
     },
     "execution_count": 84,
     "metadata": {},
     "output_type": "execute_result"
    }
   ],
   "source": [
    "#### How many categories of \"make\" in the data?\n",
    "\n",
    "len(df['make'].unique())"
   ]
  },
  {
   "cell_type": "markdown",
   "metadata": {},
   "source": [
    "#### There are 41 car brands in the data - too many levels, think of possible ways to encode them as numbers\n",
    "#### What are item counts for different \"make\"?"
   ]
  },
  {
   "cell_type": "code",
   "execution_count": 91,
   "metadata": {},
   "outputs": [
    {
     "data": {
      "image/png": "[encoded data removed]",
      "text/plain": [
       "<Figure size 1080x360 with 1 Axes>"
      ]
     },
     "metadata": {
      "needs_background": "light"
     },
     "output_type": "display_data"
    }
   ],
   "source": [
    "plt.figure(figsize=(15,5))\n",
    "sns.countplot(x='make', data=df, order=df['make'].value_counts().index)\n",
    "## df['make'].value_counts().index ----- here gives the list of Make as pandas indexes dtype\n",
    "plt.xticks(rotation=90);\n",
    "plt.title(\"Make and no of items sold\")\n",
    "plt.show()"
   ]
  },
  {
   "cell_type": "markdown",
   "metadata": {},
   "source": [
    "#### How is \"make\" related to the selling price?"
   ]
  },
  {
   "cell_type": "code",
   "execution_count": 92,
   "metadata": {},
   "outputs": [
    {
     "data": {
      "image/png": "[encoded data removed]",
      "text/plain": [
       "<Figure size 1080x360 with 1 Axes>"
      ]
     },
     "metadata": {
      "needs_background": "light"
     },
     "output_type": "display_data"
    }
   ],
   "source": [
    "plt.figure(figsize=(15,5))\n",
    "sns.boxplot(y='log_selling_price', x='make', data=df)\n",
    "plt.xticks(rotation=90)\n",
    "plt.title(\"Selling Price for different make\")\n",
    "plt.show()"
   ]
  },
  {
   "cell_type": "markdown",
   "metadata": {},
   "source": [
    "#### lets drop the **log_selling_price** column for now"
   ]
  },
  {
   "cell_type": "code",
   "execution_count": 94,
   "metadata": {},
   "outputs": [],
   "source": [
    "df.drop('log_selling_price',axis=1, inplace=True)"
   ]
  },
  {
   "cell_type": "markdown",
   "metadata": {},
   "source": [
    "> - How should we treat number of seats? Continuous OR Categorical ?\n",
    "> - **Answer**: \n",
    "> -- Number of seats is a variable with a finite discrete set of values. However it is orderd. If we make it categorical, it would be fed into the model as unordered. \n",
    "> --  But we need to think do we want that order? Example 2 seater cars are most likely more expensive than other cars. So in this sense 2 > 5. We actually would benefit from discarding the order.\n",
    "\n",
    "\n",
    "> - Can you convert number of seats to a variable which has 9 unique values with 3 categories?\n",
    "> - **Hint**: Merge some elements. Eg all cars with > 5 seats are on category.\n",
    "> - Can we do something similar with the \"make variable\"\n",
    "\n"
   ]
  },
  {
   "cell_type": "code",
   "execution_count": null,
   "metadata": {},
   "outputs": [],
   "source": []
  }
 ],
 "metadata": {
  "kernelspec": {
   "display_name": "Python 3",
   "language": "python",
   "name": "python3"
  }
 },
 "nbformat": 4,
 "nbformat_minor": 4
}
