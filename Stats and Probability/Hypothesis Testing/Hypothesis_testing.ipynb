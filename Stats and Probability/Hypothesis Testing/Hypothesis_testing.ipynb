{
  "nbformat": 4,
  "nbformat_minor": 0,
  "metadata": {
    "colab": {
      "name": "Hypothesis_testing.ipynb",
      "provenance": [],
      "collapsed_sections": []
    },
    "kernelspec": {
      "name": "python3",
      "display_name": "Python 3"
    },
    "language_info": {
      "name": "python"
    }
  },
  "cells": [
    {
      "cell_type": "markdown",
      "source": [
        "# Hypothesis Testing \n",
        "\n",
        "We are going to perform Z-test, analysing a Netflix dataset, to account that whether the Dwell time have any effect with introducing 2 adds.\n",
        "\n",
        "Group A --> Treatment Group shown 2 ads per ad-break\n",
        "\n",
        "Group B --> Control Group shown only 1 ad per ad break\n",
        "\n",
        "Let us comapre mean watch-times per group\n",
        "\n",
        "H0: mu1= mu2\n",
        "\n",
        "H1: mu1 != mu2"
      ],
      "metadata": {
        "id": "jCXhr_Db3Lro"
      }
    },
    {
      "cell_type": "code",
      "source": [
        "import pandas as pd\n",
        "import numpy as np\n",
        "import matplotlib.pyplot as plt\n",
        "import seaborn as sns\n",
        "from scipy import stats\n",
        "import scipy"
      ],
      "metadata": {
        "id": "pXvUgpOu3Rj1"
      },
      "execution_count": 1,
      "outputs": []
    },
    {
      "cell_type": "code",
      "source": [
        "# Download data\n",
        "# https://drive.google.com/file/d/1Hl96n6BWdl3ruJgCo_gaAWEb0kEYg__H/view?usp=sharing\n",
        "id = \"1Hl96n6BWdl3ruJgCo_gaAWEb0kEYg__H\"\n",
        "path = \"https://docs.google.com/uc?export=download&id=\" + id\n",
        "print(path)"
      ],
      "metadata": {
        "colab": {
          "base_uri": "https://localhost:8080/"
        },
        "id": "T8_s44xd3bJk",
        "outputId": "cd90bd4d-020c-4a9c-caa7-a6a25fa60ff2"
      },
      "execution_count": 2,
      "outputs": [
        {
          "output_type": "stream",
          "name": "stdout",
          "text": [
            "https://docs.google.com/uc?export=download&id=1Hl96n6BWdl3ruJgCo_gaAWEb0kEYg__H\n"
          ]
        }
      ]
    },
    {
      "cell_type": "code",
      "source": [
        "!wget \"https://docs.google.com/uc?export=download&id=1Hl96n6BWdl3ruJgCo_gaAWEb0kEYg__H\" -O ab_test_data.csv\n",
        "# wget is a URL network downloader that can work in the background, and it helps in downloading files directly from the main server"
      ],
      "metadata": {
        "colab": {
          "base_uri": "https://localhost:8080/"
        },
        "id": "BJkkAqwi5MHF",
        "outputId": "df9ff9dd-b08b-4562-e385-f5e7d71b3b53"
      },
      "execution_count": 3,
      "outputs": [
        {
          "output_type": "stream",
          "name": "stdout",
          "text": [
            "--2022-07-25 19:46:12--  https://docs.google.com/uc?export=download&id=1Hl96n6BWdl3ruJgCo_gaAWEb0kEYg__H\n",
            "Resolving docs.google.com (docs.google.com)... 142.251.111.101, 142.251.111.113, 142.251.111.138, ...\n",
            "Connecting to docs.google.com (docs.google.com)|142.251.111.101|:443... connected.\n",
            "HTTP request sent, awaiting response... 303 See Other\n",
            "Location: https://doc-00-ag-docs.googleusercontent.com/docs/securesc/ha0ro937gcuc7l7deffksulhg5h7mbp1/0ush6dqdjru99bul4mar31kdb2vcqoq7/1658778300000/10804243441129704195/*/1Hl96n6BWdl3ruJgCo_gaAWEb0kEYg__H?e=download&uuid=0a0d5de6-60df-4e0e-9f77-c81a27e3175d [following]\n",
            "Warning: wildcards not supported in HTTP.\n",
            "--2022-07-25 19:46:12--  https://doc-00-ag-docs.googleusercontent.com/docs/securesc/ha0ro937gcuc7l7deffksulhg5h7mbp1/0ush6dqdjru99bul4mar31kdb2vcqoq7/1658778300000/10804243441129704195/*/1Hl96n6BWdl3ruJgCo_gaAWEb0kEYg__H?e=download&uuid=0a0d5de6-60df-4e0e-9f77-c81a27e3175d\n",
            "Resolving doc-00-ag-docs.googleusercontent.com (doc-00-ag-docs.googleusercontent.com)... 172.253.122.132, 2607:f8b0:4004:c09::84\n",
            "Connecting to doc-00-ag-docs.googleusercontent.com (doc-00-ag-docs.googleusercontent.com)|172.253.122.132|:443... connected.\n",
            "HTTP request sent, awaiting response... 200 OK\n",
            "Length: 887610 (867K) [text/csv]\n",
            "Saving to: ‘ab_test_data.csv’\n",
            "\n",
            "ab_test_data.csv    100%[===================>] 866.81K  --.-KB/s    in 0.007s  \n",
            "\n",
            "2022-07-25 19:46:13 (115 MB/s) - ‘ab_test_data.csv’ saved [887610/887610]\n",
            "\n"
          ]
        }
      ]
    },
    {
      "cell_type": "code",
      "source": [
        "!ls -lrt\n",
        "# listing the directory contents."
      ],
      "metadata": {
        "colab": {
          "base_uri": "https://localhost:8080/"
        },
        "id": "8dlKjkhZ5MKH",
        "outputId": "8b4b77a2-5fbf-423e-9505-5743fa5891d9"
      },
      "execution_count": 4,
      "outputs": [
        {
          "output_type": "stream",
          "name": "stdout",
          "text": [
            "total 872\n",
            "drwxr-xr-x 1 root root   4096 Jul 13 13:43 sample_data\n",
            "-rw-r--r-- 1 root root 887610 Jul 25 19:46 ab_test_data.csv\n"
          ]
        }
      ]
    },
    {
      "cell_type": "code",
      "source": [
        "#!cat ab_test_data.csv\n",
        "# used to display the content of files"
      ],
      "metadata": {
        "id": "c_fLt7Zv5bsh"
      },
      "execution_count": 18,
      "outputs": []
    },
    {
      "cell_type": "code",
      "source": [
        "ab_test_data = pd.read_csv(\"ab_test_data.csv\")\n",
        "# taking 100 samples\n",
        "ab_test_data.sample(100)"
      ],
      "metadata": {
        "colab": {
          "base_uri": "https://localhost:8080/",
          "height": 424
        },
        "id": "fi1OXPPD6f35",
        "outputId": "3aafc539-9351-4e22-f5ce-364d3821160b"
      },
      "execution_count": 6,
      "outputs": [
        {
          "output_type": "execute_result",
          "data": {
            "text/plain": [
              "             date  customer_id  premium  watch_time_hrs customer_segmnt\n",
              "16987  2018-04-01          446        0        3.874986         control\n",
              "19499  2018-03-09          807        0        2.990503       treatment\n",
              "10143  2018-03-22          478        0        1.783394         control\n",
              "13391  2018-09-13          909        0        2.396431       treatment\n",
              "15965  2018-07-28          446        1        1.236874         control\n",
              "...           ...          ...      ...             ...             ...\n",
              "508    2018-02-21          432        0        3.149271         control\n",
              "12988  2018-10-23          603        1        2.969893       treatment\n",
              "570    2018-09-18          885        0        1.928054       treatment\n",
              "11344  2018-05-20          941        0        2.111601       treatment\n",
              "6474   2018-08-26          172        1        4.273717         control\n",
              "\n",
              "[100 rows x 5 columns]"
            ],
            "text/html": [
              "\n",
              "  <div id=\"df-2809d2b9-406f-4691-8081-a6998c2cbd60\">\n",
              "    <div class=\"colab-df-container\">\n",
              "      <div>\n",
              "<style scoped>\n",
              "    .dataframe tbody tr th:only-of-type {\n",
              "        vertical-align: middle;\n",
              "    }\n",
              "\n",
              "    .dataframe tbody tr th {\n",
              "        vertical-align: top;\n",
              "    }\n",
              "\n",
              "    .dataframe thead th {\n",
              "        text-align: right;\n",
              "    }\n",
              "</style>\n",
              "<table border=\"1\" class=\"dataframe\">\n",
              "  <thead>\n",
              "    <tr style=\"text-align: right;\">\n",
              "      <th></th>\n",
              "      <th>date</th>\n",
              "      <th>customer_id</th>\n",
              "      <th>premium</th>\n",
              "      <th>watch_time_hrs</th>\n",
              "      <th>customer_segmnt</th>\n",
              "    </tr>\n",
              "  </thead>\n",
              "  <tbody>\n",
              "    <tr>\n",
              "      <th>16987</th>\n",
              "      <td>2018-04-01</td>\n",
              "      <td>446</td>\n",
              "      <td>0</td>\n",
              "      <td>3.874986</td>\n",
              "      <td>control</td>\n",
              "    </tr>\n",
              "    <tr>\n",
              "      <th>19499</th>\n",
              "      <td>2018-03-09</td>\n",
              "      <td>807</td>\n",
              "      <td>0</td>\n",
              "      <td>2.990503</td>\n",
              "      <td>treatment</td>\n",
              "    </tr>\n",
              "    <tr>\n",
              "      <th>10143</th>\n",
              "      <td>2018-03-22</td>\n",
              "      <td>478</td>\n",
              "      <td>0</td>\n",
              "      <td>1.783394</td>\n",
              "      <td>control</td>\n",
              "    </tr>\n",
              "    <tr>\n",
              "      <th>13391</th>\n",
              "      <td>2018-09-13</td>\n",
              "      <td>909</td>\n",
              "      <td>0</td>\n",
              "      <td>2.396431</td>\n",
              "      <td>treatment</td>\n",
              "    </tr>\n",
              "    <tr>\n",
              "      <th>15965</th>\n",
              "      <td>2018-07-28</td>\n",
              "      <td>446</td>\n",
              "      <td>1</td>\n",
              "      <td>1.236874</td>\n",
              "      <td>control</td>\n",
              "    </tr>\n",
              "    <tr>\n",
              "      <th>...</th>\n",
              "      <td>...</td>\n",
              "      <td>...</td>\n",
              "      <td>...</td>\n",
              "      <td>...</td>\n",
              "      <td>...</td>\n",
              "    </tr>\n",
              "    <tr>\n",
              "      <th>508</th>\n",
              "      <td>2018-02-21</td>\n",
              "      <td>432</td>\n",
              "      <td>0</td>\n",
              "      <td>3.149271</td>\n",
              "      <td>control</td>\n",
              "    </tr>\n",
              "    <tr>\n",
              "      <th>12988</th>\n",
              "      <td>2018-10-23</td>\n",
              "      <td>603</td>\n",
              "      <td>1</td>\n",
              "      <td>2.969893</td>\n",
              "      <td>treatment</td>\n",
              "    </tr>\n",
              "    <tr>\n",
              "      <th>570</th>\n",
              "      <td>2018-09-18</td>\n",
              "      <td>885</td>\n",
              "      <td>0</td>\n",
              "      <td>1.928054</td>\n",
              "      <td>treatment</td>\n",
              "    </tr>\n",
              "    <tr>\n",
              "      <th>11344</th>\n",
              "      <td>2018-05-20</td>\n",
              "      <td>941</td>\n",
              "      <td>0</td>\n",
              "      <td>2.111601</td>\n",
              "      <td>treatment</td>\n",
              "    </tr>\n",
              "    <tr>\n",
              "      <th>6474</th>\n",
              "      <td>2018-08-26</td>\n",
              "      <td>172</td>\n",
              "      <td>1</td>\n",
              "      <td>4.273717</td>\n",
              "      <td>control</td>\n",
              "    </tr>\n",
              "  </tbody>\n",
              "</table>\n",
              "<p>100 rows × 5 columns</p>\n",
              "</div>\n",
              "      <button class=\"colab-df-convert\" onclick=\"convertToInteractive('df-2809d2b9-406f-4691-8081-a6998c2cbd60')\"\n",
              "              title=\"Convert this dataframe to an interactive table.\"\n",
              "              style=\"display:none;\">\n",
              "        \n",
              "  <svg xmlns=\"http://www.w3.org/2000/svg\" height=\"24px\"viewBox=\"0 0 24 24\"\n",
              "       width=\"24px\">\n",
              "    <path d=\"M0 0h24v24H0V0z\" fill=\"none\"/>\n",
              "    <path d=\"M18.56 5.44l.94 2.06.94-2.06 2.06-.94-2.06-.94-.94-2.06-.94 2.06-2.06.94zm-11 1L8.5 8.5l.94-2.06 2.06-.94-2.06-.94L8.5 2.5l-.94 2.06-2.06.94zm10 10l.94 2.06.94-2.06 2.06-.94-2.06-.94-.94-2.06-.94 2.06-2.06.94z\"/><path d=\"M17.41 7.96l-1.37-1.37c-.4-.4-.92-.59-1.43-.59-.52 0-1.04.2-1.43.59L10.3 9.45l-7.72 7.72c-.78.78-.78 2.05 0 2.83L4 21.41c.39.39.9.59 1.41.59.51 0 1.02-.2 1.41-.59l7.78-7.78 2.81-2.81c.8-.78.8-2.07 0-2.86zM5.41 20L4 18.59l7.72-7.72 1.47 1.35L5.41 20z\"/>\n",
              "  </svg>\n",
              "      </button>\n",
              "      \n",
              "  <style>\n",
              "    .colab-df-container {\n",
              "      display:flex;\n",
              "      flex-wrap:wrap;\n",
              "      gap: 12px;\n",
              "    }\n",
              "\n",
              "    .colab-df-convert {\n",
              "      background-color: #E8F0FE;\n",
              "      border: none;\n",
              "      border-radius: 50%;\n",
              "      cursor: pointer;\n",
              "      display: none;\n",
              "      fill: #1967D2;\n",
              "      height: 32px;\n",
              "      padding: 0 0 0 0;\n",
              "      width: 32px;\n",
              "    }\n",
              "\n",
              "    .colab-df-convert:hover {\n",
              "      background-color: #E2EBFA;\n",
              "      box-shadow: 0px 1px 2px rgba(60, 64, 67, 0.3), 0px 1px 3px 1px rgba(60, 64, 67, 0.15);\n",
              "      fill: #174EA6;\n",
              "    }\n",
              "\n",
              "    [theme=dark] .colab-df-convert {\n",
              "      background-color: #3B4455;\n",
              "      fill: #D2E3FC;\n",
              "    }\n",
              "\n",
              "    [theme=dark] .colab-df-convert:hover {\n",
              "      background-color: #434B5C;\n",
              "      box-shadow: 0px 1px 3px 1px rgba(0, 0, 0, 0.15);\n",
              "      filter: drop-shadow(0px 1px 2px rgba(0, 0, 0, 0.3));\n",
              "      fill: #FFFFFF;\n",
              "    }\n",
              "  </style>\n",
              "\n",
              "      <script>\n",
              "        const buttonEl =\n",
              "          document.querySelector('#df-2809d2b9-406f-4691-8081-a6998c2cbd60 button.colab-df-convert');\n",
              "        buttonEl.style.display =\n",
              "          google.colab.kernel.accessAllowed ? 'block' : 'none';\n",
              "\n",
              "        async function convertToInteractive(key) {\n",
              "          const element = document.querySelector('#df-2809d2b9-406f-4691-8081-a6998c2cbd60');\n",
              "          const dataTable =\n",
              "            await google.colab.kernel.invokeFunction('convertToInteractive',\n",
              "                                                     [key], {});\n",
              "          if (!dataTable) return;\n",
              "\n",
              "          const docLinkHtml = 'Like what you see? Visit the ' +\n",
              "            '<a target=\"_blank\" href=https://colab.research.google.com/notebooks/data_table.ipynb>data table notebook</a>'\n",
              "            + ' to learn more about interactive tables.';\n",
              "          element.innerHTML = '';\n",
              "          dataTable['output_type'] = 'display_data';\n",
              "          await google.colab.output.renderOutput(dataTable, element);\n",
              "          const docLink = document.createElement('div');\n",
              "          docLink.innerHTML = docLinkHtml;\n",
              "          element.appendChild(docLink);\n",
              "        }\n",
              "      </script>\n",
              "    </div>\n",
              "  </div>\n",
              "  "
            ]
          },
          "metadata": {},
          "execution_count": 6
        }
      ]
    },
    {
      "cell_type": "code",
      "source": [
        "ab_test_data.shape"
      ],
      "metadata": {
        "colab": {
          "base_uri": "https://localhost:8080/"
        },
        "id": "bpni9bwJ7QsU",
        "outputId": "59f90e0a-b3b8-45c1-e639-03e263ba8c30"
      },
      "execution_count": 8,
      "outputs": [
        {
          "output_type": "execute_result",
          "data": {
            "text/plain": [
              "(20000, 5)"
            ]
          },
          "metadata": {},
          "execution_count": 8
        }
      ]
    },
    {
      "cell_type": "code",
      "source": [
        "# we need to know value counts of Test vs Control.\n",
        "ab_test_data['customer_segmnt'].value_counts()\n",
        "# n1=n2=10000 => we can do t-test or z-test to compare means."
      ],
      "metadata": {
        "colab": {
          "base_uri": "https://localhost:8080/"
        },
        "id": "26-hAbaD7Tr8",
        "outputId": "ea92a403-f221-404c-e0da-891327197081"
      },
      "execution_count": 10,
      "outputs": [
        {
          "output_type": "execute_result",
          "data": {
            "text/plain": [
              "control      10000\n",
              "treatment    10000\n",
              "Name: customer_segmnt, dtype: int64"
            ]
          },
          "metadata": {},
          "execution_count": 10
        }
      ]
    },
    {
      "cell_type": "code",
      "source": [
        "ab_test_data.describe()"
      ],
      "metadata": {
        "colab": {
          "base_uri": "https://localhost:8080/",
          "height": 300
        },
        "id": "84mPGppu7o9M",
        "outputId": "1265c1f0-f0f3-4db9-b3ff-3be89ca7f84f"
      },
      "execution_count": 26,
      "outputs": [
        {
          "output_type": "execute_result",
          "data": {
            "text/plain": [
              "        customer_id       premium  watch_time_hrs\n",
              "count  20000.000000  20000.000000    20000.000000\n",
              "mean     499.001650      0.176750        9.362542\n",
              "std      288.223444      0.381467      244.884839\n",
              "min        0.000000      0.000000        0.160268\n",
              "25%      249.000000      0.000000        1.678066\n",
              "50%      500.000000      0.000000        2.670953\n",
              "75%      747.000000      0.000000        4.204673\n",
              "max      999.000000      1.000000    10007.648185"
            ],
            "text/html": [
              "\n",
              "  <div id=\"df-236f9f6f-c70a-4bcc-bbaa-fc4ac4bcc490\">\n",
              "    <div class=\"colab-df-container\">\n",
              "      <div>\n",
              "<style scoped>\n",
              "    .dataframe tbody tr th:only-of-type {\n",
              "        vertical-align: middle;\n",
              "    }\n",
              "\n",
              "    .dataframe tbody tr th {\n",
              "        vertical-align: top;\n",
              "    }\n",
              "\n",
              "    .dataframe thead th {\n",
              "        text-align: right;\n",
              "    }\n",
              "</style>\n",
              "<table border=\"1\" class=\"dataframe\">\n",
              "  <thead>\n",
              "    <tr style=\"text-align: right;\">\n",
              "      <th></th>\n",
              "      <th>customer_id</th>\n",
              "      <th>premium</th>\n",
              "      <th>watch_time_hrs</th>\n",
              "    </tr>\n",
              "  </thead>\n",
              "  <tbody>\n",
              "    <tr>\n",
              "      <th>count</th>\n",
              "      <td>20000.000000</td>\n",
              "      <td>20000.000000</td>\n",
              "      <td>20000.000000</td>\n",
              "    </tr>\n",
              "    <tr>\n",
              "      <th>mean</th>\n",
              "      <td>499.001650</td>\n",
              "      <td>0.176750</td>\n",
              "      <td>9.362542</td>\n",
              "    </tr>\n",
              "    <tr>\n",
              "      <th>std</th>\n",
              "      <td>288.223444</td>\n",
              "      <td>0.381467</td>\n",
              "      <td>244.884839</td>\n",
              "    </tr>\n",
              "    <tr>\n",
              "      <th>min</th>\n",
              "      <td>0.000000</td>\n",
              "      <td>0.000000</td>\n",
              "      <td>0.160268</td>\n",
              "    </tr>\n",
              "    <tr>\n",
              "      <th>25%</th>\n",
              "      <td>249.000000</td>\n",
              "      <td>0.000000</td>\n",
              "      <td>1.678066</td>\n",
              "    </tr>\n",
              "    <tr>\n",
              "      <th>50%</th>\n",
              "      <td>500.000000</td>\n",
              "      <td>0.000000</td>\n",
              "      <td>2.670953</td>\n",
              "    </tr>\n",
              "    <tr>\n",
              "      <th>75%</th>\n",
              "      <td>747.000000</td>\n",
              "      <td>0.000000</td>\n",
              "      <td>4.204673</td>\n",
              "    </tr>\n",
              "    <tr>\n",
              "      <th>max</th>\n",
              "      <td>999.000000</td>\n",
              "      <td>1.000000</td>\n",
              "      <td>10007.648185</td>\n",
              "    </tr>\n",
              "  </tbody>\n",
              "</table>\n",
              "</div>\n",
              "      <button class=\"colab-df-convert\" onclick=\"convertToInteractive('df-236f9f6f-c70a-4bcc-bbaa-fc4ac4bcc490')\"\n",
              "              title=\"Convert this dataframe to an interactive table.\"\n",
              "              style=\"display:none;\">\n",
              "        \n",
              "  <svg xmlns=\"http://www.w3.org/2000/svg\" height=\"24px\"viewBox=\"0 0 24 24\"\n",
              "       width=\"24px\">\n",
              "    <path d=\"M0 0h24v24H0V0z\" fill=\"none\"/>\n",
              "    <path d=\"M18.56 5.44l.94 2.06.94-2.06 2.06-.94-2.06-.94-.94-2.06-.94 2.06-2.06.94zm-11 1L8.5 8.5l.94-2.06 2.06-.94-2.06-.94L8.5 2.5l-.94 2.06-2.06.94zm10 10l.94 2.06.94-2.06 2.06-.94-2.06-.94-.94-2.06-.94 2.06-2.06.94z\"/><path d=\"M17.41 7.96l-1.37-1.37c-.4-.4-.92-.59-1.43-.59-.52 0-1.04.2-1.43.59L10.3 9.45l-7.72 7.72c-.78.78-.78 2.05 0 2.83L4 21.41c.39.39.9.59 1.41.59.51 0 1.02-.2 1.41-.59l7.78-7.78 2.81-2.81c.8-.78.8-2.07 0-2.86zM5.41 20L4 18.59l7.72-7.72 1.47 1.35L5.41 20z\"/>\n",
              "  </svg>\n",
              "      </button>\n",
              "      \n",
              "  <style>\n",
              "    .colab-df-container {\n",
              "      display:flex;\n",
              "      flex-wrap:wrap;\n",
              "      gap: 12px;\n",
              "    }\n",
              "\n",
              "    .colab-df-convert {\n",
              "      background-color: #E8F0FE;\n",
              "      border: none;\n",
              "      border-radius: 50%;\n",
              "      cursor: pointer;\n",
              "      display: none;\n",
              "      fill: #1967D2;\n",
              "      height: 32px;\n",
              "      padding: 0 0 0 0;\n",
              "      width: 32px;\n",
              "    }\n",
              "\n",
              "    .colab-df-convert:hover {\n",
              "      background-color: #E2EBFA;\n",
              "      box-shadow: 0px 1px 2px rgba(60, 64, 67, 0.3), 0px 1px 3px 1px rgba(60, 64, 67, 0.15);\n",
              "      fill: #174EA6;\n",
              "    }\n",
              "\n",
              "    [theme=dark] .colab-df-convert {\n",
              "      background-color: #3B4455;\n",
              "      fill: #D2E3FC;\n",
              "    }\n",
              "\n",
              "    [theme=dark] .colab-df-convert:hover {\n",
              "      background-color: #434B5C;\n",
              "      box-shadow: 0px 1px 3px 1px rgba(0, 0, 0, 0.15);\n",
              "      filter: drop-shadow(0px 1px 2px rgba(0, 0, 0, 0.3));\n",
              "      fill: #FFFFFF;\n",
              "    }\n",
              "  </style>\n",
              "\n",
              "      <script>\n",
              "        const buttonEl =\n",
              "          document.querySelector('#df-236f9f6f-c70a-4bcc-bbaa-fc4ac4bcc490 button.colab-df-convert');\n",
              "        buttonEl.style.display =\n",
              "          google.colab.kernel.accessAllowed ? 'block' : 'none';\n",
              "\n",
              "        async function convertToInteractive(key) {\n",
              "          const element = document.querySelector('#df-236f9f6f-c70a-4bcc-bbaa-fc4ac4bcc490');\n",
              "          const dataTable =\n",
              "            await google.colab.kernel.invokeFunction('convertToInteractive',\n",
              "                                                     [key], {});\n",
              "          if (!dataTable) return;\n",
              "\n",
              "          const docLinkHtml = 'Like what you see? Visit the ' +\n",
              "            '<a target=\"_blank\" href=https://colab.research.google.com/notebooks/data_table.ipynb>data table notebook</a>'\n",
              "            + ' to learn more about interactive tables.';\n",
              "          element.innerHTML = '';\n",
              "          dataTable['output_type'] = 'display_data';\n",
              "          await google.colab.output.renderOutput(dataTable, element);\n",
              "          const docLink = document.createElement('div');\n",
              "          docLink.innerHTML = docLinkHtml;\n",
              "          element.appendChild(docLink);\n",
              "        }\n",
              "      </script>\n",
              "    </div>\n",
              "  </div>\n",
              "  "
            ]
          },
          "metadata": {},
          "execution_count": 26
        }
      ]
    },
    {
      "cell_type": "markdown",
      "source": [
        "There as for sure some ouliers as max watch_time_hrs is too large.\n",
        "\n",
        "Here, watch_time_hrs = Dwell time for next 24 hrs."
      ],
      "metadata": {
        "id": "z006q-Iq_YnU"
      }
    },
    {
      "cell_type": "code",
      "source": [
        "# remove extreme values as we dont want them to impact means \n",
        "ab_test_data[\"watch_time_hrs\"].quantile(0.999)\n",
        "\n",
        "# here, we are computing the 99.9th %ile value.\n",
        "# NOTE: only 24 hrs in a day"
      ],
      "metadata": {
        "colab": {
          "base_uri": "https://localhost:8080/"
        },
        "id": "i5hVcXIG_sMM",
        "outputId": "34b3262e-ca44-46f9-ac36-e2c2176b0601"
      },
      "execution_count": 13,
      "outputs": [
        {
          "output_type": "execute_result",
          "data": {
            "text/plain": [
              "26.036198684124518"
            ]
          },
          "metadata": {},
          "execution_count": 13
        }
      ]
    },
    {
      "cell_type": "code",
      "source": [
        "# iterating again for 99.8th %ile value.\n",
        "ab_test_data[\"watch_time_hrs\"].quantile(0.998)"
      ],
      "metadata": {
        "colab": {
          "base_uri": "https://localhost:8080/"
        },
        "id": "2Kmiq78qABJN",
        "outputId": "b3013cba-b8c9-4e62-bf42-7038c3f3ad8e"
      },
      "execution_count": 14,
      "outputs": [
        {
          "output_type": "execute_result",
          "data": {
            "text/plain": [
              "21.356607722117484"
            ]
          },
          "metadata": {},
          "execution_count": 14
        }
      ]
    },
    {
      "cell_type": "code",
      "source": [
        "q998 = ab_test_data[\"watch_time_hrs\"].quantile(0.998)\n",
        "\n",
        "# removing Outliers\n",
        "ab_test_data_no_out = ab_test_data[~(ab_test_data[\"watch_time_hrs\"] > q998)]"
      ],
      "metadata": {
        "id": "bAE8AXV3AR_x"
      },
      "execution_count": 16,
      "outputs": []
    },
    {
      "cell_type": "code",
      "source": [
        "# disb of watch-time\n",
        "sns.histplot(ab_test_data_no_out['watch_time_hrs'], bins=100)\n",
        "plt.show()"
      ],
      "metadata": {
        "colab": {
          "base_uri": "https://localhost:8080/",
          "height": 284
        },
        "id": "O-m0X8YcFTEy",
        "outputId": "2db55117-5787-48f6-b436-3971a4a5042b"
      },
      "execution_count": 17,
      "outputs": [
        {
          "output_type": "display_data",
          "data": {
            "text/plain": [
              "<Figure size 432x288 with 1 Axes>"
            ],
            "image/png": "[encoded data removed]"
          },
          "metadata": {
            "needs_background": "light"
          }
        }
      ]
    },
    {
      "cell_type": "code",
      "source": [
        "#split the data\n",
        "ab_test_control_data = ab_test_data_no_out[ab_test_data_no_out[\"customer_segmnt\"] == \"control\"]\n",
        "ab_test_treatment_data = ab_test_data_no_out[ab_test_data_no_out[\"customer_segmnt\"] == \"treatment\"]"
      ],
      "metadata": {
        "id": "DLzcWieEFZZF"
      },
      "execution_count": 19,
      "outputs": []
    },
    {
      "cell_type": "code",
      "source": [
        "ab_test_control_data.shape"
      ],
      "metadata": {
        "colab": {
          "base_uri": "https://localhost:8080/"
        },
        "id": "e9Gox3XSGTpk",
        "outputId": "a2556f8d-f636-47ad-abb6-3573c7239077"
      },
      "execution_count": 20,
      "outputs": [
        {
          "output_type": "execute_result",
          "data": {
            "text/plain": [
              "(9973, 5)"
            ]
          },
          "metadata": {},
          "execution_count": 20
        }
      ]
    },
    {
      "cell_type": "code",
      "source": [
        "ab_test_treatment_data.shape"
      ],
      "metadata": {
        "colab": {
          "base_uri": "https://localhost:8080/"
        },
        "id": "VvBgIhAGGUcs",
        "outputId": "30dd0441-3ded-48ae-cdeb-4cfe76a176b6"
      },
      "execution_count": 21,
      "outputs": [
        {
          "output_type": "execute_result",
          "data": {
            "text/plain": [
              "(9987, 5)"
            ]
          },
          "metadata": {},
          "execution_count": 21
        }
      ]
    },
    {
      "cell_type": "code",
      "source": [
        "# 2-sample z-test as n1 nad n2 are large.\n",
        "# Refer: https://www.statsmodels.org/dev/generated/statsmodels.stats.weightstats.ztest.html\n",
        "from statsmodels.stats.weightstats import ztest as ztest\n",
        "ztest(ab_test_control_data[\"watch_time_hrs\"], ab_test_treatment_data[\"watch_time_hrs\"])"
      ],
      "metadata": {
        "colab": {
          "base_uri": "https://localhost:8080/"
        },
        "id": "j-HXy34qGXLx",
        "outputId": "a7483f2c-e1a7-4515-ca66-42dab7105d02"
      },
      "execution_count": 24,
      "outputs": [
        {
          "output_type": "execute_result",
          "data": {
            "text/plain": [
              "(15.96034913022092, 2.4137738128170024e-57)"
            ]
          },
          "metadata": {},
          "execution_count": 24
        }
      ]
    },
    {
      "cell_type": "markdown",
      "source": [
        "This returns two parameters\n",
        "\n",
        "(T_observed, p_value)\n",
        "\n",
        "Since p_value is way than than significance value, alpha say even 0.001%.\n",
        "\n",
        "So, we reject out NULL hypothesis that mu1= mu2.\n",
        "\n",
        "And there is observable effect on watch_time_hrs, with introducing 2 adds."
      ],
      "metadata": {
        "id": "ehF_xZe1G4vR"
      }
    },
    {
      "cell_type": "code",
      "source": [
        ""
      ],
      "metadata": {
        "id": "fjHaxFcTHJAv"
      },
      "execution_count": null,
      "outputs": []
    }
  ]
}