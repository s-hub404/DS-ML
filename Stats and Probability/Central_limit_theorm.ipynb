{
  "nbformat": 4,
  "nbformat_minor": 0,
  "metadata": {
    "colab": {
      "name": "Central_limit_theorm.ipynb",
      "provenance": [],
      "collapsed_sections": []
    },
    "kernelspec": {
      "name": "python3",
      "display_name": "Python 3"
    },
    "language_info": {
      "name": "python"
    }
  },
  "cells": [
    {
      "cell_type": "markdown",
      "metadata": {
        "id": "view-in-github"
      },
      "source": [
        "<a href=\"https://colab.research.google.com/github/s-hub404/DS-ML/blob/main/Central_limit_theorm.ipynb\" target=\"_parent\"><img src=\"https://colab.research.google.com/assets/colab-badge.svg\" alt=\"Open In Colab\"/></a>"
      ]
    },
    {
      "cell_type": "code",
      "execution_count": 2,
      "metadata": {
        "id": "7LdVrpyRqON5"
      },
      "outputs": [],
      "source": [
        "import numpy as np\n",
        "import matplotlib.pyplot as plt\n",
        "import scipy.stats as st"
      ]
    },
    {
      "cell_type": "code",
      "source": [
        "#Suppose Toss coin is an event, we know\n",
        "mean = 3.5\n",
        "variance = 35/12\n",
        "\n",
        "# we call 1000 people and ask them to toss 100 times, to collect our samples.\n",
        "sample_size = 100\n",
        "\n",
        "trial_values = []\n",
        "for trial in range(1000):\n",
        "  samples = np.random.randint(1, 7, size= sample_size )\n",
        "  # this contains sample of 100 coin tosses.\n",
        "  sample_mean = np.mean(samples)\n",
        "  trial_values.append(sample_mean)\n",
        "\n",
        "plt.hist(trial_values)\n",
        "plt.show()\n"
      ],
      "metadata": {
        "colab": {
          "base_uri": "https://localhost:8080/",
          "height": 266
        },
        "id": "A5BzKEmXqf9I",
        "outputId": "b830657f-52da-4030-8422-e55256861fbf"
      },
      "execution_count": null,
      "outputs": [
        {
          "output_type": "display_data",
          "data": {
            "text/plain": [
              "<Figure size 432x288 with 1 Axes>"
            ],
            "image/png": "[encoded data removed]"
          },
          "metadata": {
            "needs_background": "light"
          }
        }
      ]
    },
    {
      "cell_type": "code",
      "source": [
        "# The mean distribution of the 1000 samples, follows a Normal distribution, given (no of trials) >= 30.\n",
        "# where mean of population is nearly equal to the mean of dist. of samples.\n",
        "\n",
        "print('Actual mean :', mean)\n",
        "print('Sample mean :', np.mean(trial_values))"
      ],
      "metadata": {
        "colab": {
          "base_uri": "https://localhost:8080/"
        },
        "id": "TItYq1y4skQS",
        "outputId": "3f7bf5b0-dfe9-4e41-9baf-aa00a4817087"
      },
      "execution_count": null,
      "outputs": [
        {
          "output_type": "stream",
          "name": "stdout",
          "text": [
            "Actual mean : 3.5\n",
            "Sample mean : 3.49832\n"
          ]
        }
      ]
    },
    {
      "cell_type": "code",
      "source": [
        "from scipy.stats import norm"
      ],
      "metadata": {
        "id": "aE4k_T7wthYa"
      },
      "execution_count": null,
      "outputs": []
    },
    {
      "cell_type": "markdown",
      "source": [
        "Problem:\n",
        "\n",
        "The first assessment in a statistical class involves computing a short program. If past experience indicates that 30% of all students will make no errors in the program, use an appropriate normal approximation to compute the probability that in a class of 70 students at least 28 will make no errors.\n",
        "\n",
        "The options are rounded off to two decimal places."
      ],
      "metadata": {
        "id": "5zubfFYHzuWr"
      }
    },
    {
      "cell_type": "code",
      "source": [
        "# we assume the sample mean, and var from the given pop.\n",
        "mu_sample = 70*0.3\n",
        "var_sample = 70*0.3*0.7\n",
        "# where X we take as Random var of no of students with no error\n",
        "\n",
        "prob_X_least_28 = 1 - norm.cdf((28-mu_sample)/np.sqrt(var_sample))\n",
        "# P(X >= 28) ~ 1 - P(X < 28)\n",
        "\n",
        "np.round(prob_X_least_28, decimals = 3)"
      ],
      "metadata": {
        "colab": {
          "base_uri": "https://localhost:8080/"
        },
        "id": "5MAg3oJx2wCC",
        "outputId": "d8a94cc6-7b17-4221-b5bc-6b517e6af7e4"
      },
      "execution_count": null,
      "outputs": [
        {
          "output_type": "execute_result",
          "data": {
            "text/plain": [
              "0.034"
            ]
          },
          "metadata": {},
          "execution_count": 10
        }
      ]
    },
    {
      "cell_type": "markdown",
      "source": [
        "Problem 2:\n",
        "\n",
        "The tip percentage for a delivery person has a mean value of 28% and a standard deviation of 7%. What is the probability that the sample mean tip percentage for a random sample of 50 bills is between 26 and 31%?\n",
        "\n"
      ],
      "metadata": {
        "id": "3zyB3sLCLlrH"
      }
    },
    {
      "cell_type": "code",
      "source": [
        "mu_sample = 0.28\n",
        "std_sample = 0.07/np.sqrt(50)\n",
        "x1 = (.26 - mu_sample)/std_sample\n",
        "x2 = (.31 - mu_sample)/std_sample\n",
        "\n",
        "prob = norm.cdf(x2) - norm.cdf(x1)\n",
        "\n",
        "np.round(prob, decimals =3)"
      ],
      "metadata": {
        "colab": {
          "base_uri": "https://localhost:8080/"
        },
        "id": "ekrSDLYxMMh2",
        "outputId": "0f2b8bb7-cf8e-46e5-d404-791e2d2f8bf0"
      },
      "execution_count": null,
      "outputs": [
        {
          "output_type": "execute_result",
          "data": {
            "text/plain": [
              "0.977"
            ]
          },
          "metadata": {},
          "execution_count": 25
        }
      ]
    },
    {
      "cell_type": "markdown",
      "source": [
        "Problem 3:\n",
        "\n",
        "A factory that makes led light bulbs that have a life which is normally distributed, with mean equal to 900 hours and a standard deviation of 50 hours. Find the probability that a random sample of 20 bulbs will have an average life of less than 875 hours."
      ],
      "metadata": {
        "id": "qtfuculASQOZ"
      }
    },
    {
      "cell_type": "code",
      "source": [
        "mean_sample = 900\n",
        "std_sample = 50/np.sqrt(20)\n",
        "\n",
        "# let X_bar be the sample mean of some sample, we need to find P(X_bar < 875)\n",
        "# converting this to standard Normal.\n",
        "\n",
        "prob = norm.cdf((875 - mean_sample)/std_sample)\n",
        "# The sampling distribution of xbar will be approximately normal, with μ = 900 and sd(x) = 50/√20 = 11.18.\n",
        "# Corresponding to xbar = 875, we find that z = 875 − 900 /11.18 = -2.236 , and therefore P(X < 875) = P(Z < -2.236) = 0.01267\n",
        "prob"
      ],
      "metadata": {
        "colab": {
          "base_uri": "https://localhost:8080/"
        },
        "id": "IoEU-dXCP9t6",
        "outputId": "be8afb70-30d8-4800-dac7-371cf144e328"
      },
      "execution_count": null,
      "outputs": [
        {
          "output_type": "execute_result",
          "data": {
            "text/plain": [
              "0.012673659338734126"
            ]
          },
          "metadata": {},
          "execution_count": 3
        }
      ]
    },
    {
      "cell_type": "code",
      "source": [
        "# suppose mu = 100, sigma = 15 for the pop of IQ of peoples,\n",
        "# what is the person IQ be so that he is in top 20%.\n",
        "\n",
        "mu, sigma = 100, 15\n",
        "\n",
        "# X be the random var gives IQ.\n",
        "\n",
        "X = norm.ppf(0.8)\n",
        "X\n",
        "\n"
      ],
      "metadata": {
        "colab": {
          "base_uri": "https://localhost:8080/"
        },
        "id": "wi7cNZWGpT2_",
        "outputId": "c72ec41f-dbb1-4590-e22e-4c821d45f0fb"
      },
      "execution_count": null,
      "outputs": [
        {
          "output_type": "execute_result",
          "data": {
            "text/plain": [
              "0.8416212335729143"
            ]
          },
          "metadata": {},
          "execution_count": 4
        }
      ]
    },
    {
      "cell_type": "markdown",
      "source": [
        "**Problem**:\n",
        "\n",
        "You are working for the Department of Endangered Species. Along with your team, you have bred a certain species of endangered fish. On taking a sample of 100 fishes, the calculated average length of this species came out to be 24 and the standard deviation came out to be 8.\n",
        "Your task is to estimate, with 95 percent confidence, the mean length confidence interval of the fishes in the pond.\n",
        "\n",
        "Note: z-multiplier for 95% is 1.96"
      ],
      "metadata": {
        "id": "djr75o2VSMWN"
      }
    },
    {
      "cell_type": "code",
      "source": [
        "m = 24\n",
        "s = 8\n",
        "n = 100\n",
        "\n",
        "interval_range = st.norm.interval(alpha=0.95, loc = m, scale = s/np.sqrt(n))\n",
        "interval_range"
      ],
      "metadata": {
        "colab": {
          "base_uri": "https://localhost:8080/"
        },
        "id": "Oxuxj0v4SQUW",
        "outputId": "19123445-4b29-442c-e736-b73c9f1a5890"
      },
      "execution_count": 6,
      "outputs": [
        {
          "output_type": "execute_result",
          "data": {
            "text/plain": [
              "(22.432028812367957, 25.567971187632043)"
            ]
          },
          "metadata": {},
          "execution_count": 6
        }
      ]
    },
    {
      "cell_type": "markdown",
      "source": [
        "**Theoretical** **explanation**:\n",
        "\n",
        "From the data, we know\n",
        "n = 100\n",
        "std. dev = 8\n",
        "z-multiplier for 95% confidence level = 1.96\n",
        "average length, x = 24\n",
        "\n",
        "margin error = z-multiplier x std /√n\n",
        "margin error = 1.96 * 8 / √100 = 15.68/10 = 1.568\n",
        "\n",
        "The confidence interval will be, x ± margin error = 24 ± 1.568 = [22.432, 25.568]\n",
        "\n"
      ],
      "metadata": {
        "id": "458TtnGKT4yk"
      }
    },
    {
      "cell_type": "code",
      "source": [
        "## calculating this z-multiplier\n",
        "# we standardize our data after which say we have mean = 0, std = 1\n",
        "\n",
        "mean = 0\n",
        "std = 1\n",
        "\n",
        "# z-multiplier for 95%\n",
        "z = st.norm.ppf(.975)\n",
        "# 95% confidence interval lies within (2.5 and 97.5) %ile range.\n",
        "print('Z-multiplier value:', np.round(z,2))"
      ],
      "metadata": {
        "colab": {
          "base_uri": "https://localhost:8080/"
        },
        "id": "SJz-Bv7sUCEU",
        "outputId": "7def8cb4-2606-4c2c-8057-22a7c14fbce7"
      },
      "execution_count": 11,
      "outputs": [
        {
          "output_type": "stream",
          "name": "stdout",
          "text": [
            "Z-multiplier value: 1.96\n"
          ]
        }
      ]
    }
  ]
}