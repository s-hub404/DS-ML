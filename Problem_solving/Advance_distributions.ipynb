{
  "nbformat": 4,
  "nbformat_minor": 0,
  "metadata": {
    "colab": {
      "name": "Advance_distributions.ipynb",
      "provenance": [],
      "collapsed_sections": [],
      "authorship_tag": "ABX9TyOVMruY2q+Dp3x3E45Jw9wk",
      "include_colab_link": true
    },
    "kernelspec": {
      "name": "python3",
      "display_name": "Python 3"
    },
    "language_info": {
      "name": "python"
    }
  },
  "cells": [
    {
      "cell_type": "markdown",
      "metadata": {
        "id": "view-in-github",
        "colab_type": "text"
      },
      "source": [
        "<a href=\"https://colab.research.google.com/github/s-hub404/DS-ML/blob/main/Problem_solving/Advance_distributions.ipynb\" target=\"_parent\"><img src=\"https://colab.research.google.com/assets/colab-badge.svg\" alt=\"Open In Colab\"/></a>"
      ]
    },
    {
      "cell_type": "code",
      "execution_count": 3,
      "metadata": {
        "id": "DiuNP_Wve5E1"
      },
      "outputs": [],
      "source": [
        "import numpy as np\n",
        "import pandas as pd\n",
        "import scipy.stats as sc"
      ]
    },
    {
      "cell_type": "markdown",
      "source": [
        "Problem:\n",
        "\n",
        "0.02% of credit card holders of a company report theft of their credit cards each month. The company has a total 15,000 credit cards.\n",
        "\n",
        "a. What is the probability that no one reports theft of credit cards during the next month?\n",
        "\n",
        "b. Determine the expected number of reported stolen credit cards in a month."
      ],
      "metadata": {
        "id": "9pFaOHjJf4g2"
      }
    },
    {
      "cell_type": "code",
      "source": [
        "# This problem relates to Poisson's dist. as we want No. of events during a period.\n",
        "\n",
        "mu = 0.0002*15000\n",
        "# constant rate of occurnace\n",
        "\n",
        "# for no reports of theft , k = 0\n",
        "k = 0\n",
        "prob_1 = sc.poisson.cdf(k, mu)\n",
        "print('Probability a: ',prob_1)\n",
        "\n",
        "ans_b = 0.0002*15000\n",
        "print('Answer part b: ', ans_b)"
      ],
      "metadata": {
        "colab": {
          "base_uri": "https://localhost:8080/"
        },
        "id": "73aQExs-gFhJ",
        "outputId": "6789cae7-d3c1-4c28-e65b-9845da900dbd"
      },
      "execution_count": 11,
      "outputs": [
        {
          "output_type": "stream",
          "name": "stdout",
          "text": [
            "Probability a:  0.04978706836786395\n",
            "Answer part b:  3.0\n"
          ]
        }
      ]
    },
    {
      "cell_type": "markdown",
      "source": [
        "Theoritical explanation:\n",
        "\n",
        "Population proportion, p = 0.0002\n",
        "Sample size, n = 15000\n",
        "\n",
        "Let “x” represents the number of cards stolen then the mean number of cards stolen per 15000 cards: λ=np=3\n",
        "\n",
        "a. The probability that no one reports the loss or theft of his or her credit cards: P(x=0) = (e−3)*(30)/0! ≅ 0.0498\n",
        "\n",
        "b. The expected number of reported lost or stolen credit cards, μ=λ=3."
      ],
      "metadata": {
        "id": "76IoDdtQktAn"
      }
    },
    {
      "cell_type": "markdown",
      "source": [
        "Problem:\n",
        "\n",
        "During a pandemic, a pharmaceutical company was able to successfully engineer a drug to be able to fight the virus. But, the probability of manufacturing the drug successfully was 40% on each independent production process. Based on this data, what would be the probability of successfully manufacturing the drug in less than 7 production processes?"
      ],
      "metadata": {
        "id": "ntZnc7-Gkzfs"
      }
    },
    {
      "cell_type": "code",
      "source": [
        "# This is also a case of Geometric distributions.\n",
        "# The geometric distribution describes the probability of experiencing \n",
        "# a certain amount of failures before experiencing the first success in a series of Bernoulli trials.\n",
        "\n",
        "p = 0.4\n",
        "\n",
        "# Prob. of successfully manufacture a drug in less than 7 trials.\n",
        "# i.e we have 6 failures before a success.\n",
        "k = 6\n",
        "prob = sc.geom.cdf(k, p)\n",
        "prob"
      ],
      "metadata": {
        "colab": {
          "base_uri": "https://localhost:8080/"
        },
        "id": "JTvP5Vrpnx_h",
        "outputId": "a664fa9a-183f-40ad-b554-b66053b3b2be"
      },
      "execution_count": 16,
      "outputs": [
        {
          "output_type": "execute_result",
          "data": {
            "text/plain": [
              "0.953344"
            ]
          },
          "metadata": {},
          "execution_count": 16
        }
      ]
    },
    {
      "cell_type": "markdown",
      "source": [
        "Theoretical explanation:\n",
        "\n",
        "Given, probability of success = 40%\n",
        "p = 0.4\n",
        "q = 1-p=0.6\n",
        "It’s asked, what is the probability of succesfully manufacturing in less than 7 trials\n",
        "So, P(X < 7)\n",
        "We can understand from the problem statement that it’s a geometric distribution.\n",
        "Now,\n",
        "P(X < 7) = P(X = 1) + P(X = 2) + ….. P(X = 6)\n",
        "= p * q(1-1) + p * q(2-1) + …… p * q(6-1)\n",
        "\n"
      ],
      "metadata": {
        "id": "6ku2QVJBqIlb"
      }
    },
    {
      "cell_type": "code",
      "source": [
        ""
      ],
      "metadata": {
        "id": "2dpDXQXNqQow"
      },
      "execution_count": null,
      "outputs": []
    }
  ]
}