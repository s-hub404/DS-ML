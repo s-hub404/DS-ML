{
  "nbformat": 4,
  "nbformat_minor": 0,
  "metadata": {
    "colab": {
      "name": "Advance_distributions.ipynb",
      "provenance": [],
      "collapsed_sections": []
    },
    "kernelspec": {
      "name": "python3",
      "display_name": "Python 3"
    },
    "language_info": {
      "name": "python"
    }
  },
  "cells": [
    {
      "cell_type": "code",
      "execution_count": null,
      "metadata": {
        "id": "DiuNP_Wve5E1"
      },
      "outputs": [],
      "source": [
        "import numpy as np\n",
        "import pandas as pd\n",
        "import scipy.stats as sc"
      ]
    },
    {
      "cell_type": "markdown",
      "source": [
        "Problem:\n",
        "\n",
        "0.02% of credit card holders of a company report theft of their credit cards each month. The company has a total 15,000 credit cards.\n",
        "\n",
        "a. What is the probability that no one reports theft of credit cards during the next month?\n",
        "\n",
        "b. Determine the expected number of reported stolen credit cards in a month."
      ],
      "metadata": {
        "id": "9pFaOHjJf4g2"
      }
    },
    {
      "cell_type": "code",
      "source": [
        "# This problem relates to Poisson's dist. as we want No. of events during a period.\n",
        "\n",
        "mu = 0.0002*15000\n",
        "# constant rate of occurnace\n",
        "\n",
        "# for no reports of theft , k = 0\n",
        "k = 0\n",
        "prob_1 = sc.poisson.pmf(k, mu)\n",
        "print('Probability a: ',prob_1)\n",
        "\n",
        "ans_b = 0.0002*15000\n",
        "print('Answer part b: ', ans_b)"
      ],
      "metadata": {
        "colab": {
          "base_uri": "https://localhost:8080/"
        },
        "id": "73aQExs-gFhJ",
        "outputId": "06b95da2-bcef-4817-8eb6-e745d162bf16"
      },
      "execution_count": null,
      "outputs": [
        {
          "output_type": "stream",
          "name": "stdout",
          "text": [
            "Probability a:  0.049787068367863944\n",
            "Answer part b:  3.0\n"
          ]
        }
      ]
    },
    {
      "cell_type": "markdown",
      "source": [
        "Theoritical explanation:\n",
        "\n",
        "Population proportion, p = 0.0002\n",
        "Sample size, n = 15000\n",
        "\n",
        "Let “x” represents the number of cards stolen then the mean number of cards stolen per 15000 cards: λ=np=3\n",
        "\n",
        "a. The probability that no one reports the loss or theft of his or her credit cards: P(x=0) = (e−3)*(30)/0! ≅ 0.0498\n",
        "\n",
        "b. The expected number of reported lost or stolen credit cards, μ=λ=3."
      ],
      "metadata": {
        "id": "76IoDdtQktAn"
      }
    },
    {
      "cell_type": "markdown",
      "source": [
        "Problem:\n",
        "\n",
        "During a pandemic, a pharmaceutical company was able to successfully engineer a drug to be able to fight the virus. But, the probability of manufacturing the drug successfully was 40% on each independent production process. Based on this data, what would be the probability of successfully manufacturing the drug in less than 7 production processes?"
      ],
      "metadata": {
        "id": "ntZnc7-Gkzfs"
      }
    },
    {
      "cell_type": "code",
      "source": [
        "# This is also a case of Geometric distributions.\n",
        "# The geometric distribution describes the probability of experiencing \n",
        "# a certain amount of failures before experiencing the first success in a series of Bernoulli trials.\n",
        "\n",
        "p = 0.4\n",
        "\n",
        "# Prob. of successfully manufacture a drug in less than 7 trials.\n",
        "# i.e we have 6 failures before a success.\n",
        "k = 6\n",
        "prob = sc.geom.cdf(k, p)\n",
        "prob"
      ],
      "metadata": {
        "colab": {
          "base_uri": "https://localhost:8080/"
        },
        "id": "JTvP5Vrpnx_h",
        "outputId": "a664fa9a-183f-40ad-b554-b66053b3b2be"
      },
      "execution_count": null,
      "outputs": [
        {
          "output_type": "execute_result",
          "data": {
            "text/plain": [
              "0.953344"
            ]
          },
          "metadata": {},
          "execution_count": 16
        }
      ]
    },
    {
      "cell_type": "markdown",
      "source": [
        "Theoretical explanation:\n",
        "\n",
        "Given, probability of success = 40%\n",
        "p = 0.4\n",
        "q = 1-p=0.6\n",
        "It’s asked, what is the probability of succesfully manufacturing in less than 7 trials\n",
        "So, P(X < 7)\n",
        "We can understand from the problem statement that it’s a geometric distribution.\n",
        "Now,\n",
        "P(X < 7) = P(X = 1) + P(X = 2) + ….. P(X = 6)\n",
        "= p * q(1-1) + p * q(2-1) + …… p * q(6-1)\n",
        "\n"
      ],
      "metadata": {
        "id": "6ku2QVJBqIlb"
      }
    },
    {
      "cell_type": "markdown",
      "source": [
        "Problem:\n",
        "\n",
        "An observer counts 240 vehicles per hour (3600 seconds) at a specific vehicle arrival location on a highway. Assume that the arrivals are Poisson distributed. What is the probability of one vehicle arriving over a 30 second time interval?"
      ],
      "metadata": {
        "id": "2dpDXQXNqQow"
      }
    },
    {
      "cell_type": "code",
      "source": [
        "# For poisson dist. we have underlying rate of occurance for given period.\n",
        "# i.e lambda for 30 secs.\n",
        "\n",
        "mu = (240/3600)*30\n",
        "k = 1\n",
        "prob = sc.poisson.pmf(k, mu)\n",
        "prob"
      ],
      "metadata": {
        "colab": {
          "base_uri": "https://localhost:8080/"
        },
        "id": "EBzcqlXjAegw",
        "outputId": "8e7c85f8-5756-4661-c13c-384ffaf810c0"
      },
      "execution_count": null,
      "outputs": [
        {
          "output_type": "execute_result",
          "data": {
            "text/plain": [
              "0.2706705664732254"
            ]
          },
          "metadata": {},
          "execution_count": 9
        }
      ]
    },
    {
      "cell_type": "markdown",
      "source": [
        "Problem:\n",
        "\n",
        "Suppose that the number of packages delivered between a particular origin and destination during a designated time period follows a poisson distribution with mean value as 24.What is the probability that the number of packages will be within 2 standard deviations of the mean value?"
      ],
      "metadata": {
        "id": "_KFvHWnPBy9v"
      }
    },
    {
      "cell_type": "code",
      "source": [
        "mu = 24\n",
        "std = np.sqrt(mu)\n",
        "\n",
        "prob = sc.poisson.cdf(mu + 2*std, mu) - sc.poisson.cdf(mu - 2*std, mu)\n",
        "prob"
      ],
      "metadata": {
        "colab": {
          "base_uri": "https://localhost:8080/"
        },
        "id": "IC9K6I8uB4BE",
        "outputId": "8658ceeb-864d-4a3d-d826-45388266f88f"
      },
      "execution_count": null,
      "outputs": [
        {
          "output_type": "execute_result",
          "data": {
            "text/plain": [
              "0.9487918396869222"
            ]
          },
          "metadata": {},
          "execution_count": 11
        }
      ]
    },
    {
      "cell_type": "markdown",
      "source": [
        "Problem:\n",
        "\n",
        "Suppose that trees are distributed in a forest according to a Poisson process with rate λ per acre. The expected number of trees per acre is equal to 74. What is the probability that in a certain quarter-acre plot, there will be at most 15 trees ? What is the probability that in a certain quarter-acre plot, there will be at least 7 trees ?"
      ],
      "metadata": {
        "id": "hW4oPGifDuda"
      }
    },
    {
      "cell_type": "code",
      "source": [
        "# for quarter acre, we divide by 4\n",
        "mu = 74/4\n",
        "\n",
        "prob1 = sc.poisson.cdf(15, mu)\n",
        "print(prob1)\n",
        "\n",
        "prob2 = 1 - sc.poisson.cdf(6, mu)\n",
        "print(prob2)"
      ],
      "metadata": {
        "colab": {
          "base_uri": "https://localhost:8080/"
        },
        "id": "tTfLAxB4DxbL",
        "outputId": "0b70a0ae-5d12-4b55-ee10-0b048cb154a6"
      },
      "execution_count": null,
      "outputs": [
        {
          "output_type": "stream",
          "name": "stdout",
          "text": [
            "0.24902769151284776\n",
            "0.9992622541111789\n"
          ]
        }
      ]
    },
    {
      "cell_type": "markdown",
      "source": [
        "Problem:\n",
        "\n",
        "You go to a party with 500 guests. What is the probability that exactly one other guest has the same birthday as you?"
      ],
      "metadata": {
        "id": "J656km0iFMnM"
      }
    },
    {
      "cell_type": "code",
      "source": [
        "# lambda here is over a period of one day.\n",
        "mu = 500/365\n",
        "\n",
        "k = 1\n",
        "\n",
        "prob = sc.poisson.pmf(k, mu)\n",
        "prob"
      ],
      "metadata": {
        "colab": {
          "base_uri": "https://localhost:8080/"
        },
        "id": "V2ORSL3CFPSA",
        "outputId": "05eb4b1c-ca3b-4bf2-8ee2-7a89c4e15dd0"
      },
      "execution_count": null,
      "outputs": [
        {
          "output_type": "execute_result",
          "data": {
            "text/plain": [
              "0.3481394124789597"
            ]
          },
          "metadata": {},
          "execution_count": 14
        }
      ]
    }
  ]
}